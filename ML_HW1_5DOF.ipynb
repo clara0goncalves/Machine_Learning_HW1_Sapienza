{
  "nbformat": 4,
  "nbformat_minor": 0,
  "metadata": {
    "colab": {
      "provenance": []
    },
    "kernelspec": {
      "name": "python3",
      "display_name": "Python 3"
    },
    "language_info": {
      "name": "python"
    }
  },
  "cells": [
    {
      "cell_type": "markdown",
      "source": [
        "## 0. Install Dependecies"
      ],
      "metadata": {
        "id": "uYkosDKjN6-x"
      }
    },
    {
      "cell_type": "code",
      "source": [
        "pip install torch"
      ],
      "metadata": {
        "id": "bA3-dNGdN6VD",
        "colab": {
          "base_uri": "https://localhost:8080/"
        },
        "outputId": "ec4a7ce1-632e-406a-a49b-d93e1608c341"
      },
      "execution_count": 1,
      "outputs": [
        {
          "output_type": "stream",
          "name": "stdout",
          "text": [
            "Requirement already satisfied: torch in /usr/local/lib/python3.10/dist-packages (2.5.1+cu121)\n",
            "Requirement already satisfied: filelock in /usr/local/lib/python3.10/dist-packages (from torch) (3.16.1)\n",
            "Requirement already satisfied: typing-extensions>=4.8.0 in /usr/local/lib/python3.10/dist-packages (from torch) (4.12.2)\n",
            "Requirement already satisfied: networkx in /usr/local/lib/python3.10/dist-packages (from torch) (3.4.2)\n",
            "Requirement already satisfied: jinja2 in /usr/local/lib/python3.10/dist-packages (from torch) (3.1.4)\n",
            "Requirement already satisfied: fsspec in /usr/local/lib/python3.10/dist-packages (from torch) (2024.10.0)\n",
            "Requirement already satisfied: sympy==1.13.1 in /usr/local/lib/python3.10/dist-packages (from torch) (1.13.1)\n",
            "Requirement already satisfied: mpmath<1.4,>=1.1.0 in /usr/local/lib/python3.10/dist-packages (from sympy==1.13.1->torch) (1.3.0)\n",
            "Requirement already satisfied: MarkupSafe>=2.0 in /usr/local/lib/python3.10/dist-packages (from jinja2->torch) (3.0.2)\n"
          ]
        }
      ]
    },
    {
      "cell_type": "markdown",
      "source": [
        "**Import libraries**"
      ],
      "metadata": {
        "id": "BaBjTEuIRHsg"
      }
    },
    {
      "cell_type": "code",
      "source": [
        "import torch\n",
        "import torch.nn as nn\n",
        "import torch.optim as optim\n",
        "import numpy as np\n",
        "import pandas as pd\n",
        "import matplotlib.pyplot as plt\n",
        "import random\n",
        "from sklearn.model_selection import train_test_split, GridSearchCV\n",
        "from sklearn.preprocessing import StandardScaler\n",
        "from sklearn.metrics import mean_absolute_error, mean_squared_error, r2_score\n",
        "from sklearn.base import BaseEstimator, RegressorMixin"
      ],
      "metadata": {
        "id": "7jsLAS7jRJ2-"
      },
      "execution_count": 2,
      "outputs": []
    },
    {
      "cell_type": "markdown",
      "source": [
        "Set Random seed"
      ],
      "metadata": {
        "id": "yjSuYi7hlpEB"
      }
    },
    {
      "cell_type": "code",
      "source": [
        "# Set random seed for reproducibility\n",
        "seed = 42\n",
        "random.seed(seed)  # Python random module\n",
        "np.random.seed(seed)  # NumPy\n",
        "torch.manual_seed(seed)  # PyTorch\n",
        "\n",
        "# If you're using GPU, set the deterministic flag\n",
        "if torch.cuda.is_available():\n",
        "    torch.cuda.manual_seed(seed)\n",
        "    torch.backends.cudnn.deterministic = True\n",
        "    torch.backends.cudnn.benchmark = False"
      ],
      "metadata": {
        "id": "oRmxPpCJloLq"
      },
      "execution_count": 3,
      "outputs": []
    },
    {
      "cell_type": "markdown",
      "source": [
        "**Set device to GPU if is available otherwise set device as cpu**"
      ],
      "metadata": {
        "id": "83S06ig1RMKa"
      }
    },
    {
      "cell_type": "code",
      "source": [
        "import torch\n",
        "# Check if GPU is available, otherwise use CPU\n",
        "device = torch.device(\"cuda\" if torch.cuda.is_available() else \"cpu\")\n",
        "print(f\"Using device: {device}\")"
      ],
      "metadata": {
        "id": "1IX6jLICPN4c",
        "colab": {
          "base_uri": "https://localhost:8080/"
        },
        "outputId": "40db29c1-3651-4489-e627-63c0c7b2e9a5"
      },
      "execution_count": 4,
      "outputs": [
        {
          "output_type": "stream",
          "name": "stdout",
          "text": [
            "Using device: cpu\n"
          ]
        }
      ]
    },
    {
      "cell_type": "markdown",
      "source": [
        "##1. Dataset##\n",
        "\n",
        "- The Datatset used in this project was generated using the Mujoco simulator with three different configurations:\n",
        "- 2D (2 joints)\n",
        "- 2D (3 joints)\n",
        "- 3D (5 joints)\n",
        "\n",
        "The format of the data is in CSV format, including information about Joint angles, fingertip position, and orientation.\n",
        "\n",
        "This Notebook will focus on the 5DOF Robot dataset.\n"
      ],
      "metadata": {
        "id": "hIO0AeMWIExL"
      }
    },
    {
      "cell_type": "markdown",
      "source": [
        "1.1. Visualise data from the simulator"
      ],
      "metadata": {
        "id": "0_uqRtyhJDj6"
      }
    },
    {
      "cell_type": "code",
      "source": [
        "!head -5 logfiler5.csv"
      ],
      "metadata": {
        "id": "6VflkHGKJDRC",
        "colab": {
          "base_uri": "https://localhost:8080/"
        },
        "outputId": "36818c11-487c-46dd-f860-78f3f2b0bf68"
      },
      "execution_count": 5,
      "outputs": [
        {
          "output_type": "stream",
          "name": "stdout",
          "text": [
            "j0;j1;j2;j3;j4;cos(j0);cos(j1);cos(j2);cos(j3);cos(j4);sin(j0);sin(j1);sin(j2);sin(j3);sin(j4);ft_x;ft_y;ft_z;ft_qw;ft_qx;ft_qy;ft_qz\n",
            " 0.000;  0.000;  0.000;  0.000;  0.000;  1.000;  1.000;  1.000;  1.000;  1.000;  0.000;  0.000;  0.000;  0.000;  0.000;  0.000;  0.000;  0.590;  1.000;  0.000;  0.000;  0.000\n",
            " 0.022; -0.005;  0.028;  0.016; -0.032;  1.000;  1.000;  1.000;  1.000;  0.999;  0.022; -0.005;  0.028;  0.016; -0.032;  0.011;  0.004;  0.590;  1.000; -0.016;  0.019;  0.011\n",
            " 0.103;  0.005;  0.107;  0.017; -0.100;  0.995;  1.000;  0.994;  1.000;  0.995;  0.102;  0.005;  0.106;  0.017; -0.099;  0.041;  0.016;  0.587;  0.995; -0.053;  0.061;  0.054\n",
            " 0.209;  0.067;  0.216;  0.013; -0.174;  0.978;  0.998;  0.977;  1.000;  0.985;  0.208;  0.067;  0.215;  0.013; -0.173;  0.100;  0.042;  0.573;  0.979; -0.101;  0.138;  0.116\n"
          ]
        }
      ]
    },
    {
      "cell_type": "markdown",
      "source": [
        "1.2. Preprocess the data\n"
      ],
      "metadata": {
        "id": "rbfjJsgxJI80"
      }
    },
    {
      "cell_type": "markdown",
      "source": [
        "2R Robot"
      ],
      "metadata": {
        "id": "aCM-EXuFQxkU"
      }
    },
    {
      "cell_type": "code",
      "execution_count": 24,
      "metadata": {
        "id": "dJxB_FilEapT"
      },
      "outputs": [],
      "source": [
        "# Load dataset\n",
        "data = pd.read_csv('logfiler5.csv', delimiter=';')\n",
        "\n",
        "# Preprocessing: Extract inputs (joint angles and their trigonometric functions) and outputs (fingertip positions and quaternions)\n",
        "X = data[['j0', 'j1', 'j2', 'j3', 'j3','cos(j0)', 'cos(j1)', 'cos(j2)', 'cos(j3)', 'cos(j4)','sin(j0)', 'sin(j1)', 'sin(j2)', 'sin(j3)', 'sin(j4)']].values\n",
        "y = data[['ft_x' ,'ft_y','ft_z' ,'ft_qw','ft_qx','ft_qy','ft_qz']].values\n",
        "\n",
        "# Normalize input features\n",
        "scaler = StandardScaler()\n",
        "X_scaled = scaler.fit_transform(X)"
      ]
    },
    {
      "cell_type": "markdown",
      "source": [
        "- Split the data into training and testing sets"
      ],
      "metadata": {
        "id": "a_UHnh5KJX6W"
      }
    },
    {
      "cell_type": "code",
      "source": [
        "# Split data into training, validation, and testing sets\n",
        "X_train, X_temp, y_train, y_temp = train_test_split(X_scaled, y, test_size=0.3, random_state=42)\n",
        "X_val, X_test, y_val, y_test = train_test_split(X_temp, y_temp, test_size=0.5, random_state=42)\n",
        "\n",
        "# Convert to PyTorch tensors\n",
        "X_train = torch.tensor(X_train, dtype=torch.float32)\n",
        "y_train = torch.tensor(y_train, dtype=torch.float32)\n",
        "X_val = torch.tensor(X_val, dtype=torch.float32)\n",
        "y_val = torch.tensor(y_val, dtype=torch.float32)\n",
        "X_test = torch.tensor(X_test, dtype=torch.float32)\n",
        "y_test = torch.tensor(y_test, dtype=torch.float32)"
      ],
      "metadata": {
        "id": "jze3VIDOQ_aq"
      },
      "execution_count": 25,
      "outputs": []
    },
    {
      "cell_type": "markdown",
      "source": [
        "##2. Train Forward Kinematics Models##\n",
        "\n"
      ],
      "metadata": {
        "id": "gcdL1pWYJNsM"
      }
    },
    {
      "cell_type": "markdown",
      "source": [
        "### 2.1. Robot 3DOF"
      ],
      "metadata": {
        "id": "LIaJ6J5pOJey"
      }
    },
    {
      "cell_type": "markdown",
      "source": [
        "- Define the architecture of the model (Feedforward Neural Network) to learn forward kinematics.\n",
        "\n",
        "\n"
      ],
      "metadata": {
        "id": "1yDUGGEzJSao"
      }
    },
    {
      "cell_type": "code",
      "source": [
        "# Hyperparameters\n",
        "hidden_size = 64\n",
        "learning_rate = 0.001\n",
        "num_epochs = 300"
      ],
      "metadata": {
        "id": "fz1ipjrTwD-y"
      },
      "execution_count": 33,
      "outputs": []
    },
    {
      "cell_type": "code",
      "source": [
        "class ForwardKinematicsModel(nn.Module):\n",
        "    def __init__(self, hidden_size, dropout_rate=0.3):\n",
        "        super(ForwardKinematicsModel, self).__init__()\n",
        "        # Define a feedforward network with configurable hidden_size and dropout\n",
        "        self.fc1 = nn.Linear(15, hidden_size)  # Input layer\n",
        "        self.dropout1 = nn.Dropout(p=dropout_rate)    # Dropout after first hidden layer\n",
        "        self.fc2 = nn.Linear(hidden_size, hidden_size)  # Second hidden layer\n",
        "        self.dropout2 = nn.Dropout(p=dropout_rate)    # Dropout after second hidden layer\n",
        "        self.fc3 = nn.Linear(hidden_size, hidden_size)  # Output layer\n",
        "        self.dropout2 = nn.Dropout(p=dropout_rate)    # Dropout after second hidden layer\n",
        "        self.fc4 = nn.Linear(hidden_size, hidden_size)  # Output layer\n",
        "        self.dropout2 = nn.Dropout(p=dropout_rate)    # Dropout after second hidden layer\n",
        "        self.fc5 = nn.Linear(hidden_size, hidden_size)  # Output layer\n",
        "        self.dropout2 = nn.Dropout(p=dropout_rate)    # Dropout after second hidden layer\n",
        "        self.fc6 = nn.Linear(hidden_size, 7)  # Output layer\n",
        "\n",
        "    def forward(self, x):\n",
        "        x = torch.relu(self.fc1(x))\n",
        "        x = self.dropout1(x)  # Apply dropout after first hidden layer\n",
        "        x = torch.relu(self.fc2(x))\n",
        "        x = self.dropout2(x)  # Apply dropout after second hidden layer\n",
        "        x = self.fc6(x)\n",
        "        return x"
      ],
      "metadata": {
        "id": "pwmiwxseZOMX"
      },
      "execution_count": 34,
      "outputs": []
    },
    {
      "cell_type": "markdown",
      "source": [
        "## Train the model with the best 2 parameters found by grid search"
      ],
      "metadata": {
        "id": "g9ueGIvGPcCP"
      }
    },
    {
      "cell_type": "markdown",
      "source": [
        "- Train the models on joint angle inputs to predict fingertip positions."
      ],
      "metadata": {
        "id": "tDBMT_K2PiS2"
      }
    },
    {
      "cell_type": "markdown",
      "source": [
        "- Define the loss function and optimizer"
      ],
      "metadata": {
        "id": "Tio9LYtzPKFe"
      }
    },
    {
      "cell_type": "code",
      "source": [
        "model = ForwardKinematicsModel(hidden_size=hidden_size)"
      ],
      "metadata": {
        "id": "3xDtcCCFO-hb"
      },
      "execution_count": 35,
      "outputs": []
    },
    {
      "cell_type": "code",
      "source": [
        "# Define the loss function and optimizer\n",
        "criterion = nn.MSELoss()\n",
        "optimizer = optim.Adam(model.parameters(), lr=learning_rate)"
      ],
      "metadata": {
        "id": "j8l_q3FnzxFk"
      },
      "execution_count": 36,
      "outputs": []
    },
    {
      "cell_type": "code",
      "source": [
        "# Convert to PyTorch tensors only if necessary\n",
        "X_train = X_train.clone().detach().float() if isinstance(X_train, torch.Tensor) else torch.tensor(X_train, dtype=torch.float32)\n",
        "y_train = y_train.clone().detach().float() if isinstance(y_train, torch.Tensor) else torch.tensor(y_train, dtype=torch.float32)\n",
        "X_val = X_val.clone().detach().float() if isinstance(X_val, torch.Tensor) else torch.tensor(X_val, dtype=torch.float32)\n",
        "y_val = y_val.clone().detach().float() if isinstance(y_val, torch.Tensor) else torch.tensor(y_val, dtype=torch.float32)\n",
        "X_test = X_test.clone().detach().float() if isinstance(X_test, torch.Tensor) else torch.tensor(X_test, dtype=torch.float32)\n",
        "y_test = y_test.clone().detach().float() if isinstance(y_test, torch.Tensor) else torch.tensor(y_test, dtype=torch.float32)"
      ],
      "metadata": {
        "id": "szvcvhW6ylGh"
      },
      "execution_count": 37,
      "outputs": []
    },
    {
      "cell_type": "code",
      "source": [
        "# Initialize variables for early stopping and visualization\n",
        "best_val_loss = float('inf')\n",
        "patience = 4\n",
        "no_improvement_epochs = 0\n",
        "best_model_path = \"best_model_5DOF.pth\"  # Path to save the best model\n",
        "\n",
        "# Lists to store metrics for visualization\n",
        "train_losses = []\n",
        "val_losses = []\n",
        "val_maes = []\n",
        "val_r2_scores = []\n",
        "\n",
        "# Training loop with early stopping\n",
        "for epoch in range(num_epochs):\n",
        "    model.train()\n",
        "\n",
        "    # Forward pass\n",
        "    outputs = model(X_train)\n",
        "    loss = criterion(outputs, y_train)\n",
        "\n",
        "    # Backward pass and optimization\n",
        "    optimizer.zero_grad()\n",
        "    loss.backward()\n",
        "    optimizer.step()\n",
        "\n",
        "    # Store train loss for visualization\n",
        "    train_losses.append(loss.item())\n",
        "\n",
        "    # Evaluate on validation set\n",
        "    if (epoch + 1) % 10 == 0:\n",
        "        model.eval()\n",
        "        with torch.no_grad():\n",
        "            val_outputs = model(X_val)\n",
        "            val_loss = criterion(val_outputs, y_val)\n",
        "            val_losses.append(val_loss.item())  # Store validation loss\n",
        "\n",
        "            # Calculate additional metrics\n",
        "            mae = mean_absolute_error(y_val.numpy(), val_outputs.numpy())\n",
        "            r2 = r2_score(y_val.numpy(), val_outputs.numpy())\n",
        "            val_maes.append(mae)  # Store validation MAE\n",
        "            val_r2_scores.append(r2)  # Store validation R^2\n",
        "\n",
        "            print(f\"Epoch [{epoch+1}/{num_epochs}], \"\n",
        "                  f\"Train Loss: {loss.item():.4f}, Val Loss: {val_loss.item():.4f}, \"\n",
        "                  f\"MAE: {mae:.4f}, R^2: {r2:.4f}\")\n",
        "\n",
        "            # Early stopping check\n",
        "            if val_loss < best_val_loss:\n",
        "                best_val_loss = val_loss\n",
        "                no_improvement_epochs = 0\n",
        "                # Save the best model\n",
        "                torch.save(model.state_dict(), best_model_path)\n",
        "                print(f\"Model saved at epoch {epoch+1} with Val Loss: {val_loss:.4f}\")\n",
        "            else:\n",
        "                no_improvement_epochs += 1\n",
        "\n",
        "            if no_improvement_epochs >= patience:\n",
        "                print(f\"Early stopping triggered at epoch {epoch+1}. Best Val Loss: {best_val_loss:.4f}\")\n",
        "                break  # Exit the training loop early\n",
        "\n",
        "        model.train()  # Switch back to training mode"
      ],
      "metadata": {
        "id": "fYuG0tz1nOAo",
        "colab": {
          "base_uri": "https://localhost:8080/"
        },
        "outputId": "2849745b-347d-4eeb-b03b-1f62231e3a05"
      },
      "execution_count": 38,
      "outputs": [
        {
          "output_type": "stream",
          "name": "stdout",
          "text": [
            "Epoch [10/300], Train Loss: 0.1270, Val Loss: 0.1126, MAE: 0.2715, R^2: -0.0087\n",
            "Model saved at epoch 10 with Val Loss: 0.1126\n",
            "Epoch [20/300], Train Loss: 0.1045, Val Loss: 0.0891, MAE: 0.2401, R^2: 0.1584\n",
            "Model saved at epoch 20 with Val Loss: 0.0891\n",
            "Epoch [30/300], Train Loss: 0.0890, Val Loss: 0.0727, MAE: 0.2167, R^2: 0.2959\n",
            "Model saved at epoch 30 with Val Loss: 0.0727\n",
            "Epoch [40/300], Train Loss: 0.0784, Val Loss: 0.0600, MAE: 0.1952, R^2: 0.4175\n",
            "Model saved at epoch 40 with Val Loss: 0.0600\n",
            "Epoch [50/300], Train Loss: 0.0700, Val Loss: 0.0500, MAE: 0.1767, R^2: 0.5127\n",
            "Model saved at epoch 50 with Val Loss: 0.0500\n",
            "Epoch [60/300], Train Loss: 0.0634, Val Loss: 0.0425, MAE: 0.1622, R^2: 0.5851\n",
            "Model saved at epoch 60 with Val Loss: 0.0425\n",
            "Epoch [70/300], Train Loss: 0.0578, Val Loss: 0.0362, MAE: 0.1483, R^2: 0.6460\n",
            "Model saved at epoch 70 with Val Loss: 0.0362\n",
            "Epoch [80/300], Train Loss: 0.0530, Val Loss: 0.0317, MAE: 0.1382, R^2: 0.6884\n",
            "Model saved at epoch 80 with Val Loss: 0.0317\n",
            "Epoch [90/300], Train Loss: 0.0498, Val Loss: 0.0282, MAE: 0.1297, R^2: 0.7221\n",
            "Model saved at epoch 90 with Val Loss: 0.0282\n",
            "Epoch [100/300], Train Loss: 0.0467, Val Loss: 0.0253, MAE: 0.1226, R^2: 0.7468\n",
            "Model saved at epoch 100 with Val Loss: 0.0253\n",
            "Epoch [110/300], Train Loss: 0.0439, Val Loss: 0.0227, MAE: 0.1158, R^2: 0.7682\n",
            "Model saved at epoch 110 with Val Loss: 0.0227\n",
            "Epoch [120/300], Train Loss: 0.0414, Val Loss: 0.0205, MAE: 0.1099, R^2: 0.7865\n",
            "Model saved at epoch 120 with Val Loss: 0.0205\n",
            "Epoch [130/300], Train Loss: 0.0394, Val Loss: 0.0187, MAE: 0.1049, R^2: 0.8022\n",
            "Model saved at epoch 130 with Val Loss: 0.0187\n",
            "Epoch [140/300], Train Loss: 0.0378, Val Loss: 0.0171, MAE: 0.1006, R^2: 0.8154\n",
            "Model saved at epoch 140 with Val Loss: 0.0171\n",
            "Epoch [150/300], Train Loss: 0.0360, Val Loss: 0.0158, MAE: 0.0965, R^2: 0.8273\n",
            "Model saved at epoch 150 with Val Loss: 0.0158\n",
            "Epoch [160/300], Train Loss: 0.0347, Val Loss: 0.0148, MAE: 0.0937, R^2: 0.8356\n",
            "Model saved at epoch 160 with Val Loss: 0.0148\n",
            "Epoch [170/300], Train Loss: 0.0337, Val Loss: 0.0139, MAE: 0.0910, R^2: 0.8427\n",
            "Model saved at epoch 170 with Val Loss: 0.0139\n",
            "Epoch [180/300], Train Loss: 0.0326, Val Loss: 0.0132, MAE: 0.0888, R^2: 0.8483\n",
            "Model saved at epoch 180 with Val Loss: 0.0132\n",
            "Epoch [190/300], Train Loss: 0.0318, Val Loss: 0.0126, MAE: 0.0868, R^2: 0.8534\n",
            "Model saved at epoch 190 with Val Loss: 0.0126\n",
            "Epoch [200/300], Train Loss: 0.0310, Val Loss: 0.0121, MAE: 0.0854, R^2: 0.8573\n",
            "Model saved at epoch 200 with Val Loss: 0.0121\n",
            "Epoch [210/300], Train Loss: 0.0303, Val Loss: 0.0117, MAE: 0.0839, R^2: 0.8611\n",
            "Model saved at epoch 210 with Val Loss: 0.0117\n",
            "Epoch [220/300], Train Loss: 0.0297, Val Loss: 0.0112, MAE: 0.0823, R^2: 0.8649\n",
            "Model saved at epoch 220 with Val Loss: 0.0112\n",
            "Epoch [230/300], Train Loss: 0.0289, Val Loss: 0.0109, MAE: 0.0810, R^2: 0.8681\n",
            "Model saved at epoch 230 with Val Loss: 0.0109\n",
            "Epoch [240/300], Train Loss: 0.0285, Val Loss: 0.0106, MAE: 0.0802, R^2: 0.8701\n",
            "Model saved at epoch 240 with Val Loss: 0.0106\n",
            "Epoch [250/300], Train Loss: 0.0278, Val Loss: 0.0103, MAE: 0.0791, R^2: 0.8727\n",
            "Model saved at epoch 250 with Val Loss: 0.0103\n",
            "Epoch [260/300], Train Loss: 0.0275, Val Loss: 0.0100, MAE: 0.0780, R^2: 0.8752\n",
            "Model saved at epoch 260 with Val Loss: 0.0100\n",
            "Epoch [270/300], Train Loss: 0.0270, Val Loss: 0.0098, MAE: 0.0772, R^2: 0.8773\n",
            "Model saved at epoch 270 with Val Loss: 0.0098\n",
            "Epoch [280/300], Train Loss: 0.0266, Val Loss: 0.0096, MAE: 0.0763, R^2: 0.8793\n",
            "Model saved at epoch 280 with Val Loss: 0.0096\n",
            "Epoch [290/300], Train Loss: 0.0263, Val Loss: 0.0094, MAE: 0.0756, R^2: 0.8809\n",
            "Model saved at epoch 290 with Val Loss: 0.0094\n",
            "Epoch [300/300], Train Loss: 0.0259, Val Loss: 0.0092, MAE: 0.0748, R^2: 0.8827\n",
            "Model saved at epoch 300 with Val Loss: 0.0092\n"
          ]
        }
      ]
    },
    {
      "cell_type": "code",
      "source": [
        "# Visualization\n",
        "epochs = range(1, len(train_losses) + 1)\n",
        "plt.figure(figsize=(15, 5))\n",
        "\n",
        "# Plot training and validation loss\n",
        "plt.subplot(1, 3, 1)\n",
        "plt.plot(epochs, train_losses, label=\"Train Loss\")\n",
        "plt.plot(range(10, len(val_losses)*10 + 1, 10), val_losses, label=\"Validation Loss\", linestyle=\"--\")\n",
        "plt.xlabel(\"Epochs\")\n",
        "plt.ylabel(\"Loss\")\n",
        "plt.title(\"Training and Validation Loss\")\n",
        "plt.legend()\n",
        "\n",
        "# Plot validation MAE\n",
        "plt.subplot(1, 3, 2)\n",
        "plt.plot(range(10, len(val_maes)*10 + 1, 10), val_maes, label=\"Validation MAE\", color=\"orange\")\n",
        "plt.xlabel(\"Epochs\")\n",
        "plt.ylabel(\"MAE\")\n",
        "plt.title(\"Validation Mean Absolute Error\")\n",
        "plt.legend()\n",
        "\n",
        "# Plot validation R^2\n",
        "plt.subplot(1, 3, 3)\n",
        "plt.plot(range(10, len(val_r2_scores)*10 + 1, 10), val_r2_scores, label=\"Validation R^2\", color=\"green\")\n",
        "plt.xlabel(\"Epochs\")\n",
        "plt.ylabel(\"R^2 Score\")\n",
        "plt.title(\"Validation R^2 Score\")\n",
        "plt.legend()\n",
        "\n",
        "plt.tight_layout()\n",
        "plt.show()"
      ],
      "metadata": {
        "id": "zYBkC3cdnPyV",
        "colab": {
          "base_uri": "https://localhost:8080/",
          "height": 507
        },
        "outputId": "38a8ccf8-06a8-4cb6-cba5-50c74b6ea2e4"
      },
      "execution_count": 39,
      "outputs": [
        {
          "output_type": "display_data",
          "data": {
            "text/plain": [
              "<Figure size 1500x500 with 3 Axes>"
            ],
            "image/png": "[encoded data removed]"
          },
          "metadata": {}
        }
      ]
    },
    {
      "cell_type": "code",
      "source": [
        "# Test the model\n",
        "model.eval()\n",
        "with torch.no_grad():\n",
        "    test_outputs = model(X_test)\n",
        "    test_loss = criterion(test_outputs, y_test)\n",
        "    mae_test = mean_absolute_error(y_test.numpy(), test_outputs.numpy())\n",
        "    r2_test = r2_score(y_test.numpy(), test_outputs.numpy())\n",
        "\n",
        "    print(f\"Test Loss: {test_loss.item():.4f}\")\n",
        "    print(f\"Test MAE: {mae_test:.4f}\")\n",
        "    print(f\"Test R^2: {r2_test:.4f}\")\n"
      ],
      "metadata": {
        "id": "lXuwFfNlkmEQ",
        "colab": {
          "base_uri": "https://localhost:8080/"
        },
        "outputId": "e8079eec-57fe-4ae8-b719-9a34ba664cd0"
      },
      "execution_count": 40,
      "outputs": [
        {
          "output_type": "stream",
          "name": "stdout",
          "text": [
            "Test Loss: 0.0091\n",
            "Test MAE: 0.0745\n",
            "Test R^2: 0.8829\n"
          ]
        }
      ]
    },
    {
      "cell_type": "markdown",
      "source": [
        "##3. Compare Jacobians##\n"
      ],
      "metadata": {
        "id": "lWNe5FjVJolV"
      }
    },
    {
      "cell_type": "markdown",
      "source": [
        "\n",
        "3.1. Compute the Jacobian matrix for the learned forward kinematics using automatic differentiation.\n",
        "\n"
      ],
      "metadata": {
        "id": "xTzh1e1BJu3x"
      }
    },
    {
      "cell_type": "code",
      "source": [
        "X_test = X_test.clone().detach().float() if isinstance(X_test, torch.Tensor) else torch.tensor(X_test, dtype=torch.float32)\n",
        "y_test = y_test.clone().detach().float() if isinstance(y_test, torch.Tensor) else torch.tensor(y_test, dtype=torch.float32)"
      ],
      "metadata": {
        "id": "vWgtFZP5OCJi"
      },
      "execution_count": 41,
      "outputs": []
    },
    {
      "cell_type": "code",
      "source": [
        "# Assuming X_test is a tensor and you want to extract the first sample\n",
        "X_test_sample = X_test[0].clone().detach().unsqueeze(0).float()  # Add batch dimension and detach\n",
        "print(X_test_sample)"
      ],
      "metadata": {
        "id": "wXM9zpl2OMPJ",
        "colab": {
          "base_uri": "https://localhost:8080/"
        },
        "outputId": "18340502-37ef-44d8-b384-a76be4938286"
      },
      "execution_count": 42,
      "outputs": [
        {
          "output_type": "stream",
          "name": "stdout",
          "text": [
            "tensor([[ 0.4621,  0.7712, -0.4779,  0.4935,  0.4935,  1.1237,  0.4981,  1.0481,\n",
            "          1.0244, -0.9845,  0.6120,  0.9494, -0.6374,  0.6558, -1.2163]])\n"
          ]
        }
      ]
    },
    {
      "cell_type": "code",
      "source": [
        "# Load the best model after training\n",
        "model.load_state_dict(torch.load(best_model_path))\n",
        "print(\"Best model loaded for further evaluation or inference.\")"
      ],
      "metadata": {
        "id": "iqxhWP_UQORR",
        "colab": {
          "base_uri": "https://localhost:8080/"
        },
        "outputId": "0ba04117-bcd8-4252-9750-f0418fa7695f"
      },
      "execution_count": 43,
      "outputs": [
        {
          "output_type": "stream",
          "name": "stdout",
          "text": [
            "Best model loaded for further evaluation or inference.\n"
          ]
        },
        {
          "output_type": "stream",
          "name": "stderr",
          "text": [
            "<ipython-input-43-e99125239d63>:2: FutureWarning: You are using `torch.load` with `weights_only=False` (the current default value), which uses the default pickle module implicitly. It is possible to construct malicious pickle data which will execute arbitrary code during unpickling (See https://github.com/pytorch/pytorch/blob/main/SECURITY.md#untrusted-models for more details). In a future release, the default value for `weights_only` will be flipped to `True`. This limits the functions that could be executed during unpickling. Arbitrary objects will no longer be allowed to be loaded via this mode unless they are explicitly allowlisted by the user via `torch.serialization.add_safe_globals`. We recommend you start setting `weights_only=True` for any use case where you don't have full control of the loaded file. Please open an issue on GitHub for any issues related to this experimental feature.\n",
            "  model.load_state_dict(torch.load(best_model_path))\n"
          ]
        }
      ]
    },
    {
      "cell_type": "code",
      "source": [
        "def compute_5dof_jacobian(model, inputs):\n",
        "    # Ensure input gradients are enabled\n",
        "    if not inputs.requires_grad:\n",
        "        inputs.requires_grad = True\n",
        "\n",
        "    # Forward pass\n",
        "    outputs = model(inputs)\n",
        "\n",
        "    # Select outputs of interest: ft_x, ft_y, ft_z\n",
        "    ft_x, ft_y, ft_z = outputs[0], outputs[1], outputs[2]\n",
        "\n",
        "    # Initialize the 2x5 Jacobian matrix as a PyTorch tensor\n",
        "    jacobian = torch.zeros(2, 5, device=inputs.device)\n",
        "\n",
        "    # Compute gradients for ft_x with respect to all inputs\n",
        "    grad_ft_x = torch.autograd.grad(ft_x, inputs, retain_graph=True, create_graph=True)[0]\n",
        "    jacobian[0, 0] = grad_ft_x[0]  # ∂ft_x/∂j0\n",
        "    jacobian[0, 1] = grad_ft_x[1]  # ∂ft_x/∂j1\n",
        "    jacobian[0, 2] = grad_ft_x[2]  # ∂ft_x/∂j2\n",
        "    jacobian[0, 3] = grad_ft_x[3]  # ∂ft_x/∂j3\n",
        "    jacobian[0, 4] = grad_ft_x[4]  # ∂ft_x/∂j4\n",
        "\n",
        "    # Compute gradients for ft_y with respect to all inputs\n",
        "    grad_ft_y = torch.autograd.grad(ft_y, inputs, retain_graph=True, create_graph=True)[0]\n",
        "    jacobian[1, 0] = grad_ft_y[0]  # ∂ft_y/∂j0\n",
        "    jacobian[1, 1] = grad_ft_y[1]  # ∂ft_y/∂j1\n",
        "    jacobian[1, 2] = grad_ft_y[2]  # ∂ft_y/∂j2\n",
        "    jacobian[1, 3] = grad_ft_y[3]  # ∂ft_y/∂j3\n",
        "    jacobian[1, 4] = grad_ft_y[4]  # ∂ft_y/∂j4\n",
        "\n",
        "    return jacobian"
      ],
      "metadata": {
        "id": "ZwQ2k3qMJ2Jp"
      },
      "execution_count": 60,
      "outputs": []
    },
    {
      "cell_type": "markdown",
      "source": [
        "3.2. Compare the computed Jacobian with the analytical Jacobian for the 2-joint robot."
      ],
      "metadata": {
        "id": "rcFxsQjkJx1l"
      }
    },
    {
      "cell_type": "code",
      "source": [
        "# Analytical Jacobian for a 5-DOF robot\n",
        "def analytical_jacobian_5dof(data):\n",
        "    # Extract joint angles from data\n",
        "    j0 = data[0]  # Joint 0\n",
        "    j1 = data[1]  # Joint 1\n",
        "    j2 = data[2]  # Joint 2\n",
        "    j3 = data[3]  # Joint 3\n",
        "    j4 = data[4]  # Joint 4\n",
        "\n",
        "    # Link lengths (modify based on the actual robot dimensions)\n",
        "    l1 = 1.0  # Link 1 length\n",
        "    l2 = 1.0  # Link 2 length\n",
        "    l3 = 1.0  # Link 3 length\n",
        "    l4 = 1.0  # Link 4 length\n",
        "    l5 = 1.0  # Link 5 length\n",
        "\n",
        "    # Calculate the Jacobian elements using the analytical formula\n",
        "    J = np.array([\n",
        "        # Partial derivatives of the x-coordinate (end-effector position) with respect to each joint\n",
        "        [-l1 * np.sin(j0) - l2 * np.sin(j0 + j1) - l3 * np.sin(j0 + j1 + j2) - l4 * np.sin(j0 + j1 + j2 + j3) - l5 * np.sin(j0 + j1 + j2 + j3 + j4),\n",
        "         -l2 * np.sin(j0 + j1) - l3 * np.sin(j0 + j1 + j2) - l4 * np.sin(j0 + j1 + j2 + j3) - l5 * np.sin(j0 + j1 + j2 + j3 + j4),\n",
        "         -l3 * np.sin(j0 + j1 + j2) - l4 * np.sin(j0 + j1 + j2 + j3) - l5 * np.sin(j0 + j1 + j2 + j3 + j4),\n",
        "         -l4 * np.sin(j0 + j1 + j2 + j3) - l5 * np.sin(j0 + j1 + j2 + j3 + j4),\n",
        "         -l5 * np.sin(j0 + j1 + j2 + j3 + j4)],\n",
        "\n",
        "        # Partial derivatives of the y-coordinate (end-effector position) with respect to each joint\n",
        "        [l1 * np.cos(j0) + l2 * np.cos(j0 + j1) + l3 * np.cos(j0 + j1 + j2) + l4 * np.cos(j0 + j1 + j2 + j3) + l5 * np.cos(j0 + j1 + j2 + j3 + j4),\n",
        "         l2 * np.cos(j0 + j1) + l3 * np.cos(j0 + j1 + j2) + l4 * np.cos(j0 + j1 + j2 + j3) + l5 * np.cos(j0 + j1 + j2 + j3 + j4),\n",
        "         l3 * np.cos(j0 + j1 + j2) + l4 * np.cos(j0 + j1 + j2 + j3) + l5 * np.cos(j0 + j1 + j2 + j3 + j4),\n",
        "         l4 * np.cos(j0 + j1 + j2 + j3) + l5 * np.cos(j0 + j1 + j2 + j3 + j4),\n",
        "         l5 * np.cos(j0 + j1 + j2 + j3 + j4)]\n",
        "    ])\n",
        "\n",
        "    return J"
      ],
      "metadata": {
        "id": "yNbeiZ1mRJRk"
      },
      "execution_count": 52,
      "outputs": []
    },
    {
      "cell_type": "markdown",
      "source": [
        "- Compute Diference between jacobian one iteration"
      ],
      "metadata": {
        "id": "XRZiP84yU3Nw"
      }
    },
    {
      "cell_type": "code",
      "source": [
        "import numpy as np\n",
        "import torch\n",
        "\n",
        "#Numerical Jacobian (calculated by FK_Jacobian)\n",
        "X_test_sample = torch.tensor([ 0.4621,  0.7712, -0.4779,  0.4935,  0.4935,  1.1237,  0.4981,  1.0481, 1.0244, -0.9845,  0.6120,  0.9494, -0.6374,  0.6558, -1.2163], requires_grad=True)\n",
        "jacobian_numerical = compute_5dof_jacobian(model, X_test_sample)\n",
        "\n",
        "# Analytical Jacobian (calculated using analytical formula)X_test_sample = [-3.0970, -2.6260, -0.9990, -0.8700, -0.0450, -0.4930] # Extract joint angles for comparison\n",
        "X_test_sample = X_test_sample.detach().numpy()\n",
        "J_analytical = analytical_jacobian_5dof(X_test_sample)\n",
        "\n",
        "# Print both Jacobians\n",
        "print(\"Numerical Jacobian (PyTorch):\\n\", jacobian_numerical)\n",
        "print(\"Analytical Jacobian (2-DOF Robot):\\n\", J_analytical)\n",
        "\n",
        "# Compare both Jacobians by calculating the difference\n",
        "jacobian_difference = (jacobian_numerical.detach().numpy() - J_analytical)\n",
        "print(\"Difference between Numerical and Analytical Jacobians:\\n\", jacobian_difference)"
      ],
      "metadata": {
        "id": "uopqI4FVOPVR",
        "colab": {
          "base_uri": "https://localhost:8080/"
        },
        "outputId": "4c41c212-a1fe-4083-c177-943374b6672b"
      },
      "execution_count": 61,
      "outputs": [
        {
          "output_type": "stream",
          "name": "stdout",
          "text": [
            "Numerical Jacobian (PyTorch):\n",
            " tensor([[-0.0339,  0.0422,  0.0347,  0.0276, -0.0101],\n",
            "        [ 0.0696,  0.0187, -0.0174,  0.0112,  0.0043]], grad_fn=<CopySlices>)\n",
            "Analytical Jacobian (2-DOF Robot):\n",
            " [[-4.00894478 -3.56311595 -2.61952931 -1.93394941 -0.98531222]\n",
            " [ 2.09984492  1.20472668  0.87360094  0.14560352 -0.17076261]]\n",
            "Difference between Numerical and Analytical Jacobians:\n",
            " [[ 3.97507242  3.6053301   2.65421838  1.96151794  0.9751912 ]\n",
            " [-2.03024553 -1.18598366 -0.89097649 -0.13442245  0.17502919]]\n"
          ]
        }
      ]
    },
    {
      "cell_type": "markdown",
      "source": [
        "- Compute diferences Full test set"
      ],
      "metadata": {
        "id": "Zv6EgK8yU7PO"
      }
    },
    {
      "cell_type": "code",
      "source": [
        "# Initialize lists to store results\n",
        "numerical_jacobians = []\n",
        "analytical_jacobians = []\n",
        "jacobian_differences = []\n",
        "\n",
        "# Loop through the test set to compute the Jacobians and differences\n",
        "for i in range(len(X_test)):\n",
        "    # Get the current sample (convert to tensor and ensure requires_grad=True)\n",
        "    X_test_sample = torch.tensor(X_test[i], dtype=torch.float32, requires_grad=True)\n",
        "\n",
        "    # Compute the numerical Jacobian using the model\n",
        "    jacobian_numerical = compute_5dof_jacobian(model, X_test_sample)\n",
        "\n",
        "    # Compute the analytical Jacobian\n",
        "    X_test_sample_np = X_test_sample.detach().numpy()\n",
        "    J_analytical = analytical_jacobian_5dof(X_test_sample_np)\n",
        "\n",
        "    # Calculate the difference between the Jacobians\n",
        "    jacobian_difference = jacobian_numerical.detach().numpy() - J_analytical\n",
        "\n",
        "    # Store the results\n",
        "    numerical_jacobians.append(jacobian_numerical.detach().numpy())\n",
        "    analytical_jacobians.append(J_analytical)\n",
        "    jacobian_differences.append(jacobian_difference)\n",
        "\n",
        "# Convert lists to numpy arrays for analysis\n",
        "numerical_jacobians = np.array(numerical_jacobians)\n",
        "analytical_jacobians = np.array(analytical_jacobians)\n",
        "jacobian_differences = np.array(jacobian_differences)\n",
        "\n",
        "# Calculate the mean difference\n",
        "mean_difference = np.mean(np.abs(jacobian_differences), axis=(1, 2))  # Mean of absolute differences for each sample\n",
        "mean_difference_overall = np.mean(mean_difference)  # Overall mean difference\n",
        "\n",
        "# Calculate percentage of times analytical Jacobian is bigger or smaller\n",
        "analytical_bigger = np.sum(np.linalg.norm(analytical_jacobians, axis=(1, 2)) > np.linalg.norm(numerical_jacobians, axis=(1, 2)))\n",
        "analytical_smaller = np.sum(np.linalg.norm(analytical_jacobians, axis=(1, 2)) < np.linalg.norm(numerical_jacobians, axis=(1, 2)))\n",
        "total = len(X_test)\n",
        "\n",
        "percent_bigger = (analytical_bigger / total) * 100\n",
        "percent_smaller = (analytical_smaller / total) * 100\n",
        "\n",
        "# Print results\n",
        "print(f\"Mean difference between numerical and analytical Jacobians: {mean_difference_overall:.6f}\")\n",
        "print(f\"Percentage of cases where analytical Jacobian is bigger: {percent_bigger:.2f}%\")\n",
        "print(f\"Percentage of cases where analytical Jacobian is smaller: {percent_smaller:.2f}%\")"
      ],
      "metadata": {
        "colab": {
          "base_uri": "https://localhost:8080/"
        },
        "id": "k6jdskI_akz4",
        "outputId": "661c5520-9b9d-4385-d65e-b03cc494d8bf"
      },
      "execution_count": 62,
      "outputs": [
        {
          "output_type": "stream",
          "name": "stderr",
          "text": [
            "<ipython-input-62-e2137a5b0e2d>:9: UserWarning: To copy construct from a tensor, it is recommended to use sourceTensor.clone().detach() or sourceTensor.clone().detach().requires_grad_(True), rather than torch.tensor(sourceTensor).\n",
            "  X_test_sample = torch.tensor(X_test[i], dtype=torch.float32, requires_grad=True)\n"
          ]
        },
        {
          "output_type": "stream",
          "name": "stdout",
          "text": [
            "Mean difference between numerical and analytical Jacobians: 1.328577\n",
            "Percentage of cases where analytical Jacobian is bigger: 100.00%\n",
            "Percentage of cases where analytical Jacobian is smaller: 0.00%\n"
          ]
        }
      ]
    }
  ]
}