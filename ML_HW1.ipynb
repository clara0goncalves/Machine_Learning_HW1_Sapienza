{
 "cells": [
  {
   "cell_type": "markdown",
   "metadata": {
    "id": "hIO0AeMWIExL"
   },
   "source": [
    "## 1. Dataset \n",
    "\n",
    "- The Datatset used in this project was generated using the Mujoco simulator with three different configurations:\n",
    "- 2D (2 joints)\n",
    "- 2D (3 joints)\n",
    "- 3D (5 joints)\n",
    "\n",
    "The format of the data is in CSV format, including information about Joint angles, fingertip position, and orientation.\n"
   ]
  },
  {
   "cell_type": "markdown",
   "metadata": {
    "id": "0_uqRtyhJDj6"
   },
   "source": [
    "1.1. Visualise data from the simulator"
   ]
  },
  {
   "cell_type": "code",
   "execution_count": null,
   "metadata": {},
   "outputs": [],
   "source": []
  },
  {
   "cell_type": "markdown",
   "metadata": {},
   "source": []
  },
  {
   "cell_type": "code",
   "execution_count": null,
   "metadata": {
    "id": "6VflkHGKJDRC"
   },
   "outputs": [],
   "source": []
  },
  {
   "cell_type": "markdown",
   "metadata": {
    "id": "rbfjJsgxJI80"
   },
   "source": [
    "1.2. Preprocess the data (e.g., normalizing angles, representing them with sin and cos).\n"
   ]
  },
  {
   "cell_type": "code",
   "execution_count": null,
   "metadata": {
    "id": "dJxB_FilEapT"
   },
   "outputs": [],
   "source": []
  },
  {
   "cell_type": "markdown",
   "metadata": {
    "id": "gcdL1pWYJNsM"
   },
   "source": [
    "## 2. Train Forward Kinematics Models\n",
    "\n"
   ]
  },
  {
   "cell_type": "code",
   "execution_count": null,
   "metadata": {
    "id": "35GT9ql7JSKp"
   },
   "outputs": [],
   "source": []
  },
  {
   "cell_type": "markdown",
   "metadata": {
    "id": "a_UHnh5KJX6W"
   },
   "source": [
    "2.1. Split the data into training and testing sets, ensuring logs from different seeds are used for training and testing."
   ]
  },
  {
   "cell_type": "code",
   "execution_count": null,
   "metadata": {
    "id": "sMz_n9KYJhQ3"
   },
   "outputs": [],
   "source": []
  },
  {
   "cell_type": "markdown",
   "metadata": {
    "id": "1yDUGGEzJSao"
   },
   "source": [
    "2.2. Define feedforward models to learn forward kinematics for each robot.\n",
    "\n"
   ]
  },
  {
   "cell_type": "code",
   "execution_count": null,
   "metadata": {
    "id": "jIWD5VGiJheB"
   },
   "outputs": [],
   "source": []
  },
  {
   "cell_type": "markdown",
   "metadata": {
    "id": "BW2YAPRmJUum"
   },
   "source": [
    "2.3. Train the models on joint angle inputs to predict fingertip positions.\n"
   ]
  },
  {
   "cell_type": "code",
   "execution_count": null,
   "metadata": {
    "id": "fh1TpPI-JhvD"
   },
   "outputs": [],
   "source": []
  },
  {
   "cell_type": "markdown",
   "metadata": {
    "id": "lWNe5FjVJolV"
   },
   "source": [
    "## 3. Compare Jacobians\n"
   ]
  },
  {
   "cell_type": "markdown",
   "metadata": {
    "id": "xTzh1e1BJu3x"
   },
   "source": [
    "\n",
    "3.1. Compute the Jacobian matrix for the learned forward kinematics using automatic differentiation.\n",
    "\n"
   ]
  },
  {
   "cell_type": "code",
   "execution_count": null,
   "metadata": {
    "id": "qr65Re_IJxft"
   },
   "outputs": [],
   "source": []
  },
  {
   "cell_type": "markdown",
   "metadata": {
    "id": "rcFxsQjkJx1l"
   },
   "source": [
    "3.2. Compare the computed Jacobian with the analytical Jacobian for the 2-joint robot."
   ]
  },
  {
   "cell_type": "code",
   "execution_count": null,
   "metadata": {
    "id": "ZwQ2k3qMJ2Jp"
   },
   "outputs": [],
   "source": []
  }
 ],
 "metadata": {
  "colab": {
   "provenance": []
  },
  "kernelspec": {
   "display_name": "Python 3",
   "name": "python3"
  },
  "language_info": {
   "name": "python"
  }
 },
 "nbformat": 4,
 "nbformat_minor": 0
}
