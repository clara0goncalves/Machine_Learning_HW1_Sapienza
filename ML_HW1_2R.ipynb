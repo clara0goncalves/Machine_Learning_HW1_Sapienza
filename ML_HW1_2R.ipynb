{
  "nbformat": 4,
  "nbformat_minor": 0,
  "metadata": {
    "colab": {
      "provenance": []
    },
    "kernelspec": {
      "name": "python3",
      "display_name": "Python 3"
    },
    "language_info": {
      "name": "python"
    }
  },
  "cells": [
    {
      "cell_type": "markdown",
      "source": [
        "## 0. Install Dependecies"
      ],
      "metadata": {
        "id": "uYkosDKjN6-x"
      }
    },
    {
      "cell_type": "code",
      "source": [
        "pip install torch"
      ],
      "metadata": {
        "id": "bA3-dNGdN6VD",
        "colab": {
          "base_uri": "https://localhost:8080/"
        },
        "outputId": "4da9b3cb-dc31-4856-ec48-4797f6512f60"
      },
      "execution_count": 1,
      "outputs": [
        {
          "output_type": "stream",
          "name": "stdout",
          "text": [
            "Requirement already satisfied: torch in /usr/local/lib/python3.10/dist-packages (2.5.1+cu121)\n",
            "Requirement already satisfied: filelock in /usr/local/lib/python3.10/dist-packages (from torch) (3.16.1)\n",
            "Requirement already satisfied: typing-extensions>=4.8.0 in /usr/local/lib/python3.10/dist-packages (from torch) (4.12.2)\n",
            "Requirement already satisfied: networkx in /usr/local/lib/python3.10/dist-packages (from torch) (3.4.2)\n",
            "Requirement already satisfied: jinja2 in /usr/local/lib/python3.10/dist-packages (from torch) (3.1.4)\n",
            "Requirement already satisfied: fsspec in /usr/local/lib/python3.10/dist-packages (from torch) (2024.10.0)\n",
            "Requirement already satisfied: sympy==1.13.1 in /usr/local/lib/python3.10/dist-packages (from torch) (1.13.1)\n",
            "Requirement already satisfied: mpmath<1.4,>=1.1.0 in /usr/local/lib/python3.10/dist-packages (from sympy==1.13.1->torch) (1.3.0)\n",
            "Requirement already satisfied: MarkupSafe>=2.0 in /usr/local/lib/python3.10/dist-packages (from jinja2->torch) (3.0.2)\n"
          ]
        }
      ]
    },
    {
      "cell_type": "markdown",
      "source": [
        "**Import libraries**"
      ],
      "metadata": {
        "id": "BaBjTEuIRHsg"
      }
    },
    {
      "cell_type": "code",
      "source": [
        "import torch\n",
        "import torch.nn as nn\n",
        "import torch.optim as optim\n",
        "import numpy as np\n",
        "import pandas as pd\n",
        "import matplotlib.pyplot as plt\n",
        "import random\n",
        "from sklearn.model_selection import train_test_split, GridSearchCV\n",
        "from sklearn.preprocessing import StandardScaler\n",
        "from sklearn.metrics import mean_absolute_error, mean_squared_error, r2_score\n",
        "from sklearn.base import BaseEstimator, RegressorMixin"
      ],
      "metadata": {
        "id": "7jsLAS7jRJ2-"
      },
      "execution_count": 2,
      "outputs": []
    },
    {
      "cell_type": "markdown",
      "source": [
        "Set Random seed"
      ],
      "metadata": {
        "id": "yjSuYi7hlpEB"
      }
    },
    {
      "cell_type": "code",
      "source": [
        "# Set random seed for reproducibility\n",
        "seed = 42\n",
        "random.seed(seed)  # Python random module\n",
        "np.random.seed(seed)  # NumPy\n",
        "torch.manual_seed(seed)  # PyTorch\n",
        "\n",
        "# If you're using GPU, set the deterministic flag\n",
        "if torch.cuda.is_available():\n",
        "    torch.cuda.manual_seed(seed)\n",
        "    torch.backends.cudnn.deterministic = True\n",
        "    torch.backends.cudnn.benchmark = False"
      ],
      "metadata": {
        "id": "oRmxPpCJloLq"
      },
      "execution_count": 4,
      "outputs": []
    },
    {
      "cell_type": "markdown",
      "source": [
        "**Set device to GPU if is available otherwise set device as cpu**"
      ],
      "metadata": {
        "id": "83S06ig1RMKa"
      }
    },
    {
      "cell_type": "code",
      "source": [
        "import torch\n",
        "# Check if GPU is available, otherwise use CPU\n",
        "device = torch.device(\"cuda\" if torch.cuda.is_available() else \"cpu\")\n",
        "print(f\"Using device: {device}\")"
      ],
      "metadata": {
        "id": "1IX6jLICPN4c",
        "colab": {
          "base_uri": "https://localhost:8080/"
        },
        "outputId": "26756286-3e7d-49aa-c385-be0b43af8408"
      },
      "execution_count": 3,
      "outputs": [
        {
          "output_type": "stream",
          "name": "stdout",
          "text": [
            "Using device: cpu\n"
          ]
        }
      ]
    },
    {
      "cell_type": "markdown",
      "source": [
        "##1. Dataset##\n",
        "\n",
        "- The Datatset used in this project was generated using the Mujoco simulator with three different configurations:\n",
        "- 2D (2 joints)\n",
        "- 2D (3 joints)\n",
        "- 3D (5 joints)\n",
        "\n",
        "The format of the data is in CSV format, including information about Joint angles, fingertip position, and orientation.\n",
        "\n",
        "This Notebook will focus on the 2DOF Robot dataset.\n"
      ],
      "metadata": {
        "id": "hIO0AeMWIExL"
      }
    },
    {
      "cell_type": "markdown",
      "source": [
        "1.1. Visualise data from the simulator"
      ],
      "metadata": {
        "id": "0_uqRtyhJDj6"
      }
    },
    {
      "cell_type": "code",
      "source": [
        "!head -5 logfiler2.csv"
      ],
      "metadata": {
        "id": "6VflkHGKJDRC",
        "colab": {
          "base_uri": "https://localhost:8080/"
        },
        "outputId": "fbcfa5c8-091e-4c90-cbf2-430e17089aeb"
      },
      "execution_count": 5,
      "outputs": [
        {
          "output_type": "stream",
          "name": "stdout",
          "text": [
            "j0;j1;cos(j0);cos(j1);sin(j0);sin(j1);ft_x;ft_y;ft_qw;ft_qz\n",
            " 0.055; -0.012;  0.998;  1.000;  0.055; -0.012;  0.210;  0.010;  1.000;  0.021\n",
            " 0.076; -0.017;  0.997;  1.000;  0.076; -0.017;  0.210;  0.014;  1.000;  0.030\n",
            " 0.148; -0.011;  0.989;  1.000;  0.147; -0.011;  0.208;  0.030;  0.998;  0.068\n",
            " 0.214;  0.048;  0.977;  0.999;  0.212;  0.048;  0.204;  0.050;  0.991;  0.131\n"
          ]
        }
      ]
    },
    {
      "cell_type": "markdown",
      "source": [
        "1.2. Preprocess the data\n"
      ],
      "metadata": {
        "id": "rbfjJsgxJI80"
      }
    },
    {
      "cell_type": "markdown",
      "source": [
        "2R Robot"
      ],
      "metadata": {
        "id": "aCM-EXuFQxkU"
      }
    },
    {
      "cell_type": "code",
      "execution_count": 6,
      "metadata": {
        "id": "dJxB_FilEapT"
      },
      "outputs": [],
      "source": [
        "# Load dataset\n",
        "data = pd.read_csv('logfiler2.csv', delimiter=';')\n",
        "\n",
        "# Preprocessing: Extract inputs (joint angles and their trigonometric functions) and outputs (fingertip positions and quaternions)\n",
        "X = data[['j0', 'j1', 'cos(j0)', 'cos(j1)', 'sin(j0)', 'sin(j1)']].values\n",
        "y = data[['ft_x' ,'ft_y' ,'ft_qw','ft_qz']].values\n",
        "\n",
        "# Normalize input features\n",
        "scaler = StandardScaler()\n",
        "X_scaled = scaler.fit_transform(X)"
      ]
    },
    {
      "cell_type": "markdown",
      "source": [
        "- Split the data into training and testing sets"
      ],
      "metadata": {
        "id": "a_UHnh5KJX6W"
      }
    },
    {
      "cell_type": "code",
      "source": [
        "# Split data into training, validation, and testing sets\n",
        "X_train, X_temp, y_train, y_temp = train_test_split(X_scaled, y, test_size=0.3, random_state=42)\n",
        "X_val, X_test, y_val, y_test = train_test_split(X_temp, y_temp, test_size=0.5, random_state=42)\n",
        "\n",
        "# Convert to PyTorch tensors\n",
        "X_train = torch.tensor(X_train, dtype=torch.float32)\n",
        "y_train = torch.tensor(y_train, dtype=torch.float32)\n",
        "X_val = torch.tensor(X_val, dtype=torch.float32)\n",
        "y_val = torch.tensor(y_val, dtype=torch.float32)\n",
        "X_test = torch.tensor(X_test, dtype=torch.float32)\n",
        "y_test = torch.tensor(y_test, dtype=torch.float32)"
      ],
      "metadata": {
        "id": "jze3VIDOQ_aq"
      },
      "execution_count": 7,
      "outputs": []
    },
    {
      "cell_type": "markdown",
      "source": [
        "##2. Train Forward Kinematics Models##\n",
        "\n"
      ],
      "metadata": {
        "id": "gcdL1pWYJNsM"
      }
    },
    {
      "cell_type": "markdown",
      "source": [
        "### 2.1. Robot 2R"
      ],
      "metadata": {
        "id": "LIaJ6J5pOJey"
      }
    },
    {
      "cell_type": "markdown",
      "source": [
        "- Define the architecture of the model (Feedforward Neural Network) to learn forward kinematics.\n",
        "\n",
        "\n"
      ],
      "metadata": {
        "id": "1yDUGGEzJSao"
      }
    },
    {
      "cell_type": "code",
      "source": [
        "class ForwardKinematicsModel(nn.Module):\n",
        "    def __init__(self, hidden_size, dropout_rate=0.3):\n",
        "        super(ForwardKinematicsModel, self).__init__()\n",
        "        # Define a feedforward network with configurable hidden_size and dropout\n",
        "        self.fc1 = nn.Linear(6, hidden_size)  # Input layer\n",
        "        self.dropout1 = nn.Dropout(p=dropout_rate)    # Dropout after first hidden layer\n",
        "        self.fc2 = nn.Linear(hidden_size, hidden_size)  # Second hidden layer\n",
        "        self.dropout2 = nn.Dropout(p=dropout_rate)    # Dropout after second hidden layer\n",
        "        self.fc3 = nn.Linear(hidden_size, 4)  # Output layer\n",
        "\n",
        "    def forward(self, x):\n",
        "        x = torch.relu(self.fc1(x))\n",
        "        x = self.dropout1(x)  # Apply dropout after first hidden layer\n",
        "        x = torch.relu(self.fc2(x))\n",
        "        x = self.dropout2(x)  # Apply dropout after second hidden layer\n",
        "        x = self.fc3(x)\n",
        "        return x"
      ],
      "metadata": {
        "id": "pwmiwxseZOMX"
      },
      "execution_count": 8,
      "outputs": []
    },
    {
      "cell_type": "markdown",
      "source": [
        "- Hyperparameter Search"
      ],
      "metadata": {
        "id": "mvZc8OBWPvSL"
      }
    },
    {
      "cell_type": "markdown",
      "source": [
        "Using Grid Search"
      ],
      "metadata": {
        "id": "kEHlC7SSNV8F"
      }
    },
    {
      "cell_type": "code",
      "source": [
        "# Hyperparameters\n",
        "# Setting dummy values\n",
        "hidden_size = 128\n",
        "learning_rate = 0.001\n",
        "num_epochs = 200"
      ],
      "metadata": {
        "id": "vlphfPdtnboY"
      },
      "execution_count": 9,
      "outputs": []
    },
    {
      "cell_type": "code",
      "source": [
        "# PyTorch Regressor Wrapper\n",
        "class PyTorchRegressor(BaseEstimator, RegressorMixin):\n",
        "    def __init__(self, hidden_size=hidden_size  , lr=learning_rate, epochs=num_epochs):\n",
        "        self.hidden_size = hidden_size\n",
        "        self.lr = lr\n",
        "        self.epochs = epochs\n",
        "        self.model = ForwardKinematicsModel(hidden_size=self.hidden_size)\n",
        "        self.optimizer = optim.Adam(self.model.parameters(), lr=self.lr)\n",
        "        self.criterion = nn.MSELoss()\n",
        "\n",
        "    def fit(self, X, y):\n",
        "        X_train = torch.tensor(X, dtype=torch.float32)\n",
        "        y_train = torch.tensor(y, dtype=torch.float32)\n",
        "        for epoch in range(self.epochs):\n",
        "            self.model.train()\n",
        "            self.optimizer.zero_grad()\n",
        "            output = self.model(X_train)\n",
        "            loss = self.criterion(output, y_train)\n",
        "            loss.backward()\n",
        "            self.optimizer.step()\n",
        "        return self\n",
        "\n",
        "    def predict(self, X):\n",
        "        X_test = torch.tensor(X, dtype=torch.float32)\n",
        "        self.model.eval()\n",
        "        with torch.no_grad():\n",
        "            predictions = self.model(X_test)\n",
        "        return predictions.numpy()\n",
        "\n",
        "# Load your dataset\n",
        "df = pd.read_csv('logfiler2.csv', sep=';')\n",
        "X = df[['j0', 'j1', 'cos(j0)', 'cos(j1)', 'sin(j0)', 'sin(j1)']].values\n",
        "y = df[['ft_x' ,'ft_y' ,'ft_qw','ft_qz']].values\n",
        "\n",
        "# Split dataset\n",
        "from sklearn.model_selection import train_test_split\n",
        "X_train, X_test, y_train, y_test = train_test_split(X, y, test_size=0.2, random_state=42)\n",
        "\n",
        "# Set up hyperparameters to search\n",
        "param_grid = {\n",
        "    'hidden_size': [32, 64],  # Try different numbers of hidden units\n",
        "    'lr': [0.001, 0.01],           # Try different learning rates\n",
        "    'epochs': [200, 500],          # Try different numbers of epochs\n",
        "}\n",
        "\n",
        "# Instantiate the model wrapper\n",
        "pytorch_model = PyTorchRegressor()\n",
        "\n",
        "# Use GridSearchCV\n",
        "grid_search = GridSearchCV(estimator=pytorch_model, param_grid=param_grid, cv=3, verbose=2, n_jobs=1)\n",
        "grid_search.fit(X_train, y_train)\n",
        "\n",
        "# Get the best two combinations of hyperparameters\n",
        "results = pd.DataFrame(grid_search.cv_results_)\n",
        "results = results.sort_values(by='mean_test_score', ascending=False)\n",
        "\n",
        "# Print the best and second-best hyperparameters\n",
        "print(\"Best combination of hyperparameters:\")\n",
        "print(results.iloc[0][['param_hidden_size', 'param_lr', 'param_epochs', 'mean_test_score']])\n",
        "print(\"\\nSecond-best combination of hyperparameters:\")\n",
        "print(results.iloc[1][['param_hidden_size', 'param_lr', 'param_epochs', 'mean_test_score']])\n",
        "\n",
        "# Evaluate the best model on the test set\n",
        "best_model = grid_search.best_estimator_\n",
        "y_pred = best_model.predict(X_test)\n",
        "test_loss = mean_squared_error(y_test, y_pred)\n",
        "print(f\"\\nTest MSE of the best model: {test_loss:.4f}\")"
      ],
      "metadata": {
        "id": "Rn7gU9ofNU9l",
        "colab": {
          "base_uri": "https://localhost:8080/"
        },
        "outputId": "dc7d7ab4-ea2b-4884-ff79-1a6d3fa030df"
      },
      "execution_count": 51,
      "outputs": [
        {
          "output_type": "stream",
          "name": "stdout",
          "text": [
            "Fitting 3 folds for each of 8 candidates, totalling 24 fits\n",
            "[CV] END ...............epochs=200, hidden_size=32, lr=0.001; total time=  36.6s\n",
            "[CV] END ...............epochs=200, hidden_size=32, lr=0.001; total time=  35.9s\n",
            "[CV] END ...............epochs=200, hidden_size=32, lr=0.001; total time=  35.8s\n",
            "[CV] END ................epochs=200, hidden_size=32, lr=0.01; total time=  36.6s\n",
            "[CV] END ................epochs=200, hidden_size=32, lr=0.01; total time=  36.0s\n",
            "[CV] END ................epochs=200, hidden_size=32, lr=0.01; total time=  35.4s\n",
            "[CV] END ...............epochs=200, hidden_size=64, lr=0.001; total time=  36.1s\n",
            "[CV] END ...............epochs=200, hidden_size=64, lr=0.001; total time=  35.4s\n",
            "[CV] END ...............epochs=200, hidden_size=64, lr=0.001; total time=  35.7s\n",
            "[CV] END ................epochs=200, hidden_size=64, lr=0.01; total time=  35.7s\n",
            "[CV] END ................epochs=200, hidden_size=64, lr=0.01; total time=  35.1s\n",
            "[CV] END ................epochs=200, hidden_size=64, lr=0.01; total time=  35.0s\n",
            "[CV] END ...............epochs=500, hidden_size=32, lr=0.001; total time= 1.4min\n",
            "[CV] END ...............epochs=500, hidden_size=32, lr=0.001; total time= 1.5min\n",
            "[CV] END ...............epochs=500, hidden_size=32, lr=0.001; total time= 1.5min\n",
            "[CV] END ................epochs=500, hidden_size=32, lr=0.01; total time= 1.5min\n",
            "[CV] END ................epochs=500, hidden_size=32, lr=0.01; total time= 1.5min\n",
            "[CV] END ................epochs=500, hidden_size=32, lr=0.01; total time= 1.5min\n",
            "[CV] END ...............epochs=500, hidden_size=64, lr=0.001; total time= 1.5min\n",
            "[CV] END ...............epochs=500, hidden_size=64, lr=0.001; total time= 1.5min\n",
            "[CV] END ...............epochs=500, hidden_size=64, lr=0.001; total time= 1.5min\n",
            "[CV] END ................epochs=500, hidden_size=64, lr=0.01; total time= 1.5min\n",
            "[CV] END ................epochs=500, hidden_size=64, lr=0.01; total time= 1.5min\n",
            "[CV] END ................epochs=500, hidden_size=64, lr=0.01; total time= 1.5min\n",
            "Best combination of hyperparameters:\n",
            "param_hidden_size          64\n",
            "param_lr                 0.01\n",
            "param_epochs              500\n",
            "mean_test_score      0.982038\n",
            "Name: 7, dtype: object\n",
            "\n",
            "Second-best combination of hyperparameters:\n",
            "param_hidden_size          32\n",
            "param_lr                 0.01\n",
            "param_epochs              500\n",
            "mean_test_score      0.980458\n",
            "Name: 5, dtype: object\n",
            "\n",
            "Test MSE of the best model: 0.0015\n"
          ]
        }
      ]
    },
    {
      "cell_type": "markdown",
      "source": [
        "## Train the model with the best 2 parameters found by grid search"
      ],
      "metadata": {
        "id": "g9ueGIvGPcCP"
      }
    },
    {
      "cell_type": "markdown",
      "source": [
        "- Train the models on joint angle inputs to predict fingertip positions."
      ],
      "metadata": {
        "id": "tDBMT_K2PiS2"
      }
    },
    {
      "cell_type": "code",
      "source": [
        "# Hyperparameters\n",
        "hidden_size = 64\n",
        "learning_rate = 0.01\n",
        "num_epochs = 500"
      ],
      "metadata": {
        "id": "fz1ipjrTwD-y"
      },
      "execution_count": 10,
      "outputs": []
    },
    {
      "cell_type": "markdown",
      "source": [
        "- Define the loss function and optimizer"
      ],
      "metadata": {
        "id": "Tio9LYtzPKFe"
      }
    },
    {
      "cell_type": "code",
      "source": [
        "model = ForwardKinematicsModel(hidden_size=hidden_size)"
      ],
      "metadata": {
        "id": "3xDtcCCFO-hb"
      },
      "execution_count": 11,
      "outputs": []
    },
    {
      "cell_type": "code",
      "source": [
        "# Define the loss function and optimizer\n",
        "criterion = nn.MSELoss()\n",
        "optimizer = optim.Adam(model.parameters(), lr=learning_rate)"
      ],
      "metadata": {
        "id": "j8l_q3FnzxFk"
      },
      "execution_count": 12,
      "outputs": []
    },
    {
      "cell_type": "code",
      "source": [
        "# Convert to PyTorch tensors only if necessary\n",
        "X_train = X_train.clone().detach().float() if isinstance(X_train, torch.Tensor) else torch.tensor(X_train, dtype=torch.float32)\n",
        "y_train = y_train.clone().detach().float() if isinstance(y_train, torch.Tensor) else torch.tensor(y_train, dtype=torch.float32)\n",
        "X_val = X_val.clone().detach().float() if isinstance(X_val, torch.Tensor) else torch.tensor(X_val, dtype=torch.float32)\n",
        "y_val = y_val.clone().detach().float() if isinstance(y_val, torch.Tensor) else torch.tensor(y_val, dtype=torch.float32)\n",
        "X_test = X_test.clone().detach().float() if isinstance(X_test, torch.Tensor) else torch.tensor(X_test, dtype=torch.float32)\n",
        "y_test = y_test.clone().detach().float() if isinstance(y_test, torch.Tensor) else torch.tensor(y_test, dtype=torch.float32)"
      ],
      "metadata": {
        "id": "szvcvhW6ylGh"
      },
      "execution_count": 13,
      "outputs": []
    },
    {
      "cell_type": "code",
      "source": [
        "# Initialize variables for early stopping and visualization\n",
        "best_val_loss = float('inf')\n",
        "patience = 4\n",
        "no_improvement_epochs = 0\n",
        "best_model_path = \"best_model.pth\"  # Path to save the best model\n",
        "\n",
        "# Lists to store metrics for visualization\n",
        "train_losses = []\n",
        "val_losses = []\n",
        "val_maes = []\n",
        "val_r2_scores = []\n",
        "\n",
        "# Training loop with early stopping\n",
        "for epoch in range(num_epochs):\n",
        "    model.train()\n",
        "\n",
        "    # Forward pass\n",
        "    outputs = model(X_train)\n",
        "    loss = criterion(outputs, y_train)\n",
        "\n",
        "    # Backward pass and optimization\n",
        "    optimizer.zero_grad()\n",
        "    loss.backward()\n",
        "    optimizer.step()\n",
        "\n",
        "    # Store train loss for visualization\n",
        "    train_losses.append(loss.item())\n",
        "\n",
        "    # Evaluate on validation set\n",
        "    if (epoch + 1) % 10 == 0:\n",
        "        model.eval()\n",
        "        with torch.no_grad():\n",
        "            val_outputs = model(X_val)\n",
        "            val_loss = criterion(val_outputs, y_val)\n",
        "            val_losses.append(val_loss.item())  # Store validation loss\n",
        "\n",
        "            # Calculate additional metrics\n",
        "            mae = mean_absolute_error(y_val.numpy(), val_outputs.numpy())\n",
        "            r2 = r2_score(y_val.numpy(), val_outputs.numpy())\n",
        "            val_maes.append(mae)  # Store validation MAE\n",
        "            val_r2_scores.append(r2)  # Store validation R^2\n",
        "\n",
        "            print(f\"Epoch [{epoch+1}/{num_epochs}], \"\n",
        "                  f\"Train Loss: {loss.item():.4f}, Val Loss: {val_loss.item():.4f}, \"\n",
        "                  f\"MAE: {mae:.4f}, R^2: {r2:.4f}\")\n",
        "\n",
        "            # Early stopping check\n",
        "            if val_loss < best_val_loss:\n",
        "                best_val_loss = val_loss\n",
        "                no_improvement_epochs = 0\n",
        "                # Save the best model\n",
        "                torch.save(model.state_dict(), best_model_path)\n",
        "                print(f\"Model saved at epoch {epoch+1} with Val Loss: {val_loss:.4f}\")\n",
        "            else:\n",
        "                no_improvement_epochs += 1\n",
        "\n",
        "            if no_improvement_epochs >= patience:\n",
        "                print(f\"Early stopping triggered at epoch {epoch+1}. Best Val Loss: {best_val_loss:.4f}\")\n",
        "                break  # Exit the training loop early\n",
        "\n",
        "        model.train()  # Switch back to training mode"
      ],
      "metadata": {
        "colab": {
          "base_uri": "https://localhost:8080/"
        },
        "id": "fYuG0tz1nOAo",
        "outputId": "d0ffee4f-509f-4629-f0fe-f073bb09461a"
      },
      "execution_count": 14,
      "outputs": [
        {
          "output_type": "stream",
          "name": "stdout",
          "text": [
            "Epoch [10/500], Train Loss: 0.0647, Val Loss: 0.0289, MAE: 0.1236, R^2: 0.6094\n",
            "Model saved at epoch 10 with Val Loss: 0.0289\n",
            "Epoch [20/500], Train Loss: 0.0423, Val Loss: 0.0124, MAE: 0.0839, R^2: 0.8163\n",
            "Model saved at epoch 20 with Val Loss: 0.0124\n",
            "Epoch [30/500], Train Loss: 0.0326, Val Loss: 0.0080, MAE: 0.0677, R^2: 0.8598\n",
            "Model saved at epoch 30 with Val Loss: 0.0080\n",
            "Epoch [40/500], Train Loss: 0.0275, Val Loss: 0.0056, MAE: 0.0584, R^2: 0.8992\n",
            "Model saved at epoch 40 with Val Loss: 0.0056\n",
            "Epoch [50/500], Train Loss: 0.0247, Val Loss: 0.0045, MAE: 0.0538, R^2: 0.9110\n",
            "Model saved at epoch 50 with Val Loss: 0.0045\n",
            "Epoch [60/500], Train Loss: 0.0228, Val Loss: 0.0038, MAE: 0.0491, R^2: 0.9253\n",
            "Model saved at epoch 60 with Val Loss: 0.0038\n",
            "Epoch [70/500], Train Loss: 0.0213, Val Loss: 0.0035, MAE: 0.0470, R^2: 0.9282\n",
            "Model saved at epoch 70 with Val Loss: 0.0035\n",
            "Epoch [80/500], Train Loss: 0.0202, Val Loss: 0.0035, MAE: 0.0463, R^2: 0.9295\n",
            "Model saved at epoch 80 with Val Loss: 0.0035\n",
            "Epoch [90/500], Train Loss: 0.0192, Val Loss: 0.0033, MAE: 0.0446, R^2: 0.9333\n",
            "Model saved at epoch 90 with Val Loss: 0.0033\n",
            "Epoch [100/500], Train Loss: 0.0182, Val Loss: 0.0030, MAE: 0.0428, R^2: 0.9353\n",
            "Model saved at epoch 100 with Val Loss: 0.0030\n",
            "Epoch [110/500], Train Loss: 0.0171, Val Loss: 0.0029, MAE: 0.0422, R^2: 0.9354\n",
            "Model saved at epoch 110 with Val Loss: 0.0029\n",
            "Epoch [120/500], Train Loss: 0.0166, Val Loss: 0.0031, MAE: 0.0428, R^2: 0.9380\n",
            "Epoch [130/500], Train Loss: 0.0159, Val Loss: 0.0025, MAE: 0.0390, R^2: 0.9438\n",
            "Model saved at epoch 130 with Val Loss: 0.0025\n",
            "Epoch [140/500], Train Loss: 0.0155, Val Loss: 0.0026, MAE: 0.0392, R^2: 0.9438\n",
            "Epoch [150/500], Train Loss: 0.0150, Val Loss: 0.0028, MAE: 0.0402, R^2: 0.9446\n",
            "Epoch [160/500], Train Loss: 0.0147, Val Loss: 0.0028, MAE: 0.0398, R^2: 0.9457\n",
            "Epoch [170/500], Train Loss: 0.0143, Val Loss: 0.0028, MAE: 0.0393, R^2: 0.9461\n",
            "Early stopping triggered at epoch 170. Best Val Loss: 0.0025\n"
          ]
        }
      ]
    },
    {
      "cell_type": "code",
      "source": [
        "# Visualization\n",
        "epochs = range(1, len(train_losses) + 1)\n",
        "plt.figure(figsize=(15, 5))\n",
        "\n",
        "# Plot training and validation loss\n",
        "plt.subplot(1, 3, 1)\n",
        "plt.plot(epochs, train_losses, label=\"Train Loss\")\n",
        "plt.plot(range(10, len(val_losses)*10 + 1, 10), val_losses, label=\"Validation Loss\", linestyle=\"--\")\n",
        "plt.xlabel(\"Epochs\")\n",
        "plt.ylabel(\"Loss\")\n",
        "plt.title(\"Training and Validation Loss\")\n",
        "plt.legend()\n",
        "\n",
        "# Plot validation MAE\n",
        "plt.subplot(1, 3, 2)\n",
        "plt.plot(range(10, len(val_maes)*10 + 1, 10), val_maes, label=\"Validation MAE\", color=\"orange\")\n",
        "plt.xlabel(\"Epochs\")\n",
        "plt.ylabel(\"MAE\")\n",
        "plt.title(\"Validation Mean Absolute Error\")\n",
        "plt.legend()\n",
        "\n",
        "# Plot validation R^2\n",
        "plt.subplot(1, 3, 3)\n",
        "plt.plot(range(10, len(val_r2_scores)*10 + 1, 10), val_r2_scores, label=\"Validation R^2\", color=\"green\")\n",
        "plt.xlabel(\"Epochs\")\n",
        "plt.ylabel(\"R^2 Score\")\n",
        "plt.title(\"Validation R^2 Score\")\n",
        "plt.legend()\n",
        "\n",
        "plt.tight_layout()\n",
        "plt.show()"
      ],
      "metadata": {
        "colab": {
          "base_uri": "https://localhost:8080/",
          "height": 507
        },
        "id": "zYBkC3cdnPyV",
        "outputId": "c65607df-a59e-4d7e-b38b-fbb7f296a625"
      },
      "execution_count": 15,
      "outputs": [
        {
          "output_type": "display_data",
          "data": {
            "text/plain": [
              "<Figure size 1500x500 with 3 Axes>"
            ],
            "image/png": "[encoded data removed]"
          },
          "metadata": {}
        }
      ]
    },
    {
      "cell_type": "code",
      "source": [
        "# Test the model\n",
        "model.eval()\n",
        "with torch.no_grad():\n",
        "    test_outputs = model(X_test)\n",
        "    test_loss = criterion(test_outputs, y_test)\n",
        "    mae_test = mean_absolute_error(y_test.numpy(), test_outputs.numpy())\n",
        "    r2_test = r2_score(y_test.numpy(), test_outputs.numpy())\n",
        "\n",
        "    print(f\"Test Loss: {test_loss.item():.4f}\")\n",
        "    print(f\"Test MAE: {mae_test:.4f}\")\n",
        "    print(f\"Test R^2: {r2_test:.4f}\")\n"
      ],
      "metadata": {
        "id": "lXuwFfNlkmEQ",
        "colab": {
          "base_uri": "https://localhost:8080/"
        },
        "outputId": "adc5233d-40a1-43ee-bc73-2e858479b273"
      },
      "execution_count": 16,
      "outputs": [
        {
          "output_type": "stream",
          "name": "stdout",
          "text": [
            "Test Loss: 0.0028\n",
            "Test MAE: 0.0393\n",
            "Test R^2: 0.9462\n"
          ]
        }
      ]
    },
    {
      "cell_type": "markdown",
      "source": [
        "##3. Compare Jacobians##\n"
      ],
      "metadata": {
        "id": "lWNe5FjVJolV"
      }
    },
    {
      "cell_type": "markdown",
      "source": [
        "\n",
        "3.1. Compute the Jacobian matrix for the learned forward kinematics using automatic differentiation.\n",
        "\n"
      ],
      "metadata": {
        "id": "xTzh1e1BJu3x"
      }
    },
    {
      "cell_type": "code",
      "source": [
        "X_test = X_test.clone().detach().float() if isinstance(X_test, torch.Tensor) else torch.tensor(X_test, dtype=torch.float32)\n",
        "y_test = y_test.clone().detach().float() if isinstance(y_test, torch.Tensor) else torch.tensor(y_test, dtype=torch.float32)"
      ],
      "metadata": {
        "id": "vWgtFZP5OCJi"
      },
      "execution_count": 17,
      "outputs": []
    },
    {
      "cell_type": "code",
      "source": [
        "# Assuming X_test is a tensor and you want to extract the first sample\n",
        "X_test_sample = X_test[0].clone().detach().unsqueeze(0).float()  # Add batch dimension and detach\n",
        "print(X_test_sample)"
      ],
      "metadata": {
        "id": "wXM9zpl2OMPJ",
        "colab": {
          "base_uri": "https://localhost:8080/"
        },
        "outputId": "d04b8cf7-d589-421b-92f8-8dd30987fc69"
      },
      "execution_count": 18,
      "outputs": [
        {
          "output_type": "stream",
          "name": "stdout",
          "text": [
            "tensor([[ 1.1610,  0.9355, -0.7795, -0.2319,  0.9161,  1.3920]])\n"
          ]
        }
      ]
    },
    {
      "cell_type": "code",
      "source": [
        "# Load the best model after training\n",
        "model.load_state_dict(torch.load(best_model_path))\n",
        "print(\"Best model loaded for further evaluation or inference.\")"
      ],
      "metadata": {
        "id": "iqxhWP_UQORR",
        "colab": {
          "base_uri": "https://localhost:8080/"
        },
        "outputId": "88460acd-17e1-4211-9b2c-024ef7e6fd53"
      },
      "execution_count": 19,
      "outputs": [
        {
          "output_type": "stream",
          "name": "stdout",
          "text": [
            "Best model loaded for further evaluation or inference.\n"
          ]
        },
        {
          "output_type": "stream",
          "name": "stderr",
          "text": [
            "<ipython-input-19-e99125239d63>:2: FutureWarning: You are using `torch.load` with `weights_only=False` (the current default value), which uses the default pickle module implicitly. It is possible to construct malicious pickle data which will execute arbitrary code during unpickling (See https://github.com/pytorch/pytorch/blob/main/SECURITY.md#untrusted-models for more details). In a future release, the default value for `weights_only` will be flipped to `True`. This limits the functions that could be executed during unpickling. Arbitrary objects will no longer be allowed to be loaded via this mode unless they are explicitly allowlisted by the user via `torch.serialization.add_safe_globals`. We recommend you start setting `weights_only=True` for any use case where you don't have full control of the loaded file. Please open an issue on GitHub for any issues related to this experimental feature.\n",
            "  model.load_state_dict(torch.load(best_model_path))\n"
          ]
        }
      ]
    },
    {
      "cell_type": "code",
      "source": [
        "def compute_2x2_jacobian(model, inputs):\n",
        "    # Ensure input gradients are enabled\n",
        "    if not inputs.requires_grad:\n",
        "        inputs.requires_grad = True\n",
        "\n",
        "    # Forward pass\n",
        "    outputs = model(inputs)\n",
        "\n",
        "    # Select outputs of interest\n",
        "    ft_x, ft_y = outputs[2], outputs[3]\n",
        "\n",
        "    # Initialize the 2x2 Jacobian matrix\n",
        "    jacobian = torch.zeros(2, 2)\n",
        "\n",
        "    # Compute gradients for ft_x\n",
        "    grad_ft_x = torch.autograd.grad(ft_x, inputs, retain_graph=True, create_graph=True)[0]\n",
        "    jacobian[0, 0] = grad_ft_x[0]  # ∂ft_x/∂j0\n",
        "    jacobian[0, 1] = grad_ft_x[1]  # ∂ft_x/∂j1\n",
        "\n",
        "    # Compute gradients for ft_y\n",
        "    grad_ft_y = torch.autograd.grad(ft_y, inputs, retain_graph=True, create_graph=True)[0]\n",
        "    jacobian[1, 0] = grad_ft_y[0]  # ∂ft_y/∂j0\n",
        "    jacobian[1, 1] = grad_ft_y[1]  # ∂ft_y/∂j1\n",
        "\n",
        "    return jacobian"
      ],
      "metadata": {
        "id": "yNbeiZ1mRJRk"
      },
      "execution_count": 19,
      "outputs": []
    },
    {
      "cell_type": "markdown",
      "source": [
        "3.2. Compare the computed Jacobian with the analytical Jacobian for the 2-joint robot."
      ],
      "metadata": {
        "id": "rcFxsQjkJx1l"
      }
    },
    {
      "cell_type": "code",
      "source": [
        "import numpy as np\n",
        "\n",
        "# Analytical Jacobian for a 2-DOF robot\n",
        "def analytical_jacobian_from_test(data):\n",
        "    # Extract joint angles from data\n",
        "    j0 = data[0]  # j0\n",
        "    j1 = data[1]  # j1\n",
        "\n",
        "    l1 = 1.0  # Link 1 length\n",
        "    l2 = 1.0  # Link 2 length\n",
        "\n",
        "    # Calculate the Jacobian elements using the analytical formula\n",
        "    J = np.array([\n",
        "        [-l1 * np.sin(j0) - l2 * np.sin(j0 + j1), -l2 * np.sin(j0 + j1)],\n",
        "        [l1 * np.cos(j0) + l2 * np.cos(j0 + j1), l2 * np.cos(j0 + j1)]\n",
        "    ])\n",
        "    return J"
      ],
      "metadata": {
        "id": "ZwQ2k3qMJ2Jp"
      },
      "execution_count": 20,
      "outputs": []
    },
    {
      "cell_type": "markdown",
      "source": [
        "- Compute Diference between jacobian one iteration"
      ],
      "metadata": {
        "id": "XRZiP84yU3Nw"
      }
    },
    {
      "cell_type": "code",
      "source": [
        "import numpy as np\n",
        "import torch\n",
        "\n",
        "#Numerical Jacobian (calculated by FK_Jacobian)\n",
        "X_test_sample = torch.tensor([-3.0970, -2.6260, -0.9990, -0.8700, -0.0450, -0.4930], requires_grad=True)\n",
        "jacobian_numerical = compute_2x2_jacobian(model, X_test_sample)\n",
        "\n",
        "# Analytical Jacobian (calculated using analytical formula)X_test_sample = [-3.0970, -2.6260, -0.9990, -0.8700, -0.0450, -0.4930] # Extract joint angles for comparison\n",
        "X_test_sample = X_test_sample.detach().numpy()\n",
        "J_analytical = analytical_jacobian_from_test(X_test_sample)\n",
        "\n",
        "# Print both Jacobians\n",
        "print(\"Numerical Jacobian (PyTorch):\\n\", jacobian_numerical)\n",
        "print(\"Analytical Jacobian (2-DOF Robot):\\n\", J_analytical)\n",
        "\n",
        "# Compare both Jacobians by calculating the difference\n",
        "jacobian_difference = (jacobian_numerical.detach().numpy() - J_analytical)\n",
        "print(\"Difference between Numerical and Analytical Jacobians:\\n\", jacobian_difference)"
      ],
      "metadata": {
        "id": "uopqI4FVOPVR",
        "colab": {
          "base_uri": "https://localhost:8080/"
        },
        "outputId": "d93c1dfd-612d-47d8-c9ae-9fa26c4e323e"
      },
      "execution_count": 22,
      "outputs": [
        {
          "output_type": "stream",
          "name": "stdout",
          "text": [
            "Numerical Jacobian (PyTorch):\n",
            " tensor([[ 0.4191,  0.1151],\n",
            "        [ 0.1202, -0.0153]], grad_fn=<CopySlices>)\n",
            "Analytical Jacobian (2-DOF Robot):\n",
            " [[-0.48676559 -0.53134358]\n",
            " [-0.15184945  0.84715647]]\n",
            "Difference between Numerical and Analytical Jacobians:\n",
            " [[ 0.90583795  0.6464105 ]\n",
            " [ 0.27202109 -0.86247068]]\n"
          ]
        }
      ]
    },
    {
      "cell_type": "markdown",
      "source": [
        "- Compute diferences Full test set"
      ],
      "metadata": {
        "id": "Zv6EgK8yU7PO"
      }
    },
    {
      "cell_type": "code",
      "source": [
        "# Initialize lists to store results\n",
        "numerical_jacobians = []\n",
        "analytical_jacobians = []\n",
        "jacobian_differences = []\n",
        "\n",
        "# Loop through the test set to compute the Jacobians and differences\n",
        "for i in range(len(X_test)):\n",
        "    # Get the current sample (convert to tensor and ensure requires_grad=True)\n",
        "    X_test_sample = torch.tensor(X_test[i], dtype=torch.float32, requires_grad=True)\n",
        "\n",
        "    # Compute the numerical Jacobian using the model\n",
        "    jacobian_numerical = compute_2x2_jacobian(model, X_test_sample)\n",
        "\n",
        "    # Compute the analytical Jacobian\n",
        "    X_test_sample_np = X_test_sample.detach().numpy()\n",
        "    J_analytical = analytical_jacobian_from_test(X_test_sample_np)\n",
        "\n",
        "    # Calculate the difference between the Jacobians\n",
        "    jacobian_difference = jacobian_numerical.detach().numpy() - J_analytical\n",
        "\n",
        "    # Store the results\n",
        "    numerical_jacobians.append(jacobian_numerical.detach().numpy())\n",
        "    analytical_jacobians.append(J_analytical)\n",
        "    jacobian_differences.append(jacobian_difference)\n",
        "\n",
        "# Convert lists to numpy arrays for analysis\n",
        "numerical_jacobians = np.array(numerical_jacobians)\n",
        "analytical_jacobians = np.array(analytical_jacobians)\n",
        "jacobian_differences = np.array(jacobian_differences)\n",
        "\n",
        "# Calculate the mean difference\n",
        "mean_difference = np.mean(np.abs(jacobian_differences), axis=(1, 2))  # Mean of absolute differences for each sample\n",
        "mean_difference_overall = np.mean(mean_difference)  # Overall mean difference\n",
        "\n",
        "# Calculate percentage of times analytical Jacobian is bigger or smaller\n",
        "analytical_bigger = np.sum(np.linalg.norm(analytical_jacobians, axis=(1, 2)) > np.linalg.norm(numerical_jacobians, axis=(1, 2)))\n",
        "analytical_smaller = np.sum(np.linalg.norm(analytical_jacobians, axis=(1, 2)) < np.linalg.norm(numerical_jacobians, axis=(1, 2)))\n",
        "total = len(X_test)\n",
        "\n",
        "percent_bigger = (analytical_bigger / total) * 100\n",
        "percent_smaller = (analytical_smaller / total) * 100\n",
        "\n",
        "# Print results\n",
        "print(f\"Mean difference between numerical and analytical Jacobians: {mean_difference_overall:.6f}\")\n",
        "print(f\"Percentage of cases where analytical Jacobian is bigger: {percent_bigger:.2f}%\")\n",
        "print(f\"Percentage of cases where analytical Jacobian is smaller: {percent_smaller:.2f}%\")"
      ],
      "metadata": {
        "id": "OcXMDYgJb2Dw",
        "colab": {
          "base_uri": "https://localhost:8080/"
        },
        "outputId": "f5741223-d038-4f70-a2f0-4c60fe7d6841"
      },
      "execution_count": 23,
      "outputs": [
        {
          "output_type": "stream",
          "name": "stderr",
          "text": [
            "<ipython-input-23-bf3efbc43277>:9: UserWarning: To copy construct from a tensor, it is recommended to use sourceTensor.clone().detach() or sourceTensor.clone().detach().requires_grad_(True), rather than torch.tensor(sourceTensor).\n",
            "  X_test_sample = torch.tensor(X_test[i], dtype=torch.float32, requires_grad=True)\n"
          ]
        },
        {
          "output_type": "stream",
          "name": "stdout",
          "text": [
            "Mean difference between numerical and analytical Jacobians: 0.712081\n",
            "Percentage of cases where analytical Jacobian is bigger: 100.00%\n",
            "Percentage of cases where analytical Jacobian is smaller: 0.00%\n"
          ]
        }
      ]
    },
    {
      "cell_type": "markdown",
      "source": [
        "## Train the model now with different Hyperparameters\n",
        "\n",
        "- second best according to grid search"
      ],
      "metadata": {
        "id": "jK0WcVx0ni6T"
      }
    },
    {
      "cell_type": "code",
      "source": [
        "# Hyperparameters\n",
        "hidden_size = 32\n",
        "learning_rate = 0.01\n",
        "num_epochs = 500"
      ],
      "metadata": {
        "id": "KHB7jHTVWG_g"
      },
      "execution_count": 9,
      "outputs": []
    },
    {
      "cell_type": "code",
      "source": [
        "model = ForwardKinematicsModel(hidden_size=hidden_size)"
      ],
      "metadata": {
        "id": "EF1xnE0voBOo"
      },
      "execution_count": 10,
      "outputs": []
    },
    {
      "cell_type": "code",
      "source": [
        "# Define the loss function and optimizer\n",
        "criterion = nn.MSELoss()\n",
        "optimizer = optim.Adam(model.parameters(), lr=learning_rate)"
      ],
      "metadata": {
        "id": "gNi5HRQNIzSB"
      },
      "execution_count": 11,
      "outputs": []
    },
    {
      "cell_type": "code",
      "source": [
        "# Convert to PyTorch tensors only if necessary\n",
        "X_train = X_train.clone().detach().float() if isinstance(X_train, torch.Tensor) else torch.tensor(X_train, dtype=torch.float32)\n",
        "y_train = y_train.clone().detach().float() if isinstance(y_train, torch.Tensor) else torch.tensor(y_train, dtype=torch.float32)\n",
        "X_val = X_val.clone().detach().float() if isinstance(X_val, torch.Tensor) else torch.tensor(X_val, dtype=torch.float32)\n",
        "y_val = y_val.clone().detach().float() if isinstance(y_val, torch.Tensor) else torch.tensor(y_val, dtype=torch.float32)\n",
        "X_test = X_test.clone().detach().float() if isinstance(X_test, torch.Tensor) else torch.tensor(X_test, dtype=torch.float32)\n",
        "y_test = y_test.clone().detach().float() if isinstance(y_test, torch.Tensor) else torch.tensor(y_test, dtype=torch.float32)"
      ],
      "metadata": {
        "id": "DmGoLw8bIzvE"
      },
      "execution_count": 12,
      "outputs": []
    },
    {
      "cell_type": "code",
      "source": [
        "# Initialize variables for early stopping and visualization\n",
        "best_val_loss = float('inf')\n",
        "patience = 5\n",
        "no_improvement_epochs = 0\n",
        "best_model_path = \"best_model_2.pth\"  # Path to save the best model\n",
        "\n",
        "# Lists to store metrics for visualization\n",
        "train_losses = []\n",
        "val_losses = []\n",
        "val_maes = []\n",
        "val_r2_scores = []\n",
        "\n",
        "# Training loop with early stopping\n",
        "for epoch in range(num_epochs):\n",
        "    model.train()\n",
        "\n",
        "    # Forward pass\n",
        "    outputs = model(X_train)\n",
        "    loss = criterion(outputs, y_train)\n",
        "\n",
        "    # Backward pass and optimization\n",
        "    optimizer.zero_grad()\n",
        "    loss.backward()\n",
        "    optimizer.step()\n",
        "\n",
        "    # Store train loss for visualization\n",
        "    train_losses.append(loss.item())\n",
        "\n",
        "    # Evaluate on validation set\n",
        "    if (epoch + 1) % 10 == 0:\n",
        "        model.eval()\n",
        "        with torch.no_grad():\n",
        "            val_outputs = model(X_val)\n",
        "            val_loss = criterion(val_outputs, y_val)\n",
        "            val_losses.append(val_loss.item())  # Store validation loss\n",
        "\n",
        "            # Calculate additional metrics\n",
        "            mae = mean_absolute_error(y_val.numpy(), val_outputs.numpy())\n",
        "            r2 = r2_score(y_val.numpy(), val_outputs.numpy())\n",
        "            val_maes.append(mae)  # Store validation MAE\n",
        "            val_r2_scores.append(r2)  # Store validation R^2\n",
        "\n",
        "            print(f\"Epoch [{epoch+1}/{num_epochs}], \"\n",
        "                  f\"Train Loss: {loss.item():.4f}, Val Loss: {val_loss.item():.4f}, \"\n",
        "                  f\"MAE: {mae:.4f}, R^2: {r2:.4f}\")\n",
        "\n",
        "            # Early stopping check\n",
        "            if val_loss < best_val_loss:\n",
        "                best_val_loss = val_loss\n",
        "                no_improvement_epochs = 0\n",
        "                # Save the best model\n",
        "                torch.save(model.state_dict(), best_model_path)\n",
        "                print(f\"Model saved at epoch {epoch+1} with Val Loss: {val_loss:.4f}\")\n",
        "            else:\n",
        "                no_improvement_epochs += 1\n",
        "\n",
        "            if no_improvement_epochs >= patience:\n",
        "                print(f\"Early stopping triggered at epoch {epoch+1}. Best Val Loss: {best_val_loss:.4f}\")\n",
        "                break  # Exit the training loop early\n",
        "\n",
        "        model.train()  # Switch back to training mode"
      ],
      "metadata": {
        "id": "wwFmvj7K_R57",
        "outputId": "6515de8f-93d1-4ff6-95bc-89e17ce314a3",
        "colab": {
          "base_uri": "https://localhost:8080/"
        }
      },
      "execution_count": 13,
      "outputs": [
        {
          "output_type": "stream",
          "name": "stdout",
          "text": [
            "Epoch [10/500], Train Loss: 0.1134, Val Loss: 0.0652, MAE: 0.1782, R^2: 0.5261\n",
            "Model saved at epoch 10 with Val Loss: 0.0652\n",
            "Epoch [20/500], Train Loss: 0.0712, Val Loss: 0.0269, MAE: 0.1194, R^2: 0.6650\n",
            "Model saved at epoch 20 with Val Loss: 0.0269\n",
            "Epoch [30/500], Train Loss: 0.0558, Val Loss: 0.0198, MAE: 0.1019, R^2: 0.7791\n",
            "Model saved at epoch 30 with Val Loss: 0.0198\n",
            "Epoch [40/500], Train Loss: 0.0471, Val Loss: 0.0136, MAE: 0.0870, R^2: 0.8121\n",
            "Model saved at epoch 40 with Val Loss: 0.0136\n",
            "Epoch [50/500], Train Loss: 0.0422, Val Loss: 0.0109, MAE: 0.0798, R^2: 0.8344\n",
            "Model saved at epoch 50 with Val Loss: 0.0109\n",
            "Epoch [60/500], Train Loss: 0.0386, Val Loss: 0.0091, MAE: 0.0731, R^2: 0.8470\n",
            "Model saved at epoch 60 with Val Loss: 0.0091\n",
            "Epoch [70/500], Train Loss: 0.0360, Val Loss: 0.0083, MAE: 0.0703, R^2: 0.8506\n",
            "Model saved at epoch 70 with Val Loss: 0.0083\n",
            "Epoch [80/500], Train Loss: 0.0338, Val Loss: 0.0075, MAE: 0.0665, R^2: 0.8614\n",
            "Model saved at epoch 80 with Val Loss: 0.0075\n",
            "Epoch [90/500], Train Loss: 0.0324, Val Loss: 0.0072, MAE: 0.0647, R^2: 0.8645\n",
            "Model saved at epoch 90 with Val Loss: 0.0072\n",
            "Epoch [100/500], Train Loss: 0.0309, Val Loss: 0.0069, MAE: 0.0628, R^2: 0.8672\n",
            "Model saved at epoch 100 with Val Loss: 0.0069\n",
            "Epoch [110/500], Train Loss: 0.0299, Val Loss: 0.0070, MAE: 0.0624, R^2: 0.8664\n",
            "Epoch [120/500], Train Loss: 0.0289, Val Loss: 0.0067, MAE: 0.0611, R^2: 0.8668\n",
            "Model saved at epoch 120 with Val Loss: 0.0067\n",
            "Epoch [130/500], Train Loss: 0.0280, Val Loss: 0.0066, MAE: 0.0601, R^2: 0.8684\n",
            "Model saved at epoch 130 with Val Loss: 0.0066\n",
            "Epoch [140/500], Train Loss: 0.0273, Val Loss: 0.0065, MAE: 0.0594, R^2: 0.8685\n",
            "Model saved at epoch 140 with Val Loss: 0.0065\n",
            "Epoch [150/500], Train Loss: 0.0267, Val Loss: 0.0063, MAE: 0.0586, R^2: 0.8679\n",
            "Model saved at epoch 150 with Val Loss: 0.0063\n",
            "Epoch [160/500], Train Loss: 0.0261, Val Loss: 0.0063, MAE: 0.0583, R^2: 0.8670\n",
            "Model saved at epoch 160 with Val Loss: 0.0063\n",
            "Epoch [170/500], Train Loss: 0.0258, Val Loss: 0.0059, MAE: 0.0566, R^2: 0.8669\n",
            "Model saved at epoch 170 with Val Loss: 0.0059\n",
            "Epoch [180/500], Train Loss: 0.0252, Val Loss: 0.0057, MAE: 0.0555, R^2: 0.8651\n",
            "Model saved at epoch 180 with Val Loss: 0.0057\n",
            "Epoch [190/500], Train Loss: 0.0247, Val Loss: 0.0056, MAE: 0.0555, R^2: 0.8633\n",
            "Model saved at epoch 190 with Val Loss: 0.0056\n",
            "Epoch [200/500], Train Loss: 0.0241, Val Loss: 0.0056, MAE: 0.0557, R^2: 0.8637\n",
            "Model saved at epoch 200 with Val Loss: 0.0056\n",
            "Epoch [210/500], Train Loss: 0.0241, Val Loss: 0.0052, MAE: 0.0535, R^2: 0.8666\n",
            "Model saved at epoch 210 with Val Loss: 0.0052\n",
            "Epoch [220/500], Train Loss: 0.0238, Val Loss: 0.0053, MAE: 0.0540, R^2: 0.8656\n",
            "Epoch [230/500], Train Loss: 0.0234, Val Loss: 0.0053, MAE: 0.0542, R^2: 0.8680\n",
            "Epoch [240/500], Train Loss: 0.0236, Val Loss: 0.0049, MAE: 0.0518, R^2: 0.8695\n",
            "Model saved at epoch 240 with Val Loss: 0.0049\n",
            "Epoch [250/500], Train Loss: 0.0231, Val Loss: 0.0051, MAE: 0.0529, R^2: 0.8707\n",
            "Epoch [260/500], Train Loss: 0.0229, Val Loss: 0.0053, MAE: 0.0543, R^2: 0.8699\n",
            "Epoch [270/500], Train Loss: 0.0228, Val Loss: 0.0049, MAE: 0.0519, R^2: 0.8727\n",
            "Epoch [280/500], Train Loss: 0.0227, Val Loss: 0.0048, MAE: 0.0520, R^2: 0.8759\n",
            "Model saved at epoch 280 with Val Loss: 0.0048\n",
            "Epoch [290/500], Train Loss: 0.0227, Val Loss: 0.0049, MAE: 0.0521, R^2: 0.8749\n",
            "Epoch [300/500], Train Loss: 0.0224, Val Loss: 0.0049, MAE: 0.0515, R^2: 0.8754\n",
            "Epoch [310/500], Train Loss: 0.0224, Val Loss: 0.0045, MAE: 0.0510, R^2: 0.8749\n",
            "Model saved at epoch 310 with Val Loss: 0.0045\n",
            "Epoch [320/500], Train Loss: 0.0220, Val Loss: 0.0045, MAE: 0.0505, R^2: 0.8759\n",
            "Epoch [330/500], Train Loss: 0.0221, Val Loss: 0.0044, MAE: 0.0504, R^2: 0.8743\n",
            "Model saved at epoch 330 with Val Loss: 0.0044\n",
            "Epoch [340/500], Train Loss: 0.0220, Val Loss: 0.0049, MAE: 0.0525, R^2: 0.8721\n",
            "Epoch [350/500], Train Loss: 0.0218, Val Loss: 0.0049, MAE: 0.0524, R^2: 0.8707\n",
            "Epoch [360/500], Train Loss: 0.0217, Val Loss: 0.0045, MAE: 0.0505, R^2: 0.8714\n",
            "Epoch [370/500], Train Loss: 0.0216, Val Loss: 0.0044, MAE: 0.0502, R^2: 0.8689\n",
            "Model saved at epoch 370 with Val Loss: 0.0044\n",
            "Epoch [380/500], Train Loss: 0.0214, Val Loss: 0.0047, MAE: 0.0519, R^2: 0.8660\n",
            "Epoch [390/500], Train Loss: 0.0214, Val Loss: 0.0046, MAE: 0.0519, R^2: 0.8662\n",
            "Epoch [400/500], Train Loss: 0.0213, Val Loss: 0.0052, MAE: 0.0543, R^2: 0.8631\n",
            "Epoch [410/500], Train Loss: 0.0215, Val Loss: 0.0048, MAE: 0.0526, R^2: 0.8639\n",
            "Epoch [420/500], Train Loss: 0.0211, Val Loss: 0.0044, MAE: 0.0501, R^2: 0.8648\n",
            "Model saved at epoch 420 with Val Loss: 0.0044\n",
            "Epoch [430/500], Train Loss: 0.0210, Val Loss: 0.0047, MAE: 0.0509, R^2: 0.8620\n",
            "Epoch [440/500], Train Loss: 0.0212, Val Loss: 0.0048, MAE: 0.0516, R^2: 0.8628\n",
            "Epoch [450/500], Train Loss: 0.0212, Val Loss: 0.0039, MAE: 0.0485, R^2: 0.8650\n",
            "Model saved at epoch 450 with Val Loss: 0.0039\n",
            "Epoch [460/500], Train Loss: 0.0211, Val Loss: 0.0047, MAE: 0.0519, R^2: 0.8620\n",
            "Epoch [470/500], Train Loss: 0.0210, Val Loss: 0.0042, MAE: 0.0488, R^2: 0.8641\n",
            "Epoch [480/500], Train Loss: 0.0210, Val Loss: 0.0044, MAE: 0.0495, R^2: 0.8643\n",
            "Epoch [490/500], Train Loss: 0.0210, Val Loss: 0.0042, MAE: 0.0484, R^2: 0.8628\n",
            "Epoch [500/500], Train Loss: 0.0208, Val Loss: 0.0048, MAE: 0.0526, R^2: 0.8636\n",
            "Early stopping triggered at epoch 500. Best Val Loss: 0.0039\n"
          ]
        }
      ]
    },
    {
      "cell_type": "code",
      "source": [
        "# Visualization\n",
        "epochs = range(1, len(train_losses) + 1)\n",
        "plt.figure(figsize=(15, 5))\n",
        "\n",
        "# Plot training and validation loss\n",
        "plt.subplot(1, 3, 1)\n",
        "plt.plot(epochs, train_losses, label=\"Train Loss\")\n",
        "plt.plot(range(10, len(val_losses)*10 + 1, 10), val_losses, label=\"Validation Loss\", linestyle=\"--\")\n",
        "plt.xlabel(\"Epochs\")\n",
        "plt.ylabel(\"Loss\")\n",
        "plt.title(\"Training and Validation Loss\")\n",
        "plt.legend()\n",
        "\n",
        "# Plot validation MAE\n",
        "plt.subplot(1, 3, 2)\n",
        "plt.plot(range(10, len(val_maes)*10 + 1, 10), val_maes, label=\"Validation MAE\", color=\"orange\")\n",
        "plt.xlabel(\"Epochs\")\n",
        "plt.ylabel(\"MAE\")\n",
        "plt.title(\"Validation Mean Absolute Error\")\n",
        "plt.legend()\n",
        "\n",
        "# Plot validation R^2\n",
        "plt.subplot(1, 3, 3)\n",
        "plt.plot(range(10, len(val_r2_scores)*10 + 1, 10), val_r2_scores, label=\"Validation R^2\", color=\"green\")\n",
        "plt.xlabel(\"Epochs\")\n",
        "plt.ylabel(\"R^2 Score\")\n",
        "plt.title(\"Validation R^2 Score\")\n",
        "plt.legend()\n",
        "\n",
        "plt.tight_layout()\n",
        "plt.show()"
      ],
      "metadata": {
        "id": "n3HL8uUDoFpZ",
        "outputId": "e039da03-925c-4cc2-9d3d-65e1cca5523e",
        "colab": {
          "base_uri": "https://localhost:8080/",
          "height": 507
        }
      },
      "execution_count": 14,
      "outputs": [
        {
          "output_type": "display_data",
          "data": {
            "text/plain": [
              "<Figure size 1500x500 with 3 Axes>"
            ],
            "image/png": "[encoded data removed]"
          },
          "metadata": {}
        }
      ]
    },
    {
      "cell_type": "code",
      "source": [
        "# Test the model\n",
        "model.eval()\n",
        "with torch.no_grad():\n",
        "    test_outputs = model(X_test)\n",
        "    test_loss = criterion(test_outputs, y_test)\n",
        "    mae_test = mean_absolute_error(y_test.numpy(), test_outputs.numpy())\n",
        "    r2_test = r2_score(y_test.numpy(), test_outputs.numpy())\n",
        "\n",
        "    print(f\"Test Loss: {test_loss.item():.4f}\")\n",
        "    print(f\"Test MAE: {mae_test:.4f}\")\n",
        "    print(f\"Test R^2: {r2_test:.4f}\")"
      ],
      "metadata": {
        "id": "VOORWw-yoJWU",
        "outputId": "b06222ca-e943-4356-aa0a-fac09f35b70b",
        "colab": {
          "base_uri": "https://localhost:8080/"
        }
      },
      "execution_count": 15,
      "outputs": [
        {
          "output_type": "stream",
          "name": "stdout",
          "text": [
            "Test Loss: 0.0049\n",
            "Test MAE: 0.0526\n",
            "Test R^2: 0.8632\n"
          ]
        }
      ]
    },
    {
      "cell_type": "code",
      "source": [
        "X_test = X_test.clone().detach().float() if isinstance(X_test, torch.Tensor) else torch.tensor(X_test, dtype=torch.float32)\n",
        "y_test = y_test.clone().detach().float() if isinstance(y_test, torch.Tensor) else torch.tensor(y_test, dtype=torch.float32)"
      ],
      "metadata": {
        "id": "sJ9ORt_govxq"
      },
      "execution_count": 16,
      "outputs": []
    },
    {
      "cell_type": "code",
      "source": [
        "# Assuming X_test is a tensor and you want to extract the first sample\n",
        "X_test_sample = X_test[0].clone().detach().unsqueeze(0).float()  # Add batch dimension and detach\n",
        "print(X_test_sample)"
      ],
      "metadata": {
        "id": "h7rsTc8zo1f9",
        "outputId": "8790026f-0987-4c2a-8540-13748bc07b84",
        "colab": {
          "base_uri": "https://localhost:8080/"
        }
      },
      "execution_count": 17,
      "outputs": [
        {
          "output_type": "stream",
          "name": "stdout",
          "text": [
            "tensor([[ 1.1610,  0.9355, -0.7795, -0.2319,  0.9161,  1.3920]])\n"
          ]
        }
      ]
    },
    {
      "cell_type": "code",
      "source": [
        "import numpy as np\n",
        "import torch\n",
        "\n",
        "#Numerical Jacobian (calculated by FK_Jacobian)\n",
        "X_test_sample = torch.tensor([-3.0970, -2.6260, -0.9990, -0.8700, -0.0450, -0.4930], requires_grad=True)\n",
        "jacobian_numerical = compute_2x2_jacobian(model, X_test_sample)\n",
        "\n",
        "# Analytical Jacobian (calculated using analytical formula)X_test_sample = [-3.0970, -2.6260, -0.9990, -0.8700, -0.0450, -0.4930] # Extract joint angles for comparison\n",
        "X_test_sample = X_test_sample.detach().numpy()\n",
        "J_analytical = analytical_jacobian_from_test(X_test_sample)\n",
        "\n",
        "# Print both Jacobians\n",
        "print(\"Numerical Jacobian (PyTorch):\\n\", jacobian_numerical)\n",
        "print(\"Analytical Jacobian (2-DOF Robot):\\n\", J_analytical)\n",
        "\n",
        "# Compare both Jacobians by calculating the difference\n",
        "jacobian_difference = (jacobian_numerical.detach().numpy() - J_analytical)\n",
        "print(\"Difference between Numerical and Analytical Jacobians:\\n\", jacobian_difference)"
      ],
      "metadata": {
        "id": "V4XkBpCgpkAc",
        "outputId": "f6e68604-d17d-4ab3-a8ab-94f9fed7f139",
        "colab": {
          "base_uri": "https://localhost:8080/"
        }
      },
      "execution_count": 21,
      "outputs": [
        {
          "output_type": "stream",
          "name": "stdout",
          "text": [
            "Numerical Jacobian (PyTorch):\n",
            " tensor([[0.4063, 0.3639],\n",
            "        [0.0853, 0.0193]], grad_fn=<CopySlices>)\n",
            "Analytical Jacobian (2-DOF Robot):\n",
            " [[-0.48676559 -0.53134358]\n",
            " [-0.15184945  0.84715647]]\n",
            "Difference between Numerical and Analytical Jacobians:\n",
            " [[ 0.89306908  0.8952724 ]\n",
            " [ 0.23717557 -0.82784597]]\n"
          ]
        }
      ]
    },
    {
      "cell_type": "code",
      "source": [
        "# Initialize lists to store results\n",
        "numerical_jacobians = []\n",
        "analytical_jacobians = []\n",
        "jacobian_differences = []\n",
        "\n",
        "# Loop through the test set to compute the Jacobians and differences\n",
        "for i in range(len(X_test)):\n",
        "    # Get the current sample (convert to tensor and ensure requires_grad=True)\n",
        "    X_test_sample = torch.tensor(X_test[i], dtype=torch.float32, requires_grad=True)\n",
        "\n",
        "    # Compute the numerical Jacobian using the model\n",
        "    jacobian_numerical = compute_2x2_jacobian(model, X_test_sample)\n",
        "\n",
        "    # Compute the analytical Jacobian\n",
        "    X_test_sample_np = X_test_sample.detach().numpy()\n",
        "    J_analytical = analytical_jacobian_from_test(X_test_sample_np)\n",
        "\n",
        "    # Calculate the difference between the Jacobians\n",
        "    jacobian_difference = jacobian_numerical.detach().numpy() - J_analytical\n",
        "\n",
        "    # Store the results\n",
        "    numerical_jacobians.append(jacobian_numerical.detach().numpy())\n",
        "    analytical_jacobians.append(J_analytical)\n",
        "    jacobian_differences.append(jacobian_difference)\n",
        "\n",
        "# Convert lists to numpy arrays for analysis\n",
        "numerical_jacobians = np.array(numerical_jacobians)\n",
        "analytical_jacobians = np.array(analytical_jacobians)\n",
        "jacobian_differences = np.array(jacobian_differences)\n",
        "\n",
        "# Calculate the mean difference\n",
        "mean_difference = np.mean(np.abs(jacobian_differences), axis=(1, 2))  # Mean of absolute differences for each sample\n",
        "mean_difference_overall = np.mean(mean_difference)  # Overall mean difference\n",
        "\n",
        "# Calculate percentage of times analytical Jacobian is bigger or smaller\n",
        "analytical_bigger = np.sum(np.linalg.norm(analytical_jacobians, axis=(1, 2)) > np.linalg.norm(numerical_jacobians, axis=(1, 2)))\n",
        "analytical_smaller = np.sum(np.linalg.norm(analytical_jacobians, axis=(1, 2)) < np.linalg.norm(numerical_jacobians, axis=(1, 2)))\n",
        "total = len(X_test)\n",
        "\n",
        "percent_bigger = (analytical_bigger / total) * 100\n",
        "percent_smaller = (analytical_smaller / total) * 100\n",
        "\n",
        "# Print results\n",
        "print(f\"Mean difference between numerical and analytical Jacobians: {mean_difference_overall:.6f}\")\n",
        "print(f\"Percentage of cases where analytical Jacobian is bigger: {percent_bigger:.2f}%\")\n",
        "print(f\"Percentage of cases where analytical Jacobian is smaller: {percent_smaller:.2f}%\")"
      ],
      "metadata": {
        "id": "OpUQatLBpm-F",
        "outputId": "83f75645-199a-40c8-f783-a78b3cf0eaef",
        "colab": {
          "base_uri": "https://localhost:8080/"
        }
      },
      "execution_count": 22,
      "outputs": [
        {
          "output_type": "stream",
          "name": "stderr",
          "text": [
            "<ipython-input-22-bf3efbc43277>:9: UserWarning: To copy construct from a tensor, it is recommended to use sourceTensor.clone().detach() or sourceTensor.clone().detach().requires_grad_(True), rather than torch.tensor(sourceTensor).\n",
            "  X_test_sample = torch.tensor(X_test[i], dtype=torch.float32, requires_grad=True)\n"
          ]
        },
        {
          "output_type": "stream",
          "name": "stdout",
          "text": [
            "Mean difference between numerical and analytical Jacobians: 0.646931\n",
            "Percentage of cases where analytical Jacobian is bigger: 92.67%\n",
            "Percentage of cases where analytical Jacobian is smaller: 7.33%\n"
          ]
        }
      ]
    }
  ]
}