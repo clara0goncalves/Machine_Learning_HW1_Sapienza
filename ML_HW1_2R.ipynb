{
  "nbformat": 4,
  "nbformat_minor": 0,
  "metadata": {
    "colab": {
      "provenance": []
    },
    "kernelspec": {
      "name": "python3",
      "display_name": "Python 3"
    },
    "language_info": {
      "name": "python"
    }
  },
  "cells": [
    {
      "cell_type": "markdown",
      "source": [
        "## 0. Install Dependecies"
      ],
      "metadata": {
        "id": "uYkosDKjN6-x"
      }
    },
    {
      "cell_type": "code",
      "source": [
        "pip install torch"
      ],
      "metadata": {
        "id": "bA3-dNGdN6VD",
        "colab": {
          "base_uri": "https://localhost:8080/"
        },
        "outputId": "4aff9190-87d9-4d27-c7d3-a80b2b93bd8e"
      },
      "execution_count": 1,
      "outputs": [
        {
          "output_type": "stream",
          "name": "stdout",
          "text": [
            "Requirement already satisfied: torch in /usr/local/lib/python3.10/dist-packages (2.5.1+cu121)\n",
            "Requirement already satisfied: filelock in /usr/local/lib/python3.10/dist-packages (from torch) (3.16.1)\n",
            "Requirement already satisfied: typing-extensions>=4.8.0 in /usr/local/lib/python3.10/dist-packages (from torch) (4.12.2)\n",
            "Requirement already satisfied: networkx in /usr/local/lib/python3.10/dist-packages (from torch) (3.4.2)\n",
            "Requirement already satisfied: jinja2 in /usr/local/lib/python3.10/dist-packages (from torch) (3.1.4)\n",
            "Requirement already satisfied: fsspec in /usr/local/lib/python3.10/dist-packages (from torch) (2024.10.0)\n",
            "Requirement already satisfied: sympy==1.13.1 in /usr/local/lib/python3.10/dist-packages (from torch) (1.13.1)\n",
            "Requirement already satisfied: mpmath<1.4,>=1.1.0 in /usr/local/lib/python3.10/dist-packages (from sympy==1.13.1->torch) (1.3.0)\n",
            "Requirement already satisfied: MarkupSafe>=2.0 in /usr/local/lib/python3.10/dist-packages (from jinja2->torch) (3.0.2)\n"
          ]
        }
      ]
    },
    {
      "cell_type": "markdown",
      "source": [
        "**Import libraries**"
      ],
      "metadata": {
        "id": "BaBjTEuIRHsg"
      }
    },
    {
      "cell_type": "code",
      "source": [
        "import torch\n",
        "import torch.nn as nn\n",
        "import torch.optim as optim\n",
        "import numpy as np\n",
        "import pandas as pd\n",
        "import matplotlib.pyplot as plt\n",
        "import random\n",
        "from sklearn.model_selection import train_test_split, GridSearchCV\n",
        "from sklearn.preprocessing import StandardScaler\n",
        "from sklearn.metrics import mean_absolute_error, mean_squared_error, r2_score\n",
        "from sklearn.base import BaseEstimator, RegressorMixin"
      ],
      "metadata": {
        "id": "7jsLAS7jRJ2-"
      },
      "execution_count": 3,
      "outputs": []
    },
    {
      "cell_type": "markdown",
      "source": [
        "Set Random seed"
      ],
      "metadata": {
        "id": "yjSuYi7hlpEB"
      }
    },
    {
      "cell_type": "code",
      "source": [
        "# Set random seed for reproducibility\n",
        "seed = 42\n",
        "random.seed(seed)  # Python random module\n",
        "np.random.seed(seed)  # NumPy\n",
        "torch.manual_seed(seed)  # PyTorch\n",
        "\n",
        "# If you're using GPU, set the deterministic flag\n",
        "if torch.cuda.is_available():\n",
        "    torch.cuda.manual_seed(seed)\n",
        "    torch.backends.cudnn.deterministic = True\n",
        "    torch.backends.cudnn.benchmark = False"
      ],
      "metadata": {
        "id": "oRmxPpCJloLq"
      },
      "execution_count": 4,
      "outputs": []
    },
    {
      "cell_type": "markdown",
      "source": [
        "**Set device to GPU if is available otherwise set device as cpu**"
      ],
      "metadata": {
        "id": "83S06ig1RMKa"
      }
    },
    {
      "cell_type": "code",
      "source": [
        "import torch\n",
        "# Check if GPU is available, otherwise use CPU\n",
        "device = torch.device(\"cuda\" if torch.cuda.is_available() else \"cpu\")\n",
        "print(f\"Using device: {device}\")"
      ],
      "metadata": {
        "id": "1IX6jLICPN4c",
        "colab": {
          "base_uri": "https://localhost:8080/"
        },
        "outputId": "4c37704c-e33e-41aa-a16a-623cd9ebef03"
      },
      "execution_count": 5,
      "outputs": [
        {
          "output_type": "stream",
          "name": "stdout",
          "text": [
            "Using device: cpu\n"
          ]
        }
      ]
    },
    {
      "cell_type": "markdown",
      "source": [
        "##1. Dataset##\n",
        "\n",
        "- The Datatset used in this project was generated using the Mujoco simulator with three different configurations:\n",
        "- 2D (2 joints)\n",
        "- 2D (3 joints)\n",
        "- 3D (5 joints)\n",
        "\n",
        "The format of the data is in CSV format, including information about Joint angles, fingertip position, and orientation.\n",
        "\n",
        "This Notebook will focus on the 2DOF Robot dataset.\n"
      ],
      "metadata": {
        "id": "hIO0AeMWIExL"
      }
    },
    {
      "cell_type": "markdown",
      "source": [
        "1.1. Visualise data from the simulator"
      ],
      "metadata": {
        "id": "0_uqRtyhJDj6"
      }
    },
    {
      "cell_type": "code",
      "source": [
        "!head -5 logfiler2.csv"
      ],
      "metadata": {
        "id": "6VflkHGKJDRC",
        "colab": {
          "base_uri": "https://localhost:8080/"
        },
        "outputId": "fc0b7669-a951-45d6-b070-9b1e8a8c9ee3"
      },
      "execution_count": 6,
      "outputs": [
        {
          "output_type": "stream",
          "name": "stdout",
          "text": [
            "j0;j1;cos(j0);cos(j1);sin(j0);sin(j1);ft_x;ft_y;ft_qw;ft_qz\n",
            " 0.055; -0.012;  0.998;  1.000;  0.055; -0.012;  0.210;  0.010;  1.000;  0.021\n",
            " 0.076; -0.017;  0.997;  1.000;  0.076; -0.017;  0.210;  0.014;  1.000;  0.030\n",
            " 0.148; -0.011;  0.989;  1.000;  0.147; -0.011;  0.208;  0.030;  0.998;  0.068\n",
            " 0.214;  0.048;  0.977;  0.999;  0.212;  0.048;  0.204;  0.050;  0.991;  0.131\n"
          ]
        }
      ]
    },
    {
      "cell_type": "markdown",
      "source": [
        "1.2. Preprocess the data\n"
      ],
      "metadata": {
        "id": "rbfjJsgxJI80"
      }
    },
    {
      "cell_type": "markdown",
      "source": [
        "2R Robot"
      ],
      "metadata": {
        "id": "aCM-EXuFQxkU"
      }
    },
    {
      "cell_type": "code",
      "execution_count": 7,
      "metadata": {
        "id": "dJxB_FilEapT"
      },
      "outputs": [],
      "source": [
        "# Load dataset\n",
        "data = pd.read_csv('logfiler2.csv', delimiter=';')\n",
        "\n",
        "# Preprocessing: Extract inputs (joint angles and their trigonometric functions) and outputs (fingertip positions and quaternions)\n",
        "X = data[['j0', 'j1', 'cos(j0)', 'cos(j1)', 'sin(j0)', 'sin(j1)']].values\n",
        "y = data[['ft_x' ,'ft_y' ,'ft_qw','ft_qz']].values\n",
        "\n",
        "# Normalize input features\n",
        "scaler = StandardScaler()\n",
        "X_scaled = scaler.fit_transform(X)"
      ]
    },
    {
      "cell_type": "markdown",
      "source": [
        "- Split the data into training and testing sets"
      ],
      "metadata": {
        "id": "a_UHnh5KJX6W"
      }
    },
    {
      "cell_type": "code",
      "source": [
        "# Split data into training, validation, and testing sets\n",
        "X_train, X_temp, y_train, y_temp = train_test_split(X_scaled, y, test_size=0.3, random_state=42)\n",
        "X_val, X_test, y_val, y_test = train_test_split(X_temp, y_temp, test_size=0.5, random_state=42)\n",
        "\n",
        "# Convert to PyTorch tensors\n",
        "X_train = torch.tensor(X_train, dtype=torch.float32)\n",
        "y_train = torch.tensor(y_train, dtype=torch.float32)\n",
        "X_val = torch.tensor(X_val, dtype=torch.float32)\n",
        "y_val = torch.tensor(y_val, dtype=torch.float32)\n",
        "X_test = torch.tensor(X_test, dtype=torch.float32)\n",
        "y_test = torch.tensor(y_test, dtype=torch.float32)"
      ],
      "metadata": {
        "id": "jze3VIDOQ_aq"
      },
      "execution_count": 8,
      "outputs": []
    },
    {
      "cell_type": "markdown",
      "source": [
        "##2. Train Forward Kinematics Models##\n",
        "\n"
      ],
      "metadata": {
        "id": "gcdL1pWYJNsM"
      }
    },
    {
      "cell_type": "markdown",
      "source": [
        "### 2.1. Robot 2R"
      ],
      "metadata": {
        "id": "LIaJ6J5pOJey"
      }
    },
    {
      "cell_type": "markdown",
      "source": [
        "- Define the architecture of the model (Feedforward Neural Network) to learn forward kinematics.\n",
        "\n",
        "\n"
      ],
      "metadata": {
        "id": "1yDUGGEzJSao"
      }
    },
    {
      "cell_type": "code",
      "source": [
        "class ForwardKinematicsModel(nn.Module):\n",
        "    def __init__(self, hidden_size, dropout_rate=0.3):\n",
        "        super(ForwardKinematicsModel, self).__init__()\n",
        "        # Define a feedforward network with configurable hidden_size and dropout\n",
        "        self.fc1 = nn.Linear(6, hidden_size)  # Input layer\n",
        "        self.dropout1 = nn.Dropout(p=dropout_rate)    # Dropout after first hidden layer\n",
        "        self.fc2 = nn.Linear(hidden_size, hidden_size)  # Second hidden layer\n",
        "        self.dropout2 = nn.Dropout(p=dropout_rate)    # Dropout after second hidden layer\n",
        "        self.fc3 = nn.Linear(hidden_size, 4)  # Output layer\n",
        "\n",
        "    def forward(self, x):\n",
        "        x = torch.relu(self.fc1(x))\n",
        "        x = self.dropout1(x)  # Apply dropout after first hidden layer\n",
        "        x = torch.relu(self.fc2(x))\n",
        "        x = self.dropout2(x)  # Apply dropout after second hidden layer\n",
        "        x = self.fc3(x)\n",
        "        return x"
      ],
      "metadata": {
        "id": "pwmiwxseZOMX"
      },
      "execution_count": 9,
      "outputs": []
    },
    {
      "cell_type": "markdown",
      "source": [
        "- Hyperparameter Search"
      ],
      "metadata": {
        "id": "mvZc8OBWPvSL"
      }
    },
    {
      "cell_type": "markdown",
      "source": [
        "Using Grid Search"
      ],
      "metadata": {
        "id": "kEHlC7SSNV8F"
      }
    },
    {
      "cell_type": "code",
      "source": [
        "# Hyperparameters\n",
        "# Setting dummy values\n",
        "hidden_size = 128\n",
        "learning_rate = 0.001\n",
        "num_epochs = 200"
      ],
      "metadata": {
        "id": "vlphfPdtnboY"
      },
      "execution_count": 10,
      "outputs": []
    },
    {
      "cell_type": "code",
      "source": [
        "# PyTorch Regressor Wrapper\n",
        "class PyTorchRegressor(BaseEstimator, RegressorMixin):\n",
        "    def __init__(self, hidden_size=hidden_size  , lr=learning_rate, epochs=num_epochs):\n",
        "        self.hidden_size = hidden_size\n",
        "        self.lr = lr\n",
        "        self.epochs = epochs\n",
        "        self.model = ForwardKinematicsModel(hidden_size=self.hidden_size)\n",
        "        self.optimizer = optim.Adam(self.model.parameters(), lr=self.lr)\n",
        "        self.criterion = nn.MSELoss()\n",
        "\n",
        "    def fit(self, X, y):\n",
        "        X_train = torch.tensor(X, dtype=torch.float32)\n",
        "        y_train = torch.tensor(y, dtype=torch.float32)\n",
        "        for epoch in range(self.epochs):\n",
        "            self.model.train()\n",
        "            self.optimizer.zero_grad()\n",
        "            output = self.model(X_train)\n",
        "            loss = self.criterion(output, y_train)\n",
        "            loss.backward()\n",
        "            self.optimizer.step()\n",
        "        return self\n",
        "\n",
        "    def predict(self, X):\n",
        "        X_test = torch.tensor(X, dtype=torch.float32)\n",
        "        self.model.eval()\n",
        "        with torch.no_grad():\n",
        "            predictions = self.model(X_test)\n",
        "        return predictions.numpy()\n",
        "\n",
        "# Load your dataset\n",
        "df = pd.read_csv('logfiler2.csv', sep=';')\n",
        "X = df[['j0', 'j1', 'cos(j0)', 'cos(j1)', 'sin(j0)', 'sin(j1)']].values\n",
        "y = df[['ft_x' ,'ft_y' ,'ft_qw','ft_qz']].values\n",
        "\n",
        "# Split dataset\n",
        "from sklearn.model_selection import train_test_split\n",
        "X_train, X_test, y_train, y_test = train_test_split(X, y, test_size=0.2, random_state=42)\n",
        "\n",
        "# Set up hyperparameters to search\n",
        "param_grid = {\n",
        "    'hidden_size': [32, 64, 128],  # Try different numbers of hidden units\n",
        "    'lr': [0.001, 0.01],           # Try different learning rates\n",
        "    'epochs': [100, 200, 500],          # Try different numbers of epochs\n",
        "}\n",
        "\n",
        "# Instantiate the model wrapper\n",
        "pytorch_model = PyTorchRegressor()\n",
        "\n",
        "# Use GridSearchCV\n",
        "grid_search = GridSearchCV(estimator=pytorch_model, param_grid=param_grid, cv=3, verbose=2, n_jobs=1)\n",
        "grid_search.fit(X_train, y_train)\n",
        "\n",
        "# Get the best two combinations of hyperparameters\n",
        "results = pd.DataFrame(grid_search.cv_results_)\n",
        "results = results.sort_values(by='mean_test_score', ascending=False)\n",
        "\n",
        "# Print the best and second-best hyperparameters\n",
        "print(\"Best combination of hyperparameters:\")\n",
        "print(results.iloc[0][['param_hidden_size', 'param_lr', 'param_epochs', 'mean_test_score']])\n",
        "print(\"\\nSecond-best combination of hyperparameters:\")\n",
        "print(results.iloc[1][['param_hidden_size', 'param_lr', 'param_epochs', 'mean_test_score']])\n",
        "\n",
        "# Evaluate the best model on the test set\n",
        "best_model = grid_search.best_estimator_\n",
        "y_pred = best_model.predict(X_test)\n",
        "test_loss = mean_squared_error(y_test, y_pred)\n",
        "print(f\"\\nTest MSE of the best model: {test_loss:.4f}\")"
      ],
      "metadata": {
        "id": "Rn7gU9ofNU9l",
        "colab": {
          "base_uri": "https://localhost:8080/"
        },
        "outputId": "f467e9c0-55c8-4f7c-c29b-62916ad3077c"
      },
      "execution_count": null,
      "outputs": [
        {
          "output_type": "stream",
          "name": "stdout",
          "text": [
            "Fitting 3 folds for each of 18 candidates, totalling 54 fits\n",
            "[CV] END ...............epochs=100, hidden_size=32, lr=0.001; total time=   9.2s\n",
            "[CV] END ...............epochs=100, hidden_size=32, lr=0.001; total time=   8.3s\n",
            "[CV] END ...............epochs=100, hidden_size=32, lr=0.001; total time=   9.2s\n",
            "[CV] END ................epochs=100, hidden_size=32, lr=0.01; total time=   9.2s\n",
            "[CV] END ................epochs=100, hidden_size=32, lr=0.01; total time=   8.4s\n",
            "[CV] END ................epochs=100, hidden_size=32, lr=0.01; total time=   9.2s\n",
            "[CV] END ...............epochs=100, hidden_size=64, lr=0.001; total time=   9.1s\n",
            "[CV] END ...............epochs=100, hidden_size=64, lr=0.001; total time=   8.4s\n",
            "[CV] END ...............epochs=100, hidden_size=64, lr=0.001; total time=   9.2s\n",
            "[CV] END ................epochs=100, hidden_size=64, lr=0.01; total time=   9.2s\n"
          ]
        }
      ]
    },
    {
      "cell_type": "markdown",
      "source": [
        "## Train the model with the best 2 parameters found by grid search"
      ],
      "metadata": {
        "id": "g9ueGIvGPcCP"
      }
    },
    {
      "cell_type": "markdown",
      "source": [
        "- Train the models on joint angle inputs to predict fingertip positions."
      ],
      "metadata": {
        "id": "tDBMT_K2PiS2"
      }
    },
    {
      "cell_type": "code",
      "source": [
        "# Hyperparameters\n",
        "hidden_size = 32\n",
        "learning_rate = 0.0001\n",
        "num_epochs = 500"
      ],
      "metadata": {
        "id": "fz1ipjrTwD-y"
      },
      "execution_count": 12,
      "outputs": []
    },
    {
      "cell_type": "markdown",
      "source": [
        "- Define the loss function and optimizer"
      ],
      "metadata": {
        "id": "Tio9LYtzPKFe"
      }
    },
    {
      "cell_type": "code",
      "source": [
        "model = ForwardKinematicsModel(hidden_size=hidden_size)"
      ],
      "metadata": {
        "id": "3xDtcCCFO-hb"
      },
      "execution_count": 13,
      "outputs": []
    },
    {
      "cell_type": "code",
      "source": [
        "# Define the loss function and optimizer\n",
        "criterion = nn.MSELoss()\n",
        "optimizer = optim.Adam(model.parameters(), lr=learning_rate)"
      ],
      "metadata": {
        "id": "j8l_q3FnzxFk"
      },
      "execution_count": 14,
      "outputs": []
    },
    {
      "cell_type": "code",
      "source": [
        "# Convert to PyTorch tensors only if necessary\n",
        "X_train = X_train.clone().detach().float() if isinstance(X_train, torch.Tensor) else torch.tensor(X_train, dtype=torch.float32)\n",
        "y_train = y_train.clone().detach().float() if isinstance(y_train, torch.Tensor) else torch.tensor(y_train, dtype=torch.float32)\n",
        "X_val = X_val.clone().detach().float() if isinstance(X_val, torch.Tensor) else torch.tensor(X_val, dtype=torch.float32)\n",
        "y_val = y_val.clone().detach().float() if isinstance(y_val, torch.Tensor) else torch.tensor(y_val, dtype=torch.float32)\n",
        "X_test = X_test.clone().detach().float() if isinstance(X_test, torch.Tensor) else torch.tensor(X_test, dtype=torch.float32)\n",
        "y_test = y_test.clone().detach().float() if isinstance(y_test, torch.Tensor) else torch.tensor(y_test, dtype=torch.float32)"
      ],
      "metadata": {
        "id": "szvcvhW6ylGh"
      },
      "execution_count": 15,
      "outputs": []
    },
    {
      "cell_type": "code",
      "source": [
        "# Initialize variables for early stopping\n",
        "best_val_loss = float('inf')\n",
        "patience = 4\n",
        "no_improvement_epochs = 0\n",
        "best_model_path = \"best_model.pth\"  # Path to save the best model\n",
        "\n",
        "# Training loop with early stopping\n",
        "for epoch in range(num_epochs):\n",
        "    model.train()\n",
        "\n",
        "    # Forward pass\n",
        "    outputs = model(X_train)\n",
        "    loss = criterion(outputs, y_train)\n",
        "\n",
        "    # Backward pass and optimization\n",
        "    optimizer.zero_grad()\n",
        "    loss.backward()\n",
        "    optimizer.step()\n",
        "\n",
        "    # Evaluate on validation set\n",
        "    if (epoch + 1) % 10 == 0:\n",
        "        model.eval()\n",
        "        with torch.no_grad():\n",
        "            val_outputs = model(X_val)\n",
        "            val_loss = criterion(val_outputs, y_val)\n",
        "\n",
        "            # Calculate additional metrics\n",
        "            mae = mean_absolute_error(y_val.numpy(), val_outputs.numpy())\n",
        "            r2 = r2_score(y_val.numpy(), val_outputs.numpy())\n",
        "\n",
        "            print(f\"Epoch [{epoch+1}/{num_epochs}], \"\n",
        "                  f\"Train Loss: {loss.item():.4f}, Val Loss: {val_loss.item():.4f}, \"\n",
        "                  f\"MAE: {mae:.4f}, R^2: {r2:.4f}\")\n",
        "\n",
        "            # Early stopping check\n",
        "            if val_loss < best_val_loss:\n",
        "                best_val_loss = val_loss\n",
        "                no_improvement_epochs = 0\n",
        "                # Save the best model\n",
        "                torch.save(model.state_dict(), best_model_path)\n",
        "                print(f\"Model saved at epoch {epoch+1} with Val Loss: {val_loss:.4f}\")\n",
        "            else:\n",
        "                no_improvement_epochs += 1\n",
        "\n",
        "            if no_improvement_epochs >= patience:\n",
        "                print(f\"Early stopping triggered at epoch {epoch+1}. Best Val Loss: {best_val_loss:.4f}\")\n",
        "\n",
        "        model.train()  # Switch back to training mode"
      ],
      "metadata": {
        "id": "MxXXl4lG5FQh",
        "colab": {
          "base_uri": "https://localhost:8080/"
        },
        "outputId": "6e8f4dd7-3faa-4358-e5de-c1c1fe88e6c3"
      },
      "execution_count": 16,
      "outputs": [
        {
          "output_type": "stream",
          "name": "stdout",
          "text": [
            "Epoch [10/500], Train Loss: 0.3899, Val Loss: 0.3387, MAE: 0.4311, R^2: -1.6011\n",
            "Model saved at epoch 10 with Val Loss: 0.3387\n",
            "Epoch [20/500], Train Loss: 0.3762, Val Loss: 0.3313, MAE: 0.4258, R^2: -1.4923\n",
            "Model saved at epoch 20 with Val Loss: 0.3313\n",
            "Epoch [30/500], Train Loss: 0.3640, Val Loss: 0.3244, MAE: 0.4208, R^2: -1.3941\n",
            "Model saved at epoch 30 with Val Loss: 0.3244\n",
            "Epoch [40/500], Train Loss: 0.3528, Val Loss: 0.3178, MAE: 0.4161, R^2: -1.3062\n",
            "Model saved at epoch 40 with Val Loss: 0.3178\n",
            "Epoch [50/500], Train Loss: 0.3424, Val Loss: 0.3116, MAE: 0.4116, R^2: -1.2270\n",
            "Model saved at epoch 50 with Val Loss: 0.3116\n",
            "Epoch [60/500], Train Loss: 0.3330, Val Loss: 0.3057, MAE: 0.4073, R^2: -1.1551\n",
            "Model saved at epoch 60 with Val Loss: 0.3057\n",
            "Epoch [70/500], Train Loss: 0.3234, Val Loss: 0.3001, MAE: 0.4031, R^2: -1.0893\n",
            "Model saved at epoch 70 with Val Loss: 0.3001\n",
            "Epoch [80/500], Train Loss: 0.3153, Val Loss: 0.2947, MAE: 0.3991, R^2: -1.0288\n",
            "Model saved at epoch 80 with Val Loss: 0.2947\n",
            "Epoch [90/500], Train Loss: 0.3067, Val Loss: 0.2895, MAE: 0.3953, R^2: -0.9733\n",
            "Model saved at epoch 90 with Val Loss: 0.2895\n",
            "Epoch [100/500], Train Loss: 0.2997, Val Loss: 0.2846, MAE: 0.3915, R^2: -0.9220\n",
            "Model saved at epoch 100 with Val Loss: 0.2846\n",
            "Epoch [110/500], Train Loss: 0.2930, Val Loss: 0.2798, MAE: 0.3879, R^2: -0.8746\n",
            "Model saved at epoch 110 with Val Loss: 0.2798\n",
            "Epoch [120/500], Train Loss: 0.2860, Val Loss: 0.2752, MAE: 0.3843, R^2: -0.8308\n",
            "Model saved at epoch 120 with Val Loss: 0.2752\n",
            "Epoch [130/500], Train Loss: 0.2796, Val Loss: 0.2707, MAE: 0.3808, R^2: -0.7900\n",
            "Model saved at epoch 130 with Val Loss: 0.2707\n",
            "Epoch [140/500], Train Loss: 0.2737, Val Loss: 0.2663, MAE: 0.3774, R^2: -0.7519\n",
            "Model saved at epoch 140 with Val Loss: 0.2663\n",
            "Epoch [150/500], Train Loss: 0.2683, Val Loss: 0.2621, MAE: 0.3740, R^2: -0.7153\n",
            "Model saved at epoch 150 with Val Loss: 0.2621\n",
            "Epoch [160/500], Train Loss: 0.2626, Val Loss: 0.2580, MAE: 0.3706, R^2: -0.6807\n",
            "Model saved at epoch 160 with Val Loss: 0.2580\n",
            "Epoch [170/500], Train Loss: 0.2574, Val Loss: 0.2539, MAE: 0.3673, R^2: -0.6477\n",
            "Model saved at epoch 170 with Val Loss: 0.2539\n",
            "Epoch [180/500], Train Loss: 0.2523, Val Loss: 0.2500, MAE: 0.3640, R^2: -0.6161\n",
            "Model saved at epoch 180 with Val Loss: 0.2500\n",
            "Epoch [190/500], Train Loss: 0.2472, Val Loss: 0.2461, MAE: 0.3608, R^2: -0.5862\n",
            "Model saved at epoch 190 with Val Loss: 0.2461\n",
            "Epoch [200/500], Train Loss: 0.2427, Val Loss: 0.2423, MAE: 0.3576, R^2: -0.5577\n",
            "Model saved at epoch 200 with Val Loss: 0.2423\n",
            "Epoch [210/500], Train Loss: 0.2385, Val Loss: 0.2385, MAE: 0.3544, R^2: -0.5306\n",
            "Model saved at epoch 210 with Val Loss: 0.2385\n",
            "Epoch [220/500], Train Loss: 0.2340, Val Loss: 0.2348, MAE: 0.3513, R^2: -0.5047\n",
            "Model saved at epoch 220 with Val Loss: 0.2348\n",
            "Epoch [230/500], Train Loss: 0.2286, Val Loss: 0.2311, MAE: 0.3483, R^2: -0.4799\n",
            "Model saved at epoch 230 with Val Loss: 0.2311\n",
            "Epoch [240/500], Train Loss: 0.2255, Val Loss: 0.2275, MAE: 0.3452, R^2: -0.4560\n",
            "Model saved at epoch 240 with Val Loss: 0.2275\n",
            "Epoch [250/500], Train Loss: 0.2217, Val Loss: 0.2240, MAE: 0.3423, R^2: -0.4331\n",
            "Model saved at epoch 250 with Val Loss: 0.2240\n",
            "Epoch [260/500], Train Loss: 0.2168, Val Loss: 0.2205, MAE: 0.3394, R^2: -0.4111\n",
            "Model saved at epoch 260 with Val Loss: 0.2205\n",
            "Epoch [270/500], Train Loss: 0.2133, Val Loss: 0.2171, MAE: 0.3366, R^2: -0.3899\n",
            "Model saved at epoch 270 with Val Loss: 0.2171\n",
            "Epoch [280/500], Train Loss: 0.2096, Val Loss: 0.2137, MAE: 0.3339, R^2: -0.3696\n",
            "Model saved at epoch 280 with Val Loss: 0.2137\n",
            "Epoch [290/500], Train Loss: 0.2059, Val Loss: 0.2104, MAE: 0.3312, R^2: -0.3500\n",
            "Model saved at epoch 290 with Val Loss: 0.2104\n",
            "Epoch [300/500], Train Loss: 0.2026, Val Loss: 0.2072, MAE: 0.3286, R^2: -0.3314\n",
            "Model saved at epoch 300 with Val Loss: 0.2072\n",
            "Epoch [310/500], Train Loss: 0.1990, Val Loss: 0.2040, MAE: 0.3260, R^2: -0.3138\n",
            "Model saved at epoch 310 with Val Loss: 0.2040\n",
            "Epoch [320/500], Train Loss: 0.1963, Val Loss: 0.2009, MAE: 0.3235, R^2: -0.2966\n",
            "Model saved at epoch 320 with Val Loss: 0.2009\n",
            "Epoch [330/500], Train Loss: 0.1928, Val Loss: 0.1979, MAE: 0.3210, R^2: -0.2801\n",
            "Model saved at epoch 330 with Val Loss: 0.1979\n",
            "Epoch [340/500], Train Loss: 0.1895, Val Loss: 0.1948, MAE: 0.3186, R^2: -0.2642\n",
            "Model saved at epoch 340 with Val Loss: 0.1948\n",
            "Epoch [350/500], Train Loss: 0.1867, Val Loss: 0.1919, MAE: 0.3162, R^2: -0.2490\n",
            "Model saved at epoch 350 with Val Loss: 0.1919\n",
            "Epoch [360/500], Train Loss: 0.1838, Val Loss: 0.1890, MAE: 0.3138, R^2: -0.2342\n",
            "Model saved at epoch 360 with Val Loss: 0.1890\n",
            "Epoch [370/500], Train Loss: 0.1816, Val Loss: 0.1861, MAE: 0.3115, R^2: -0.2200\n",
            "Model saved at epoch 370 with Val Loss: 0.1861\n",
            "Epoch [380/500], Train Loss: 0.1777, Val Loss: 0.1833, MAE: 0.3092, R^2: -0.2061\n",
            "Model saved at epoch 380 with Val Loss: 0.1833\n",
            "Epoch [390/500], Train Loss: 0.1749, Val Loss: 0.1806, MAE: 0.3069, R^2: -0.1925\n",
            "Model saved at epoch 390 with Val Loss: 0.1806\n",
            "Epoch [400/500], Train Loss: 0.1727, Val Loss: 0.1779, MAE: 0.3047, R^2: -0.1792\n",
            "Model saved at epoch 400 with Val Loss: 0.1779\n",
            "Epoch [410/500], Train Loss: 0.1704, Val Loss: 0.1752, MAE: 0.3025, R^2: -0.1665\n",
            "Model saved at epoch 410 with Val Loss: 0.1752\n",
            "Epoch [420/500], Train Loss: 0.1681, Val Loss: 0.1726, MAE: 0.3004, R^2: -0.1541\n",
            "Model saved at epoch 420 with Val Loss: 0.1726\n",
            "Epoch [430/500], Train Loss: 0.1653, Val Loss: 0.1701, MAE: 0.2982, R^2: -0.1420\n",
            "Model saved at epoch 430 with Val Loss: 0.1701\n",
            "Epoch [440/500], Train Loss: 0.1629, Val Loss: 0.1676, MAE: 0.2961, R^2: -0.1302\n",
            "Model saved at epoch 440 with Val Loss: 0.1676\n",
            "Epoch [450/500], Train Loss: 0.1603, Val Loss: 0.1651, MAE: 0.2940, R^2: -0.1186\n",
            "Model saved at epoch 450 with Val Loss: 0.1651\n",
            "Epoch [460/500], Train Loss: 0.1580, Val Loss: 0.1627, MAE: 0.2920, R^2: -0.1074\n",
            "Model saved at epoch 460 with Val Loss: 0.1627\n",
            "Epoch [470/500], Train Loss: 0.1558, Val Loss: 0.1604, MAE: 0.2900, R^2: -0.0964\n",
            "Model saved at epoch 470 with Val Loss: 0.1604\n",
            "Epoch [480/500], Train Loss: 0.1539, Val Loss: 0.1580, MAE: 0.2880, R^2: -0.0857\n",
            "Model saved at epoch 480 with Val Loss: 0.1580\n",
            "Epoch [490/500], Train Loss: 0.1518, Val Loss: 0.1558, MAE: 0.2860, R^2: -0.0752\n",
            "Model saved at epoch 490 with Val Loss: 0.1558\n",
            "Epoch [500/500], Train Loss: 0.1500, Val Loss: 0.1536, MAE: 0.2841, R^2: -0.0649\n",
            "Model saved at epoch 500 with Val Loss: 0.1536\n"
          ]
        }
      ]
    },
    {
      "cell_type": "code",
      "source": [
        "# Initialize variables for early stopping and visualization\n",
        "best_val_loss = float('inf')\n",
        "patience = 4\n",
        "no_improvement_epochs = 0\n",
        "best_model_path = \"best_model.pth\"  # Path to save the best model\n",
        "\n",
        "# Lists to store metrics for visualization\n",
        "train_losses = []\n",
        "val_losses = []\n",
        "val_maes = []\n",
        "val_r2_scores = []\n",
        "\n",
        "# Training loop with early stopping\n",
        "for epoch in range(num_epochs):\n",
        "    model.train()\n",
        "\n",
        "    # Forward pass\n",
        "    outputs = model(X_train)\n",
        "    loss = criterion(outputs, y_train)\n",
        "\n",
        "    # Backward pass and optimization\n",
        "    optimizer.zero_grad()\n",
        "    loss.backward()\n",
        "    optimizer.step()\n",
        "\n",
        "    # Store train loss for visualization\n",
        "    train_losses.append(loss.item())\n",
        "\n",
        "    # Evaluate on validation set\n",
        "    if (epoch + 1) % 10 == 0:\n",
        "        model.eval()\n",
        "        with torch.no_grad():\n",
        "            val_outputs = model(X_val)\n",
        "            val_loss = criterion(val_outputs, y_val)\n",
        "            val_losses.append(val_loss.item())  # Store validation loss\n",
        "\n",
        "            # Calculate additional metrics\n",
        "            mae = mean_absolute_error(y_val.numpy(), val_outputs.numpy())\n",
        "            r2 = r2_score(y_val.numpy(), val_outputs.numpy())\n",
        "            val_maes.append(mae)  # Store validation MAE\n",
        "            val_r2_scores.append(r2)  # Store validation R^2\n",
        "\n",
        "            print(f\"Epoch [{epoch+1}/{num_epochs}], \"\n",
        "                  f\"Train Loss: {loss.item():.4f}, Val Loss: {val_loss.item():.4f}, \"\n",
        "                  f\"MAE: {mae:.4f}, R^2: {r2:.4f}\")\n",
        "\n",
        "            # Early stopping check\n",
        "            if val_loss < best_val_loss:\n",
        "                best_val_loss = val_loss\n",
        "                no_improvement_epochs = 0\n",
        "                # Save the best model\n",
        "                torch.save(model.state_dict(), best_model_path)\n",
        "                print(f\"Model saved at epoch {epoch+1} with Val Loss: {val_loss:.4f}\")\n",
        "            else:\n",
        "                no_improvement_epochs += 1\n",
        "\n",
        "            if no_improvement_epochs >= patience:\n",
        "                print(f\"Early stopping triggered at epoch {epoch+1}. Best Val Loss: {best_val_loss:.4f}\")\n",
        "                break  # Exit the training loop early\n",
        "\n",
        "        model.train()  # Switch back to training mode"
      ],
      "metadata": {
        "colab": {
          "base_uri": "https://localhost:8080/"
        },
        "id": "fYuG0tz1nOAo",
        "outputId": "62eb27f3-602c-4c11-e987-5c3f31dc3497"
      },
      "execution_count": 17,
      "outputs": [
        {
          "output_type": "stream",
          "name": "stdout",
          "text": [
            "Epoch [10/500], Train Loss: 0.1476, Val Loss: 0.1514, MAE: 0.2821, R^2: -0.0548\n",
            "Model saved at epoch 10 with Val Loss: 0.1514\n",
            "Epoch [20/500], Train Loss: 0.1454, Val Loss: 0.1493, MAE: 0.2803, R^2: -0.0449\n",
            "Model saved at epoch 20 with Val Loss: 0.1493\n",
            "Epoch [30/500], Train Loss: 0.1435, Val Loss: 0.1472, MAE: 0.2784, R^2: -0.0355\n",
            "Model saved at epoch 30 with Val Loss: 0.1472\n",
            "Epoch [40/500], Train Loss: 0.1413, Val Loss: 0.1452, MAE: 0.2766, R^2: -0.0261\n",
            "Model saved at epoch 40 with Val Loss: 0.1452\n",
            "Epoch [50/500], Train Loss: 0.1398, Val Loss: 0.1432, MAE: 0.2748, R^2: -0.0168\n",
            "Model saved at epoch 50 with Val Loss: 0.1432\n",
            "Epoch [60/500], Train Loss: 0.1378, Val Loss: 0.1412, MAE: 0.2730, R^2: -0.0078\n",
            "Model saved at epoch 60 with Val Loss: 0.1412\n",
            "Epoch [70/500], Train Loss: 0.1360, Val Loss: 0.1393, MAE: 0.2712, R^2: 0.0010\n",
            "Model saved at epoch 70 with Val Loss: 0.1393\n",
            "Epoch [80/500], Train Loss: 0.1337, Val Loss: 0.1375, MAE: 0.2695, R^2: 0.0098\n",
            "Model saved at epoch 80 with Val Loss: 0.1375\n",
            "Epoch [90/500], Train Loss: 0.1324, Val Loss: 0.1357, MAE: 0.2678, R^2: 0.0186\n",
            "Model saved at epoch 90 with Val Loss: 0.1357\n",
            "Epoch [100/500], Train Loss: 0.1307, Val Loss: 0.1339, MAE: 0.2661, R^2: 0.0274\n",
            "Model saved at epoch 100 with Val Loss: 0.1339\n",
            "Epoch [110/500], Train Loss: 0.1288, Val Loss: 0.1321, MAE: 0.2644, R^2: 0.0364\n",
            "Model saved at epoch 110 with Val Loss: 0.1321\n",
            "Epoch [120/500], Train Loss: 0.1271, Val Loss: 0.1304, MAE: 0.2627, R^2: 0.0454\n",
            "Model saved at epoch 120 with Val Loss: 0.1304\n",
            "Epoch [130/500], Train Loss: 0.1259, Val Loss: 0.1288, MAE: 0.2610, R^2: 0.0543\n",
            "Model saved at epoch 130 with Val Loss: 0.1288\n",
            "Epoch [140/500], Train Loss: 0.1237, Val Loss: 0.1271, MAE: 0.2593, R^2: 0.0631\n",
            "Model saved at epoch 140 with Val Loss: 0.1271\n",
            "Epoch [150/500], Train Loss: 0.1224, Val Loss: 0.1255, MAE: 0.2577, R^2: 0.0719\n",
            "Model saved at epoch 150 with Val Loss: 0.1255\n",
            "Epoch [160/500], Train Loss: 0.1209, Val Loss: 0.1240, MAE: 0.2561, R^2: 0.0807\n",
            "Model saved at epoch 160 with Val Loss: 0.1240\n",
            "Epoch [170/500], Train Loss: 0.1190, Val Loss: 0.1225, MAE: 0.2545, R^2: 0.0896\n",
            "Model saved at epoch 170 with Val Loss: 0.1225\n",
            "Epoch [180/500], Train Loss: 0.1176, Val Loss: 0.1210, MAE: 0.2529, R^2: 0.0983\n",
            "Model saved at epoch 180 with Val Loss: 0.1210\n",
            "Epoch [190/500], Train Loss: 0.1160, Val Loss: 0.1196, MAE: 0.2514, R^2: 0.1069\n",
            "Model saved at epoch 190 with Val Loss: 0.1196\n",
            "Epoch [200/500], Train Loss: 0.1145, Val Loss: 0.1182, MAE: 0.2499, R^2: 0.1153\n",
            "Model saved at epoch 200 with Val Loss: 0.1182\n",
            "Epoch [210/500], Train Loss: 0.1134, Val Loss: 0.1169, MAE: 0.2485, R^2: 0.1235\n",
            "Model saved at epoch 210 with Val Loss: 0.1169\n",
            "Epoch [220/500], Train Loss: 0.1118, Val Loss: 0.1156, MAE: 0.2470, R^2: 0.1316\n",
            "Model saved at epoch 220 with Val Loss: 0.1156\n",
            "Epoch [230/500], Train Loss: 0.1109, Val Loss: 0.1143, MAE: 0.2456, R^2: 0.1395\n",
            "Model saved at epoch 230 with Val Loss: 0.1143\n",
            "Epoch [240/500], Train Loss: 0.1094, Val Loss: 0.1131, MAE: 0.2442, R^2: 0.1472\n",
            "Model saved at epoch 240 with Val Loss: 0.1131\n",
            "Epoch [250/500], Train Loss: 0.1074, Val Loss: 0.1119, MAE: 0.2429, R^2: 0.1546\n",
            "Model saved at epoch 250 with Val Loss: 0.1119\n",
            "Epoch [260/500], Train Loss: 0.1062, Val Loss: 0.1108, MAE: 0.2416, R^2: 0.1619\n",
            "Model saved at epoch 260 with Val Loss: 0.1108\n",
            "Epoch [270/500], Train Loss: 0.1052, Val Loss: 0.1097, MAE: 0.2403, R^2: 0.1691\n",
            "Model saved at epoch 270 with Val Loss: 0.1097\n",
            "Epoch [280/500], Train Loss: 0.1040, Val Loss: 0.1086, MAE: 0.2390, R^2: 0.1760\n",
            "Model saved at epoch 280 with Val Loss: 0.1086\n",
            "Epoch [290/500], Train Loss: 0.1027, Val Loss: 0.1076, MAE: 0.2378, R^2: 0.1827\n",
            "Model saved at epoch 290 with Val Loss: 0.1076\n",
            "Epoch [300/500], Train Loss: 0.1010, Val Loss: 0.1066, MAE: 0.2366, R^2: 0.1894\n",
            "Model saved at epoch 300 with Val Loss: 0.1066\n",
            "Epoch [310/500], Train Loss: 0.1004, Val Loss: 0.1057, MAE: 0.2355, R^2: 0.1959\n",
            "Model saved at epoch 310 with Val Loss: 0.1057\n",
            "Epoch [320/500], Train Loss: 0.0993, Val Loss: 0.1048, MAE: 0.2344, R^2: 0.2021\n",
            "Model saved at epoch 320 with Val Loss: 0.1048\n",
            "Epoch [330/500], Train Loss: 0.0978, Val Loss: 0.1039, MAE: 0.2333, R^2: 0.2082\n",
            "Model saved at epoch 330 with Val Loss: 0.1039\n",
            "Epoch [340/500], Train Loss: 0.0969, Val Loss: 0.1031, MAE: 0.2323, R^2: 0.2142\n",
            "Model saved at epoch 340 with Val Loss: 0.1031\n",
            "Epoch [350/500], Train Loss: 0.0962, Val Loss: 0.1023, MAE: 0.2313, R^2: 0.2201\n",
            "Model saved at epoch 350 with Val Loss: 0.1023\n",
            "Epoch [360/500], Train Loss: 0.0953, Val Loss: 0.1016, MAE: 0.2303, R^2: 0.2257\n",
            "Model saved at epoch 360 with Val Loss: 0.1016\n",
            "Epoch [370/500], Train Loss: 0.0942, Val Loss: 0.1009, MAE: 0.2294, R^2: 0.2313\n",
            "Model saved at epoch 370 with Val Loss: 0.1009\n",
            "Epoch [380/500], Train Loss: 0.0930, Val Loss: 0.1002, MAE: 0.2285, R^2: 0.2367\n",
            "Model saved at epoch 380 with Val Loss: 0.1002\n",
            "Epoch [390/500], Train Loss: 0.0920, Val Loss: 0.0995, MAE: 0.2277, R^2: 0.2420\n",
            "Model saved at epoch 390 with Val Loss: 0.0995\n",
            "Epoch [400/500], Train Loss: 0.0912, Val Loss: 0.0989, MAE: 0.2269, R^2: 0.2472\n",
            "Model saved at epoch 400 with Val Loss: 0.0989\n",
            "Epoch [410/500], Train Loss: 0.0906, Val Loss: 0.0983, MAE: 0.2261, R^2: 0.2522\n",
            "Model saved at epoch 410 with Val Loss: 0.0983\n",
            "Epoch [420/500], Train Loss: 0.0894, Val Loss: 0.0977, MAE: 0.2253, R^2: 0.2571\n",
            "Model saved at epoch 420 with Val Loss: 0.0977\n",
            "Epoch [430/500], Train Loss: 0.0887, Val Loss: 0.0971, MAE: 0.2246, R^2: 0.2620\n",
            "Model saved at epoch 430 with Val Loss: 0.0971\n",
            "Epoch [440/500], Train Loss: 0.0878, Val Loss: 0.0966, MAE: 0.2239, R^2: 0.2667\n",
            "Model saved at epoch 440 with Val Loss: 0.0966\n",
            "Epoch [450/500], Train Loss: 0.0875, Val Loss: 0.0961, MAE: 0.2233, R^2: 0.2714\n",
            "Model saved at epoch 450 with Val Loss: 0.0961\n",
            "Epoch [460/500], Train Loss: 0.0865, Val Loss: 0.0956, MAE: 0.2227, R^2: 0.2759\n",
            "Model saved at epoch 460 with Val Loss: 0.0956\n",
            "Epoch [470/500], Train Loss: 0.0856, Val Loss: 0.0951, MAE: 0.2221, R^2: 0.2802\n",
            "Model saved at epoch 470 with Val Loss: 0.0951\n",
            "Epoch [480/500], Train Loss: 0.0849, Val Loss: 0.0947, MAE: 0.2216, R^2: 0.2846\n",
            "Model saved at epoch 480 with Val Loss: 0.0947\n",
            "Epoch [490/500], Train Loss: 0.0840, Val Loss: 0.0942, MAE: 0.2211, R^2: 0.2888\n",
            "Model saved at epoch 490 with Val Loss: 0.0942\n",
            "Epoch [500/500], Train Loss: 0.0839, Val Loss: 0.0938, MAE: 0.2206, R^2: 0.2930\n",
            "Model saved at epoch 500 with Val Loss: 0.0938\n"
          ]
        }
      ]
    },
    {
      "cell_type": "code",
      "source": [
        "# Visualization\n",
        "epochs = range(1, len(train_losses) + 1)\n",
        "plt.figure(figsize=(15, 5))\n",
        "\n",
        "# Plot training and validation loss\n",
        "plt.subplot(1, 3, 1)\n",
        "plt.plot(epochs, train_losses, label=\"Train Loss\")\n",
        "plt.plot(range(10, len(val_losses)*10 + 1, 10), val_losses, label=\"Validation Loss\", linestyle=\"--\")\n",
        "plt.xlabel(\"Epochs\")\n",
        "plt.ylabel(\"Loss\")\n",
        "plt.title(\"Training and Validation Loss\")\n",
        "plt.legend()\n",
        "\n",
        "# Plot validation MAE\n",
        "plt.subplot(1, 3, 2)\n",
        "plt.plot(range(10, len(val_maes)*10 + 1, 10), val_maes, label=\"Validation MAE\", color=\"orange\")\n",
        "plt.xlabel(\"Epochs\")\n",
        "plt.ylabel(\"MAE\")\n",
        "plt.title(\"Validation Mean Absolute Error\")\n",
        "plt.legend()\n",
        "\n",
        "# Plot validation R^2\n",
        "plt.subplot(1, 3, 3)\n",
        "plt.plot(range(10, len(val_r2_scores)*10 + 1, 10), val_r2_scores, label=\"Validation R^2\", color=\"green\")\n",
        "plt.xlabel(\"Epochs\")\n",
        "plt.ylabel(\"R^2 Score\")\n",
        "plt.title(\"Validation R^2 Score\")\n",
        "plt.legend()\n",
        "\n",
        "plt.tight_layout()\n",
        "plt.show()"
      ],
      "metadata": {
        "colab": {
          "base_uri": "https://localhost:8080/",
          "height": 507
        },
        "id": "zYBkC3cdnPyV",
        "outputId": "a654f06f-9225-48f8-d796-9ed614768f97"
      },
      "execution_count": 18,
      "outputs": [
        {
          "output_type": "display_data",
          "data": {
            "text/plain": [
              "<Figure size 1500x500 with 3 Axes>"
            ],
            "image/png": "[encoded data removed]"
          },
          "metadata": {}
        }
      ]
    },
    {
      "cell_type": "code",
      "source": [
        "# Test the model\n",
        "model.eval()\n",
        "with torch.no_grad():\n",
        "    test_outputs = model(X_test)\n",
        "    test_loss = criterion(test_outputs, y_test)\n",
        "    mae_test = mean_absolute_error(y_test.numpy(), test_outputs.numpy())\n",
        "    r2_test = r2_score(y_test.numpy(), test_outputs.numpy())\n",
        "\n",
        "    print(f\"Test Loss: {test_loss.item():.4f}\")\n",
        "    print(f\"Test MAE: {mae_test:.4f}\")\n",
        "    print(f\"Test R^2: {r2_test:.4f}\")\n"
      ],
      "metadata": {
        "id": "lXuwFfNlkmEQ",
        "colab": {
          "base_uri": "https://localhost:8080/"
        },
        "outputId": "3cc15157-23c6-4b72-a689-ae5e6079aa0c"
      },
      "execution_count": 19,
      "outputs": [
        {
          "output_type": "stream",
          "name": "stdout",
          "text": [
            "Test Loss: 0.0362\n",
            "Test MAE: 0.1445\n",
            "Test R^2: 0.4678\n"
          ]
        }
      ]
    },
    {
      "cell_type": "markdown",
      "source": [
        "##3. Compare Jacobians##\n"
      ],
      "metadata": {
        "id": "lWNe5FjVJolV"
      }
    },
    {
      "cell_type": "markdown",
      "source": [
        "\n",
        "3.1. Compute the Jacobian matrix for the learned forward kinematics using automatic differentiation.\n",
        "\n"
      ],
      "metadata": {
        "id": "xTzh1e1BJu3x"
      }
    },
    {
      "cell_type": "code",
      "source": [
        "X_test = X_test.clone().detach().float() if isinstance(X_test, torch.Tensor) else torch.tensor(X_test, dtype=torch.float32)\n",
        "y_test = y_test.clone().detach().float() if isinstance(y_test, torch.Tensor) else torch.tensor(y_test, dtype=torch.float32)"
      ],
      "metadata": {
        "id": "vWgtFZP5OCJi"
      },
      "execution_count": 20,
      "outputs": []
    },
    {
      "cell_type": "code",
      "source": [
        "# Assuming X_test is a tensor and you want to extract the first sample\n",
        "X_test_sample = X_test[0].clone().detach().unsqueeze(0).float()  # Add batch dimension and detach\n",
        "print(X_test_sample)"
      ],
      "metadata": {
        "id": "wXM9zpl2OMPJ",
        "colab": {
          "base_uri": "https://localhost:8080/"
        },
        "outputId": "5fe59a06-0818-4ee2-8c09-47c7df3b8962"
      },
      "execution_count": 21,
      "outputs": [
        {
          "output_type": "stream",
          "name": "stdout",
          "text": [
            "tensor([[-3.0970, -2.6260, -0.9990, -0.8700, -0.0450, -0.4930]])\n"
          ]
        }
      ]
    },
    {
      "cell_type": "code",
      "source": [
        "# Load the best model after training\n",
        "model.load_state_dict(torch.load(best_model_path))\n",
        "print(\"Best model loaded for further evaluation or inference.\")"
      ],
      "metadata": {
        "id": "iqxhWP_UQORR",
        "colab": {
          "base_uri": "https://localhost:8080/"
        },
        "outputId": "b7951655-1be8-437a-bf03-7f25e37203b2"
      },
      "execution_count": 22,
      "outputs": [
        {
          "output_type": "stream",
          "name": "stdout",
          "text": [
            "Best model loaded for further evaluation or inference.\n"
          ]
        },
        {
          "output_type": "stream",
          "name": "stderr",
          "text": [
            "<ipython-input-22-e99125239d63>:2: FutureWarning: You are using `torch.load` with `weights_only=False` (the current default value), which uses the default pickle module implicitly. It is possible to construct malicious pickle data which will execute arbitrary code during unpickling (See https://github.com/pytorch/pytorch/blob/main/SECURITY.md#untrusted-models for more details). In a future release, the default value for `weights_only` will be flipped to `True`. This limits the functions that could be executed during unpickling. Arbitrary objects will no longer be allowed to be loaded via this mode unless they are explicitly allowlisted by the user via `torch.serialization.add_safe_globals`. We recommend you start setting `weights_only=True` for any use case where you don't have full control of the loaded file. Please open an issue on GitHub for any issues related to this experimental feature.\n",
            "  model.load_state_dict(torch.load(best_model_path))\n"
          ]
        }
      ]
    },
    {
      "cell_type": "code",
      "source": [
        "def compute_2x2_jacobian(model, inputs):\n",
        "    # Ensure input gradients are enabled\n",
        "    if not inputs.requires_grad:\n",
        "        inputs.requires_grad = True\n",
        "\n",
        "    # Forward pass\n",
        "    outputs = model(inputs)\n",
        "\n",
        "    # Select outputs of interest\n",
        "    ft_x, ft_y = outputs[2], outputs[3]\n",
        "\n",
        "    # Initialize the 2x2 Jacobian matrix\n",
        "    jacobian = torch.zeros(2, 2)\n",
        "\n",
        "    # Compute gradients for ft_x\n",
        "    grad_ft_x = torch.autograd.grad(ft_x, inputs, retain_graph=True, create_graph=True)[0]\n",
        "    jacobian[0, 0] = grad_ft_x[0]  # ∂ft_x/∂j0\n",
        "    jacobian[0, 1] = grad_ft_x[1]  # ∂ft_x/∂j1\n",
        "\n",
        "    # Compute gradients for ft_y\n",
        "    grad_ft_y = torch.autograd.grad(ft_y, inputs, retain_graph=True, create_graph=True)[0]\n",
        "    jacobian[1, 0] = grad_ft_y[0]  # ∂ft_y/∂j0\n",
        "    jacobian[1, 1] = grad_ft_y[1]  # ∂ft_y/∂j1\n",
        "\n",
        "    return jacobian"
      ],
      "metadata": {
        "id": "yNbeiZ1mRJRk"
      },
      "execution_count": 23,
      "outputs": []
    },
    {
      "cell_type": "markdown",
      "source": [
        "3.2. Compare the computed Jacobian with the analytical Jacobian for the 2-joint robot."
      ],
      "metadata": {
        "id": "rcFxsQjkJx1l"
      }
    },
    {
      "cell_type": "code",
      "source": [
        "import numpy as np\n",
        "\n",
        "# Analytical Jacobian for a 2-DOF robot\n",
        "def analytical_jacobian_from_test(data):\n",
        "    # Extract joint angles from data\n",
        "    j0 = data[0]  # j0\n",
        "    j1 = data[1]  # j1\n",
        "\n",
        "    l1 = 1.0  # Link 1 length\n",
        "    l2 = 1.0  # Link 2 length\n",
        "\n",
        "    # Calculate the Jacobian elements using the analytical formula\n",
        "    J = np.array([\n",
        "        [-l1 * np.sin(j0) - l2 * np.sin(j0 + j1), -l2 * np.sin(j0 + j1)],\n",
        "        [l1 * np.cos(j0) + l2 * np.cos(j0 + j1), l2 * np.cos(j0 + j1)]\n",
        "    ])\n",
        "    return J"
      ],
      "metadata": {
        "id": "ZwQ2k3qMJ2Jp"
      },
      "execution_count": 24,
      "outputs": []
    },
    {
      "cell_type": "markdown",
      "source": [
        "- Compute Diference between jacobian one iteration"
      ],
      "metadata": {
        "id": "XRZiP84yU3Nw"
      }
    },
    {
      "cell_type": "code",
      "source": [
        "import numpy as np\n",
        "import torch\n",
        "\n",
        "#Numerical Jacobian (calculated by FK_Jacobian)\n",
        "X_test_sample = torch.tensor([-3.0970, -2.6260, -0.9990, -0.8700, -0.0450, -0.4930], requires_grad=True)\n",
        "jacobian_numerical = compute_2x2_jacobian(model, X_test_sample)\n",
        "\n",
        "# Analytical Jacobian (calculated using analytical formula)X_test_sample = [-3.0970, -2.6260, -0.9990, -0.8700, -0.0450, -0.4930] # Extract joint angles for comparison\n",
        "X_test_sample = X_test_sample.detach().numpy()\n",
        "J_analytical = analytical_jacobian_from_test(X_test_sample)\n",
        "\n",
        "# Print both Jacobians\n",
        "print(\"Numerical Jacobian (PyTorch):\\n\", jacobian_numerical)\n",
        "print(\"Analytical Jacobian (2-DOF Robot):\\n\", J_analytical)\n",
        "\n",
        "# Compare both Jacobians by calculating the difference\n",
        "jacobian_difference = (jacobian_numerical.detach().numpy() - J_analytical)\n",
        "print(\"Difference between Numerical and Analytical Jacobians:\\n\", jacobian_difference)"
      ],
      "metadata": {
        "id": "uopqI4FVOPVR",
        "colab": {
          "base_uri": "https://localhost:8080/"
        },
        "outputId": "db948682-4104-46b4-f7e6-5f0cf7c169be"
      },
      "execution_count": 25,
      "outputs": [
        {
          "output_type": "stream",
          "name": "stdout",
          "text": [
            "Numerical Jacobian (PyTorch):\n",
            " tensor([[0.1013, 0.1663],\n",
            "        [0.1338, 0.1217]], grad_fn=<CopySlices>)\n",
            "Analytical Jacobian (2-DOF Robot):\n",
            " [[-0.48676559 -0.53134358]\n",
            " [-0.15184945  0.84715647]]\n",
            "Difference between Numerical and Analytical Jacobians:\n",
            " [[ 0.58806906  0.69767836]\n",
            " [ 0.28561316 -0.72547188]]\n"
          ]
        }
      ]
    },
    {
      "cell_type": "markdown",
      "source": [
        "- Compute diferences Full test set"
      ],
      "metadata": {
        "id": "Zv6EgK8yU7PO"
      }
    },
    {
      "cell_type": "code",
      "source": [
        "# Initialize lists to store results\n",
        "numerical_jacobians = []\n",
        "analytical_jacobians = []\n",
        "jacobian_differences = []\n",
        "\n",
        "# Loop through the test set to compute the Jacobians and differences\n",
        "for i in range(len(X_test)):\n",
        "    # Get the current sample (convert to tensor and ensure requires_grad=True)\n",
        "    X_test_sample = torch.tensor(X_test[i], dtype=torch.float32, requires_grad=True)\n",
        "\n",
        "    # Compute the numerical Jacobian using the model\n",
        "    jacobian_numerical = compute_2x2_jacobian(model, X_test_sample)\n",
        "\n",
        "    # Compute the analytical Jacobian\n",
        "    X_test_sample_np = X_test_sample.detach().numpy()\n",
        "    J_analytical = analytical_jacobian_from_test(X_test_sample_np)\n",
        "\n",
        "    # Calculate the difference between the Jacobians\n",
        "    jacobian_difference = jacobian_numerical.detach().numpy() - J_analytical\n",
        "\n",
        "    # Store the results\n",
        "    numerical_jacobians.append(jacobian_numerical.detach().numpy())\n",
        "    analytical_jacobians.append(J_analytical)\n",
        "    jacobian_differences.append(jacobian_difference)\n",
        "\n",
        "# Convert lists to numpy arrays for analysis\n",
        "numerical_jacobians = np.array(numerical_jacobians)\n",
        "analytical_jacobians = np.array(analytical_jacobians)\n",
        "jacobian_differences = np.array(jacobian_differences)\n",
        "\n",
        "# Calculate the mean difference\n",
        "mean_difference = np.mean(np.abs(jacobian_differences), axis=(1, 2))  # Mean of absolute differences for each sample\n",
        "mean_difference_overall = np.mean(mean_difference)  # Overall mean difference\n",
        "\n",
        "# Calculate percentage of times analytical Jacobian is bigger or smaller\n",
        "analytical_bigger = np.sum(np.linalg.norm(analytical_jacobians, axis=(1, 2)) > np.linalg.norm(numerical_jacobians, axis=(1, 2)))\n",
        "analytical_smaller = np.sum(np.linalg.norm(analytical_jacobians, axis=(1, 2)) < np.linalg.norm(numerical_jacobians, axis=(1, 2)))\n",
        "total = len(X_test)\n",
        "\n",
        "percent_bigger = (analytical_bigger / total) * 100\n",
        "percent_smaller = (analytical_smaller / total) * 100\n",
        "\n",
        "# Print results\n",
        "print(f\"Mean difference between numerical and analytical Jacobians: {mean_difference_overall:.6f}\")\n",
        "print(f\"Percentage of cases where analytical Jacobian is bigger: {percent_bigger:.2f}%\")\n",
        "print(f\"Percentage of cases where analytical Jacobian is smaller: {percent_smaller:.2f}%\")"
      ],
      "metadata": {
        "id": "OcXMDYgJb2Dw",
        "colab": {
          "base_uri": "https://localhost:8080/"
        },
        "outputId": "ecd834ee-42a0-48cc-dfa6-8d355511dcae"
      },
      "execution_count": 26,
      "outputs": [
        {
          "output_type": "stream",
          "name": "stderr",
          "text": [
            "<ipython-input-26-bf3efbc43277>:9: UserWarning: To copy construct from a tensor, it is recommended to use sourceTensor.clone().detach() or sourceTensor.clone().detach().requires_grad_(True), rather than torch.tensor(sourceTensor).\n",
            "  X_test_sample = torch.tensor(X_test[i], dtype=torch.float32, requires_grad=True)\n"
          ]
        },
        {
          "output_type": "stream",
          "name": "stdout",
          "text": [
            "Mean difference between numerical and analytical Jacobians: 0.656937\n",
            "Percentage of cases where analytical Jacobian is bigger: 100.00%\n",
            "Percentage of cases where analytical Jacobian is smaller: 0.00%\n"
          ]
        }
      ]
    },
    {
      "cell_type": "markdown",
      "source": [
        "## Train the model now with different Hyperparameters\n",
        "\n",
        "- second best according to grid search"
      ],
      "metadata": {
        "id": "jK0WcVx0ni6T"
      }
    },
    {
      "cell_type": "code",
      "source": [
        "# Hyperparameters\n",
        "hidden_size = 64\n",
        "learning_rate = 0.01\n",
        "num_epochs = 500"
      ],
      "metadata": {
        "id": "KHB7jHTVWG_g"
      },
      "execution_count": 28,
      "outputs": []
    },
    {
      "cell_type": "code",
      "source": [
        "model = ForwardKinematicsModel(hidden_size=hidden_size)"
      ],
      "metadata": {
        "id": "EF1xnE0voBOo"
      },
      "execution_count": 29,
      "outputs": []
    },
    {
      "cell_type": "code",
      "source": [
        "# Initialize variables for early stopping\n",
        "best_val_loss = float('inf')\n",
        "patience = 4\n",
        "no_improvement_epochs = 0\n",
        "best_model_path = \"best_model_2.pth\"  # Path to save the best model\n",
        "\n",
        "# Training loop with early stopping\n",
        "for epoch in range(num_epochs):\n",
        "    model.train()\n",
        "\n",
        "    # Forward pass\n",
        "    outputs = model(X_train)\n",
        "    loss = criterion(outputs, y_train)\n",
        "\n",
        "    # Backward pass and optimization\n",
        "    optimizer.zero_grad()\n",
        "    loss.backward()\n",
        "    optimizer.step()\n",
        "\n",
        "    # Evaluate on validation set\n",
        "    if (epoch + 1) % 10 == 0:\n",
        "        model.eval()\n",
        "        with torch.no_grad():\n",
        "            val_outputs = model(X_val)\n",
        "            val_loss = criterion(val_outputs, y_val)\n",
        "\n",
        "            # Calculate additional metrics\n",
        "            mae = mean_absolute_error(y_val.numpy(), val_outputs.numpy())\n",
        "            r2 = r2_score(y_val.numpy(), val_outputs.numpy())\n",
        "\n",
        "            print(f\"Epoch [{epoch+1}/{num_epochs}], \"\n",
        "                  f\"Train Loss: {loss.item():.4f}, Val Loss: {val_loss.item():.4f}, \"\n",
        "                  f\"MAE: {mae:.4f}, R^2: {r2:.4f}\")\n",
        "\n",
        "            # Early stopping check\n",
        "            if val_loss < best_val_loss:\n",
        "                best_val_loss = val_loss\n",
        "                no_improvement_epochs = 0\n",
        "                # Save the best model\n",
        "                torch.save(model.state_dict(), best_model_path)\n",
        "                print(f\"Model saved at epoch {epoch+1} with Val Loss: {val_loss:.4f}\")\n",
        "            else:\n",
        "                no_improvement_epochs += 1\n",
        "\n",
        "            if no_improvement_epochs >= patience:\n",
        "                print(f\"Early stopping triggered at epoch {epoch+1}. Best Val Loss: {best_val_loss:.4f}\")\n",
        "\n",
        "        model.train()  # Switch back to training mode"
      ],
      "metadata": {
        "id": "C4JFlT6EoAhx",
        "colab": {
          "base_uri": "https://localhost:8080/"
        },
        "outputId": "5fe37e80-5f28-41f5-fbca-487461b58e1d"
      },
      "execution_count": 30,
      "outputs": [
        {
          "output_type": "stream",
          "name": "stdout",
          "text": [
            "Epoch [10/500], Train Loss: 0.2809, Val Loss: 0.2615, MAE: 0.3748, R^2: -0.8159\n",
            "Model saved at epoch 10 with Val Loss: 0.2615\n",
            "Epoch [20/500], Train Loss: 0.2813, Val Loss: 0.2615, MAE: 0.3748, R^2: -0.8159\n",
            "Epoch [30/500], Train Loss: 0.2815, Val Loss: 0.2615, MAE: 0.3748, R^2: -0.8159\n",
            "Epoch [40/500], Train Loss: 0.2816, Val Loss: 0.2615, MAE: 0.3748, R^2: -0.8159\n",
            "Epoch [50/500], Train Loss: 0.2816, Val Loss: 0.2615, MAE: 0.3748, R^2: -0.8159\n",
            "Early stopping triggered at epoch 50. Best Val Loss: 0.2615\n",
            "Epoch [60/500], Train Loss: 0.2817, Val Loss: 0.2615, MAE: 0.3748, R^2: -0.8159\n",
            "Early stopping triggered at epoch 60. Best Val Loss: 0.2615\n",
            "Epoch [70/500], Train Loss: 0.2812, Val Loss: 0.2615, MAE: 0.3748, R^2: -0.8159\n",
            "Early stopping triggered at epoch 70. Best Val Loss: 0.2615\n",
            "Epoch [80/500], Train Loss: 0.2809, Val Loss: 0.2615, MAE: 0.3748, R^2: -0.8159\n",
            "Early stopping triggered at epoch 80. Best Val Loss: 0.2615\n",
            "Epoch [90/500], Train Loss: 0.2812, Val Loss: 0.2615, MAE: 0.3748, R^2: -0.8159\n",
            "Early stopping triggered at epoch 90. Best Val Loss: 0.2615\n",
            "Epoch [100/500], Train Loss: 0.2815, Val Loss: 0.2615, MAE: 0.3748, R^2: -0.8159\n",
            "Early stopping triggered at epoch 100. Best Val Loss: 0.2615\n",
            "Epoch [110/500], Train Loss: 0.2813, Val Loss: 0.2615, MAE: 0.3748, R^2: -0.8159\n",
            "Early stopping triggered at epoch 110. Best Val Loss: 0.2615\n",
            "Epoch [120/500], Train Loss: 0.2811, Val Loss: 0.2615, MAE: 0.3748, R^2: -0.8159\n",
            "Early stopping triggered at epoch 120. Best Val Loss: 0.2615\n",
            "Epoch [130/500], Train Loss: 0.2810, Val Loss: 0.2615, MAE: 0.3748, R^2: -0.8159\n",
            "Early stopping triggered at epoch 130. Best Val Loss: 0.2615\n",
            "Epoch [140/500], Train Loss: 0.2809, Val Loss: 0.2615, MAE: 0.3748, R^2: -0.8159\n",
            "Early stopping triggered at epoch 140. Best Val Loss: 0.2615\n",
            "Epoch [150/500], Train Loss: 0.2817, Val Loss: 0.2615, MAE: 0.3748, R^2: -0.8159\n",
            "Early stopping triggered at epoch 150. Best Val Loss: 0.2615\n",
            "Epoch [160/500], Train Loss: 0.2813, Val Loss: 0.2615, MAE: 0.3748, R^2: -0.8159\n",
            "Early stopping triggered at epoch 160. Best Val Loss: 0.2615\n",
            "Epoch [170/500], Train Loss: 0.2815, Val Loss: 0.2615, MAE: 0.3748, R^2: -0.8159\n",
            "Early stopping triggered at epoch 170. Best Val Loss: 0.2615\n",
            "Epoch [180/500], Train Loss: 0.2813, Val Loss: 0.2615, MAE: 0.3748, R^2: -0.8159\n",
            "Early stopping triggered at epoch 180. Best Val Loss: 0.2615\n",
            "Epoch [190/500], Train Loss: 0.2814, Val Loss: 0.2615, MAE: 0.3748, R^2: -0.8159\n",
            "Early stopping triggered at epoch 190. Best Val Loss: 0.2615\n",
            "Epoch [200/500], Train Loss: 0.2812, Val Loss: 0.2615, MAE: 0.3748, R^2: -0.8159\n",
            "Early stopping triggered at epoch 200. Best Val Loss: 0.2615\n",
            "Epoch [210/500], Train Loss: 0.2815, Val Loss: 0.2615, MAE: 0.3748, R^2: -0.8159\n",
            "Early stopping triggered at epoch 210. Best Val Loss: 0.2615\n",
            "Epoch [220/500], Train Loss: 0.2814, Val Loss: 0.2615, MAE: 0.3748, R^2: -0.8159\n",
            "Early stopping triggered at epoch 220. Best Val Loss: 0.2615\n",
            "Epoch [230/500], Train Loss: 0.2811, Val Loss: 0.2615, MAE: 0.3748, R^2: -0.8159\n",
            "Early stopping triggered at epoch 230. Best Val Loss: 0.2615\n",
            "Epoch [240/500], Train Loss: 0.2811, Val Loss: 0.2615, MAE: 0.3748, R^2: -0.8159\n",
            "Early stopping triggered at epoch 240. Best Val Loss: 0.2615\n",
            "Epoch [250/500], Train Loss: 0.2811, Val Loss: 0.2615, MAE: 0.3748, R^2: -0.8159\n",
            "Early stopping triggered at epoch 250. Best Val Loss: 0.2615\n",
            "Epoch [260/500], Train Loss: 0.2814, Val Loss: 0.2615, MAE: 0.3748, R^2: -0.8159\n",
            "Early stopping triggered at epoch 260. Best Val Loss: 0.2615\n",
            "Epoch [270/500], Train Loss: 0.2815, Val Loss: 0.2615, MAE: 0.3748, R^2: -0.8159\n",
            "Early stopping triggered at epoch 270. Best Val Loss: 0.2615\n",
            "Epoch [280/500], Train Loss: 0.2809, Val Loss: 0.2615, MAE: 0.3748, R^2: -0.8159\n",
            "Early stopping triggered at epoch 280. Best Val Loss: 0.2615\n",
            "Epoch [290/500], Train Loss: 0.2810, Val Loss: 0.2615, MAE: 0.3748, R^2: -0.8159\n",
            "Early stopping triggered at epoch 290. Best Val Loss: 0.2615\n",
            "Epoch [300/500], Train Loss: 0.2814, Val Loss: 0.2615, MAE: 0.3748, R^2: -0.8159\n",
            "Early stopping triggered at epoch 300. Best Val Loss: 0.2615\n",
            "Epoch [310/500], Train Loss: 0.2815, Val Loss: 0.2615, MAE: 0.3748, R^2: -0.8159\n",
            "Early stopping triggered at epoch 310. Best Val Loss: 0.2615\n",
            "Epoch [320/500], Train Loss: 0.2812, Val Loss: 0.2615, MAE: 0.3748, R^2: -0.8159\n",
            "Early stopping triggered at epoch 320. Best Val Loss: 0.2615\n",
            "Epoch [330/500], Train Loss: 0.2814, Val Loss: 0.2615, MAE: 0.3748, R^2: -0.8159\n",
            "Early stopping triggered at epoch 330. Best Val Loss: 0.2615\n",
            "Epoch [340/500], Train Loss: 0.2816, Val Loss: 0.2615, MAE: 0.3748, R^2: -0.8159\n",
            "Early stopping triggered at epoch 340. Best Val Loss: 0.2615\n",
            "Epoch [350/500], Train Loss: 0.2813, Val Loss: 0.2615, MAE: 0.3748, R^2: -0.8159\n",
            "Early stopping triggered at epoch 350. Best Val Loss: 0.2615\n",
            "Epoch [360/500], Train Loss: 0.2815, Val Loss: 0.2615, MAE: 0.3748, R^2: -0.8159\n",
            "Early stopping triggered at epoch 360. Best Val Loss: 0.2615\n",
            "Epoch [370/500], Train Loss: 0.2810, Val Loss: 0.2615, MAE: 0.3748, R^2: -0.8159\n",
            "Early stopping triggered at epoch 370. Best Val Loss: 0.2615\n",
            "Epoch [380/500], Train Loss: 0.2813, Val Loss: 0.2615, MAE: 0.3748, R^2: -0.8159\n",
            "Early stopping triggered at epoch 380. Best Val Loss: 0.2615\n",
            "Epoch [390/500], Train Loss: 0.2816, Val Loss: 0.2615, MAE: 0.3748, R^2: -0.8159\n",
            "Early stopping triggered at epoch 390. Best Val Loss: 0.2615\n",
            "Epoch [400/500], Train Loss: 0.2811, Val Loss: 0.2615, MAE: 0.3748, R^2: -0.8159\n",
            "Early stopping triggered at epoch 400. Best Val Loss: 0.2615\n",
            "Epoch [410/500], Train Loss: 0.2811, Val Loss: 0.2615, MAE: 0.3748, R^2: -0.8159\n",
            "Early stopping triggered at epoch 410. Best Val Loss: 0.2615\n",
            "Epoch [420/500], Train Loss: 0.2813, Val Loss: 0.2615, MAE: 0.3748, R^2: -0.8159\n",
            "Early stopping triggered at epoch 420. Best Val Loss: 0.2615\n",
            "Epoch [430/500], Train Loss: 0.2813, Val Loss: 0.2615, MAE: 0.3748, R^2: -0.8159\n",
            "Early stopping triggered at epoch 430. Best Val Loss: 0.2615\n",
            "Epoch [440/500], Train Loss: 0.2817, Val Loss: 0.2615, MAE: 0.3748, R^2: -0.8159\n",
            "Early stopping triggered at epoch 440. Best Val Loss: 0.2615\n",
            "Epoch [450/500], Train Loss: 0.2812, Val Loss: 0.2615, MAE: 0.3748, R^2: -0.8159\n",
            "Early stopping triggered at epoch 450. Best Val Loss: 0.2615\n",
            "Epoch [460/500], Train Loss: 0.2811, Val Loss: 0.2615, MAE: 0.3748, R^2: -0.8159\n",
            "Early stopping triggered at epoch 460. Best Val Loss: 0.2615\n",
            "Epoch [470/500], Train Loss: 0.2814, Val Loss: 0.2615, MAE: 0.3748, R^2: -0.8159\n",
            "Early stopping triggered at epoch 470. Best Val Loss: 0.2615\n",
            "Epoch [480/500], Train Loss: 0.2812, Val Loss: 0.2615, MAE: 0.3748, R^2: -0.8159\n",
            "Early stopping triggered at epoch 480. Best Val Loss: 0.2615\n",
            "Epoch [490/500], Train Loss: 0.2810, Val Loss: 0.2615, MAE: 0.3748, R^2: -0.8159\n",
            "Early stopping triggered at epoch 490. Best Val Loss: 0.2615\n",
            "Epoch [500/500], Train Loss: 0.2811, Val Loss: 0.2615, MAE: 0.3748, R^2: -0.8159\n",
            "Early stopping triggered at epoch 500. Best Val Loss: 0.2615\n"
          ]
        }
      ]
    },
    {
      "cell_type": "code",
      "source": [
        "# Visualization\n",
        "epochs = range(1, len(train_losses) + 1)\n",
        "plt.figure(figsize=(15, 5))\n",
        "\n",
        "# Plot training and validation loss\n",
        "plt.subplot(1, 3, 1)\n",
        "plt.plot(epochs, train_losses, label=\"Train Loss\")\n",
        "plt.plot(range(10, len(val_losses)*10 + 1, 10), val_losses, label=\"Validation Loss\", linestyle=\"--\")\n",
        "plt.xlabel(\"Epochs\")\n",
        "plt.ylabel(\"Loss\")\n",
        "plt.title(\"Training and Validation Loss\")\n",
        "plt.legend()\n",
        "\n",
        "# Plot validation MAE\n",
        "plt.subplot(1, 3, 2)\n",
        "plt.plot(range(10, len(val_maes)*10 + 1, 10), val_maes, label=\"Validation MAE\", color=\"orange\")\n",
        "plt.xlabel(\"Epochs\")\n",
        "plt.ylabel(\"MAE\")\n",
        "plt.title(\"Validation Mean Absolute Error\")\n",
        "plt.legend()\n",
        "\n",
        "# Plot validation R^2\n",
        "plt.subplot(1, 3, 3)\n",
        "plt.plot(range(10, len(val_r2_scores)*10 + 1, 10), val_r2_scores, label=\"Validation R^2\", color=\"green\")\n",
        "plt.xlabel(\"Epochs\")\n",
        "plt.ylabel(\"R^2 Score\")\n",
        "plt.title(\"Validation R^2 Score\")\n",
        "plt.legend()\n",
        "\n",
        "plt.tight_layout()\n",
        "plt.show()"
      ],
      "metadata": {
        "id": "n3HL8uUDoFpZ",
        "colab": {
          "base_uri": "https://localhost:8080/",
          "height": 507
        },
        "outputId": "02de06ce-77d1-427d-b861-d383389d11d3"
      },
      "execution_count": 31,
      "outputs": [
        {
          "output_type": "display_data",
          "data": {
            "text/plain": [
              "<Figure size 1500x500 with 3 Axes>"
            ],
            "image/png": "[encoded data removed]"
          },
          "metadata": {}
        }
      ]
    },
    {
      "cell_type": "code",
      "source": [
        "# Test the model\n",
        "model.eval()\n",
        "with torch.no_grad():\n",
        "    test_outputs = model(X_test)\n",
        "    test_loss = criterion(test_outputs, y_test)\n",
        "    mae_test = mean_absolute_error(y_test.numpy(), test_outputs.numpy())\n",
        "    r2_test = r2_score(y_test.numpy(), test_outputs.numpy())\n",
        "\n",
        "    print(f\"Test Loss: {test_loss.item():.4f}\")\n",
        "    print(f\"Test MAE: {mae_test:.4f}\")\n",
        "    print(f\"Test R^2: {r2_test:.4f}\")"
      ],
      "metadata": {
        "id": "VOORWw-yoJWU",
        "colab": {
          "base_uri": "https://localhost:8080/"
        },
        "outputId": "472d70c0-2fcd-488a-8a68-96ec55ca1af0"
      },
      "execution_count": 32,
      "outputs": [
        {
          "output_type": "stream",
          "name": "stdout",
          "text": [
            "Test Loss: 0.2632\n",
            "Test MAE: 0.3767\n",
            "Test R^2: -0.9809\n"
          ]
        }
      ]
    },
    {
      "cell_type": "code",
      "source": [
        "X_test = X_test.clone().detach().float() if isinstance(X_test, torch.Tensor) else torch.tensor(X_test, dtype=torch.float32)\n",
        "y_test = y_test.clone().detach().float() if isinstance(y_test, torch.Tensor) else torch.tensor(y_test, dtype=torch.float32)"
      ],
      "metadata": {
        "id": "sJ9ORt_govxq"
      },
      "execution_count": 33,
      "outputs": []
    },
    {
      "cell_type": "code",
      "source": [
        "# Assuming X_test is a tensor and you want to extract the first sample\n",
        "X_test_sample = X_test[0].clone().detach().unsqueeze(0).float()  # Add batch dimension and detach\n",
        "print(X_test_sample)"
      ],
      "metadata": {
        "id": "h7rsTc8zo1f9",
        "colab": {
          "base_uri": "https://localhost:8080/"
        },
        "outputId": "77166d81-a883-4a54-9dc8-ffdc7f370782"
      },
      "execution_count": 34,
      "outputs": [
        {
          "output_type": "stream",
          "name": "stdout",
          "text": [
            "tensor([[-3.0970, -2.6260, -0.9990, -0.8700, -0.0450, -0.4930]])\n"
          ]
        }
      ]
    },
    {
      "cell_type": "code",
      "source": [
        "import numpy as np\n",
        "import torch\n",
        "\n",
        "#Numerical Jacobian (calculated by FK_Jacobian)\n",
        "X_test_sample = torch.tensor([-3.0970, -2.6260, -0.9990, -0.8700, -0.0450, -0.4930], requires_grad=True)\n",
        "jacobian_numerical = compute_2x2_jacobian(model, X_test_sample)\n",
        "\n",
        "# Analytical Jacobian (calculated using analytical formula)X_test_sample = [-3.0970, -2.6260, -0.9990, -0.8700, -0.0450, -0.4930] # Extract joint angles for comparison\n",
        "X_test_sample = X_test_sample.detach().numpy()\n",
        "J_analytical = analytical_jacobian_from_test(X_test_sample)\n",
        "\n",
        "# Print both Jacobians\n",
        "print(\"Numerical Jacobian (PyTorch):\\n\", jacobian_numerical)\n",
        "print(\"Analytical Jacobian (2-DOF Robot):\\n\", J_analytical)\n",
        "\n",
        "# Compare both Jacobians by calculating the difference\n",
        "jacobian_difference = (jacobian_numerical.detach().numpy() - J_analytical)\n",
        "print(\"Difference between Numerical and Analytical Jacobians:\\n\", jacobian_difference)"
      ],
      "metadata": {
        "id": "V4XkBpCgpkAc",
        "colab": {
          "base_uri": "https://localhost:8080/"
        },
        "outputId": "ddb643fe-19f4-4384-dd14-a1a534cf48d0"
      },
      "execution_count": 35,
      "outputs": [
        {
          "output_type": "stream",
          "name": "stdout",
          "text": [
            "Numerical Jacobian (PyTorch):\n",
            " tensor([[-0.0576, -0.0020],\n",
            "        [ 0.0374,  0.0412]], grad_fn=<CopySlices>)\n",
            "Analytical Jacobian (2-DOF Robot):\n",
            " [[-0.48676559 -0.53134358]\n",
            " [-0.15184945  0.84715647]]\n",
            "Difference between Numerical and Analytical Jacobians:\n",
            " [[ 0.42914237  0.52932023]\n",
            " [ 0.18926773 -0.80597486]]\n"
          ]
        }
      ]
    },
    {
      "cell_type": "code",
      "source": [
        "# Initialize lists to store results\n",
        "numerical_jacobians = []\n",
        "analytical_jacobians = []\n",
        "jacobian_differences = []\n",
        "\n",
        "# Loop through the test set to compute the Jacobians and differences\n",
        "for i in range(len(X_test)):\n",
        "    # Get the current sample (convert to tensor and ensure requires_grad=True)\n",
        "    X_test_sample = torch.tensor(X_test[i], dtype=torch.float32, requires_grad=True)\n",
        "\n",
        "    # Compute the numerical Jacobian using the model\n",
        "    jacobian_numerical = compute_2x2_jacobian(model, X_test_sample)\n",
        "\n",
        "    # Compute the analytical Jacobian\n",
        "    X_test_sample_np = X_test_sample.detach().numpy()\n",
        "    J_analytical = analytical_jacobian_from_test(X_test_sample_np)\n",
        "\n",
        "    # Calculate the difference between the Jacobians\n",
        "    jacobian_difference = jacobian_numerical.detach().numpy() - J_analytical\n",
        "\n",
        "    # Store the results\n",
        "    numerical_jacobians.append(jacobian_numerical.detach().numpy())\n",
        "    analytical_jacobians.append(J_analytical)\n",
        "    jacobian_differences.append(jacobian_difference)\n",
        "\n",
        "# Convert lists to numpy arrays for analysis\n",
        "numerical_jacobians = np.array(numerical_jacobians)\n",
        "analytical_jacobians = np.array(analytical_jacobians)\n",
        "jacobian_differences = np.array(jacobian_differences)\n",
        "\n",
        "# Calculate the mean difference\n",
        "mean_difference = np.mean(np.abs(jacobian_differences), axis=(1, 2))  # Mean of absolute differences for each sample\n",
        "mean_difference_overall = np.mean(mean_difference)  # Overall mean difference\n",
        "\n",
        "# Calculate percentage of times analytical Jacobian is bigger or smaller\n",
        "analytical_bigger = np.sum(np.linalg.norm(analytical_jacobians, axis=(1, 2)) > np.linalg.norm(numerical_jacobians, axis=(1, 2)))\n",
        "analytical_smaller = np.sum(np.linalg.norm(analytical_jacobians, axis=(1, 2)) < np.linalg.norm(numerical_jacobians, axis=(1, 2)))\n",
        "total = len(X_test)\n",
        "\n",
        "percent_bigger = (analytical_bigger / total) * 100\n",
        "percent_smaller = (analytical_smaller / total) * 100\n",
        "\n",
        "# Print results\n",
        "print(f\"Mean difference between numerical and analytical Jacobians: {mean_difference_overall:.6f}\")\n",
        "print(f\"Percentage of cases where analytical Jacobian is bigger: {percent_bigger:.2f}%\")\n",
        "print(f\"Percentage of cases where analytical Jacobian is smaller: {percent_smaller:.2f}%\")"
      ],
      "metadata": {
        "id": "OpUQatLBpm-F",
        "colab": {
          "base_uri": "https://localhost:8080/"
        },
        "outputId": "871f35e5-c43d-48cc-d70e-56024f708636"
      },
      "execution_count": 36,
      "outputs": [
        {
          "output_type": "stream",
          "name": "stderr",
          "text": [
            "<ipython-input-36-bf3efbc43277>:9: UserWarning: To copy construct from a tensor, it is recommended to use sourceTensor.clone().detach() or sourceTensor.clone().detach().requires_grad_(True), rather than torch.tensor(sourceTensor).\n",
            "  X_test_sample = torch.tensor(X_test[i], dtype=torch.float32, requires_grad=True)\n"
          ]
        },
        {
          "output_type": "stream",
          "name": "stdout",
          "text": [
            "Mean difference between numerical and analytical Jacobians: 0.651115\n",
            "Percentage of cases where analytical Jacobian is bigger: 100.00%\n",
            "Percentage of cases where analytical Jacobian is smaller: 0.00%\n"
          ]
        }
      ]
    }
  ]
}